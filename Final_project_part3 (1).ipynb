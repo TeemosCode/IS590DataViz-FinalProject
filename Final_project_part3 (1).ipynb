{
 "cells": [
  {
   "cell_type": "code",
   "execution_count": 1,
   "metadata": {},
   "outputs": [],
   "source": [
    "import pandas as pd\n",
    "import requests\n",
    "import io\n",
    "import bqplot\n",
    "import ipywidgets\n",
    "import matplotlib.pyplot as plt\n",
    "import seaborn as sns\n",
    "import plotly.plotly as py"
   ]
  },
  {
   "cell_type": "code",
   "execution_count": 2,
   "metadata": {},
   "outputs": [],
   "source": [
    "data = pd.read_csv(\"police-arrests-upload_20181105.csv\", low_memory = False)"
   ]
  },
  {
   "cell_type": "code",
   "execution_count": 3,
   "metadata": {
    "scrolled": true
   },
   "outputs": [
    {
     "data": {
      "text/html": [
       "<div>\n",
       "<style scoped>\n",
       "    .dataframe tbody tr th:only-of-type {\n",
       "        vertical-align: middle;\n",
       "    }\n",
       "\n",
       "    .dataframe tbody tr th {\n",
       "        vertical-align: top;\n",
       "    }\n",
       "\n",
       "    .dataframe thead th {\n",
       "        text-align: right;\n",
       "    }\n",
       "</style>\n",
       "<table border=\"1\" class=\"dataframe\">\n",
       "  <thead>\n",
       "    <tr style=\"text-align: right;\">\n",
       "      <th></th>\n",
       "      <th>arrest_code</th>\n",
       "      <th>incident_number</th>\n",
       "      <th>date_of_arrest</th>\n",
       "      <th>year_of_arrest</th>\n",
       "      <th>month_of_arrest</th>\n",
       "      <th>arrest_type_description</th>\n",
       "      <th>crime_code</th>\n",
       "      <th>crime_code_description</th>\n",
       "      <th>crime_category_code</th>\n",
       "      <th>crime_category_description</th>\n",
       "      <th>...</th>\n",
       "      <th>arrestee_sex</th>\n",
       "      <th>arrestee_race</th>\n",
       "      <th>arrestee_employment_description</th>\n",
       "      <th>arrestee_residency_description</th>\n",
       "      <th>arrestee_home_city</th>\n",
       "      <th>arrestee_home_state</th>\n",
       "      <th>arrestee_home_zip</th>\n",
       "      <th>arrest_resolution</th>\n",
       "      <th>count</th>\n",
       "      <th>arrestee_home_city_mapped</th>\n",
       "    </tr>\n",
       "  </thead>\n",
       "  <tbody>\n",
       "    <tr>\n",
       "      <th>0</th>\n",
       "      <td>A00-00003</td>\n",
       "      <td>T00-00003</td>\n",
       "      <td>01/04/2000</td>\n",
       "      <td>2000</td>\n",
       "      <td>1</td>\n",
       "      <td>SUMMONED</td>\n",
       "      <td>2461</td>\n",
       "      <td>OPERATE UNINSURED MOTOR VEHICLE</td>\n",
       "      <td>C28</td>\n",
       "      <td>Traffic Offenses</td>\n",
       "      <td>...</td>\n",
       "      <td>MALE</td>\n",
       "      <td>BLACK</td>\n",
       "      <td>UNKNOWN</td>\n",
       "      <td>RESIDENT</td>\n",
       "      <td>CHAMPAIGN</td>\n",
       "      <td>IL</td>\n",
       "      <td>61820</td>\n",
       "      <td>BONDED OUT</td>\n",
       "      <td>1</td>\n",
       "      <td>CHAMPAIGN,IL,61820</td>\n",
       "    </tr>\n",
       "    <tr>\n",
       "      <th>1</th>\n",
       "      <td>A00-00004</td>\n",
       "      <td>T00-00004</td>\n",
       "      <td>01/04/2000</td>\n",
       "      <td>2000</td>\n",
       "      <td>1</td>\n",
       "      <td>SUMMONED</td>\n",
       "      <td>6601</td>\n",
       "      <td>SPEEDING (RADAR)</td>\n",
       "      <td>C28</td>\n",
       "      <td>Traffic Offenses</td>\n",
       "      <td>...</td>\n",
       "      <td>FEMALE</td>\n",
       "      <td>WHITE</td>\n",
       "      <td>EMPLOYED</td>\n",
       "      <td>NON-RESIDENT</td>\n",
       "      <td>POTOMAC</td>\n",
       "      <td>IL</td>\n",
       "      <td>61865</td>\n",
       "      <td>BONDED OUT</td>\n",
       "      <td>1</td>\n",
       "      <td>POTOMAC,IL,61865</td>\n",
       "    </tr>\n",
       "    <tr>\n",
       "      <th>2</th>\n",
       "      <td>A00-00006</td>\n",
       "      <td>T00-00006</td>\n",
       "      <td>01/04/2000</td>\n",
       "      <td>2000</td>\n",
       "      <td>1</td>\n",
       "      <td>SUMMONED</td>\n",
       "      <td>6601</td>\n",
       "      <td>SPEEDING (RADAR)</td>\n",
       "      <td>C28</td>\n",
       "      <td>Traffic Offenses</td>\n",
       "      <td>...</td>\n",
       "      <td>FEMALE</td>\n",
       "      <td>WHITE</td>\n",
       "      <td>UNKNOWN</td>\n",
       "      <td>RESIDENT</td>\n",
       "      <td>NaN</td>\n",
       "      <td>NaN</td>\n",
       "      <td>00000</td>\n",
       "      <td>BONDED OUT</td>\n",
       "      <td>1</td>\n",
       "      <td>,,00000</td>\n",
       "    </tr>\n",
       "    <tr>\n",
       "      <th>3</th>\n",
       "      <td>A00-00007</td>\n",
       "      <td>T00-00007</td>\n",
       "      <td>01/04/2000</td>\n",
       "      <td>2000</td>\n",
       "      <td>1</td>\n",
       "      <td>SUMMONED</td>\n",
       "      <td>6601</td>\n",
       "      <td>SPEEDING (RADAR)</td>\n",
       "      <td>C28</td>\n",
       "      <td>Traffic Offenses</td>\n",
       "      <td>...</td>\n",
       "      <td>FEMALE</td>\n",
       "      <td>WHITE</td>\n",
       "      <td>UNKNOWN</td>\n",
       "      <td>NON-RESIDENT</td>\n",
       "      <td>CHAMPAIGN</td>\n",
       "      <td>IL</td>\n",
       "      <td>61820</td>\n",
       "      <td>BONDED OUT</td>\n",
       "      <td>1</td>\n",
       "      <td>CHAMPAIGN,IL,61820</td>\n",
       "    </tr>\n",
       "    <tr>\n",
       "      <th>4</th>\n",
       "      <td>A00-00008</td>\n",
       "      <td>T00-00008</td>\n",
       "      <td>01/04/2000</td>\n",
       "      <td>2000</td>\n",
       "      <td>1</td>\n",
       "      <td>SUMMONED</td>\n",
       "      <td>2461</td>\n",
       "      <td>OPERATE UNINSURED MOTOR VEHICLE</td>\n",
       "      <td>C28</td>\n",
       "      <td>Traffic Offenses</td>\n",
       "      <td>...</td>\n",
       "      <td>MALE</td>\n",
       "      <td>WHITE</td>\n",
       "      <td>UNKNOWN</td>\n",
       "      <td>NON-RESIDENT</td>\n",
       "      <td>CHAMPAIGN</td>\n",
       "      <td>IL</td>\n",
       "      <td>61820</td>\n",
       "      <td>BONDED OUT</td>\n",
       "      <td>1</td>\n",
       "      <td>CHAMPAIGN,IL,61820</td>\n",
       "    </tr>\n",
       "  </tbody>\n",
       "</table>\n",
       "<p>5 rows × 26 columns</p>\n",
       "</div>"
      ],
      "text/plain": [
       "  arrest_code incident_number date_of_arrest  year_of_arrest  month_of_arrest  \\\n",
       "0   A00-00003       T00-00003     01/04/2000            2000                1   \n",
       "1   A00-00004       T00-00004     01/04/2000            2000                1   \n",
       "2   A00-00006       T00-00006     01/04/2000            2000                1   \n",
       "3   A00-00007       T00-00007     01/04/2000            2000                1   \n",
       "4   A00-00008       T00-00008     01/04/2000            2000                1   \n",
       "\n",
       "  arrest_type_description  crime_code           crime_code_description  \\\n",
       "0                SUMMONED        2461  OPERATE UNINSURED MOTOR VEHICLE   \n",
       "1                SUMMONED        6601                 SPEEDING (RADAR)   \n",
       "2                SUMMONED        6601                 SPEEDING (RADAR)   \n",
       "3                SUMMONED        6601                 SPEEDING (RADAR)   \n",
       "4                SUMMONED        2461  OPERATE UNINSURED MOTOR VEHICLE   \n",
       "\n",
       "  crime_category_code crime_category_description            ...             \\\n",
       "0                 C28           Traffic Offenses            ...              \n",
       "1                 C28           Traffic Offenses            ...              \n",
       "2                 C28           Traffic Offenses            ...              \n",
       "3                 C28           Traffic Offenses            ...              \n",
       "4                 C28           Traffic Offenses            ...              \n",
       "\n",
       "  arrestee_sex arrestee_race arrestee_employment_description  \\\n",
       "0         MALE         BLACK                         UNKNOWN   \n",
       "1       FEMALE         WHITE                        EMPLOYED   \n",
       "2       FEMALE         WHITE                         UNKNOWN   \n",
       "3       FEMALE         WHITE                         UNKNOWN   \n",
       "4         MALE         WHITE                         UNKNOWN   \n",
       "\n",
       "   arrestee_residency_description arrestee_home_city  arrestee_home_state  \\\n",
       "0                        RESIDENT          CHAMPAIGN                   IL   \n",
       "1                    NON-RESIDENT            POTOMAC                   IL   \n",
       "2                        RESIDENT                NaN                  NaN   \n",
       "3                    NON-RESIDENT          CHAMPAIGN                   IL   \n",
       "4                    NON-RESIDENT          CHAMPAIGN                   IL   \n",
       "\n",
       "  arrestee_home_zip arrest_resolution count arrestee_home_city_mapped  \n",
       "0             61820        BONDED OUT     1        CHAMPAIGN,IL,61820  \n",
       "1             61865        BONDED OUT     1          POTOMAC,IL,61865  \n",
       "2             00000        BONDED OUT     1                   ,,00000  \n",
       "3             61820        BONDED OUT     1        CHAMPAIGN,IL,61820  \n",
       "4             61820        BONDED OUT     1        CHAMPAIGN,IL,61820  \n",
       "\n",
       "[5 rows x 26 columns]"
      ]
     },
     "execution_count": 3,
     "metadata": {},
     "output_type": "execute_result"
    }
   ],
   "source": [
    "data.head()"
   ]
  },
  {
   "cell_type": "code",
   "execution_count": 4,
   "metadata": {},
   "outputs": [
    {
     "data": {
      "text/plain": [
       "(200671, 26)"
      ]
     },
     "execution_count": 4,
     "metadata": {},
     "output_type": "execute_result"
    }
   ],
   "source": [
    "data.shape"
   ]
  },
  {
   "cell_type": "code",
   "execution_count": 5,
   "metadata": {},
   "outputs": [
    {
     "data": {
      "text/plain": [
       "Index(['arrest_code', 'incident_number', 'date_of_arrest', 'year_of_arrest',\n",
       "       'month_of_arrest', 'arrest_type_description', 'crime_code',\n",
       "       'crime_code_description', 'crime_category_code',\n",
       "       'crime_category_description', 'conspiracy_code', 'statute', 'violation',\n",
       "       'disposition_code', 'disposition_description', 'age_at_arrest',\n",
       "       'arrestee_sex', 'arrestee_race', 'arrestee_employment_description',\n",
       "       'arrestee_residency_description', 'arrestee_home_city',\n",
       "       'arrestee_home_state', 'arrestee_home_zip', 'arrest_resolution',\n",
       "       'count', 'arrestee_home_city_mapped'],\n",
       "      dtype='object')"
      ]
     },
     "execution_count": 5,
     "metadata": {},
     "output_type": "execute_result"
    }
   ],
   "source": [
    "data.columns"
   ]
  },
  {
   "cell_type": "code",
   "execution_count": 6,
   "metadata": {},
   "outputs": [
    {
     "data": {
      "text/plain": [
       "<BarContainer object of 12 artists>"
      ]
     },
     "execution_count": 6,
     "metadata": {},
     "output_type": "execute_result"
    },
    {
     "data": {
      "image/png": "[encoded data removed]",
      "text/plain": [
       "<Figure size 432x288 with 1 Axes>"
      ]
     },
     "metadata": {
      "needs_background": "light"
     },
     "output_type": "display_data"
    }
   ],
   "source": [
    "month_list = data.month_of_arrest\n",
    "# count arrest count in different years\n",
    "month_count_map = {}\n",
    "for month in month_list:\n",
    "    month_count_map[month] = month_count_map.get(month, 0) + 1\n",
    "\n",
    "month_list = []\n",
    "count_list = []\n",
    "for month, count in month_count_map.items():\n",
    "    month_list.append(month)\n",
    "    count_list.append(count)\n",
    "    \n",
    "\n",
    "plt.xlabel('Month of Arrest')\n",
    "plt.ylabel('No of Arrests')\n",
    "plt.bar(month_list, count_list)"
   ]
  },
  {
   "cell_type": "markdown",
   "metadata": {},
   "source": [
    "# PART 2"
   ]
  },
  {
   "cell_type": "markdown",
   "metadata": {},
   "source": [
    "# Top 10 crimes comitted"
   ]
  },
  {
   "cell_type": "code",
   "execution_count": 7,
   "metadata": {},
   "outputs": [
    {
     "data": {
      "image/png": "[encoded data removed]",
      "text/plain": [
       "<Figure size 432x288 with 1 Axes>"
      ]
     },
     "metadata": {
      "needs_background": "light"
     },
     "output_type": "display_data"
    }
   ],
   "source": [
    "sns.countplot(x='crime_code_description', data = data, order= data['crime_code_description'].value_counts().iloc[:15].index).set_title('Crime Type Distribution');\n",
    " \n",
    "plt.xlabel(\"CRIME CODE DESCRIPTION\") \n",
    "plt.xticks(rotation=-95)\n",
    "plt.show()"
   ]
  },
  {
   "cell_type": "markdown",
   "metadata": {},
   "source": [
    "## Distribution by Arrestee city\n"
   ]
  },
  {
   "cell_type": "code",
   "execution_count": 8,
   "metadata": {},
   "outputs": [
    {
     "data": {
      "text/html": [
       "<div>\n",
       "<style scoped>\n",
       "    .dataframe tbody tr th:only-of-type {\n",
       "        vertical-align: middle;\n",
       "    }\n",
       "\n",
       "    .dataframe tbody tr th {\n",
       "        vertical-align: top;\n",
       "    }\n",
       "\n",
       "    .dataframe thead th {\n",
       "        text-align: right;\n",
       "    }\n",
       "</style>\n",
       "<table border=\"1\" class=\"dataframe\">\n",
       "  <thead>\n",
       "    <tr style=\"text-align: right;\">\n",
       "      <th></th>\n",
       "      <th>count</th>\n",
       "      <th>mean</th>\n",
       "      <th>std</th>\n",
       "      <th>min</th>\n",
       "      <th>25%</th>\n",
       "      <th>50%</th>\n",
       "      <th>75%</th>\n",
       "      <th>max</th>\n",
       "    </tr>\n",
       "    <tr>\n",
       "      <th>arrestee_home_city</th>\n",
       "      <th></th>\n",
       "      <th></th>\n",
       "      <th></th>\n",
       "      <th></th>\n",
       "      <th></th>\n",
       "      <th></th>\n",
       "      <th></th>\n",
       "      <th></th>\n",
       "    </tr>\n",
       "  </thead>\n",
       "  <tbody>\n",
       "    <tr>\n",
       "      <th>11/90  URBANA</th>\n",
       "      <td>1.0</td>\n",
       "      <td>1990.000000</td>\n",
       "      <td>NaN</td>\n",
       "      <td>1990.0</td>\n",
       "      <td>1990.00</td>\n",
       "      <td>1990.0</td>\n",
       "      <td>1990.00</td>\n",
       "      <td>1990.0</td>\n",
       "    </tr>\n",
       "    <tr>\n",
       "      <th>CHAMPAIGN</th>\n",
       "      <td>1.0</td>\n",
       "      <td>1991.000000</td>\n",
       "      <td>NaN</td>\n",
       "      <td>1991.0</td>\n",
       "      <td>1991.00</td>\n",
       "      <td>1991.0</td>\n",
       "      <td>1991.00</td>\n",
       "      <td>1991.0</td>\n",
       "    </tr>\n",
       "    <tr>\n",
       "      <th>OAK PARK</th>\n",
       "      <td>1.0</td>\n",
       "      <td>1989.000000</td>\n",
       "      <td>NaN</td>\n",
       "      <td>1989.0</td>\n",
       "      <td>1989.00</td>\n",
       "      <td>1989.0</td>\n",
       "      <td>1989.00</td>\n",
       "      <td>1989.0</td>\n",
       "    </tr>\n",
       "    <tr>\n",
       "      <th>URBANA</th>\n",
       "      <td>6.0</td>\n",
       "      <td>2009.833333</td>\n",
       "      <td>4.355074</td>\n",
       "      <td>2005.0</td>\n",
       "      <td>2006.25</td>\n",
       "      <td>2009.5</td>\n",
       "      <td>2013.50</td>\n",
       "      <td>2015.0</td>\n",
       "    </tr>\n",
       "    <tr>\n",
       "      <th>#102 CHAMPAIGN</th>\n",
       "      <td>2.0</td>\n",
       "      <td>2008.000000</td>\n",
       "      <td>0.000000</td>\n",
       "      <td>2008.0</td>\n",
       "      <td>2008.00</td>\n",
       "      <td>2008.0</td>\n",
       "      <td>2008.00</td>\n",
       "      <td>2008.0</td>\n",
       "    </tr>\n",
       "    <tr>\n",
       "      <th>#11 URBANA 6-89</th>\n",
       "      <td>1.0</td>\n",
       "      <td>1989.000000</td>\n",
       "      <td>NaN</td>\n",
       "      <td>1989.0</td>\n",
       "      <td>1989.00</td>\n",
       "      <td>1989.0</td>\n",
       "      <td>1989.00</td>\n",
       "      <td>1989.0</td>\n",
       "    </tr>\n",
       "    <tr>\n",
       "      <th>#1133, URBANA</th>\n",
       "      <td>1.0</td>\n",
       "      <td>1998.000000</td>\n",
       "      <td>NaN</td>\n",
       "      <td>1998.0</td>\n",
       "      <td>1998.00</td>\n",
       "      <td>1998.0</td>\n",
       "      <td>1998.00</td>\n",
       "      <td>1998.0</td>\n",
       "    </tr>\n",
       "    <tr>\n",
       "      <th>#2016,TEMPE</th>\n",
       "      <td>1.0</td>\n",
       "      <td>2007.000000</td>\n",
       "      <td>NaN</td>\n",
       "      <td>2007.0</td>\n",
       "      <td>2007.00</td>\n",
       "      <td>2007.0</td>\n",
       "      <td>2007.00</td>\n",
       "      <td>2007.0</td>\n",
       "    </tr>\n",
       "    <tr>\n",
       "      <th>#203  URBANA</th>\n",
       "      <td>1.0</td>\n",
       "      <td>2013.000000</td>\n",
       "      <td>NaN</td>\n",
       "      <td>2013.0</td>\n",
       "      <td>2013.00</td>\n",
       "      <td>2013.0</td>\n",
       "      <td>2013.00</td>\n",
       "      <td>2013.0</td>\n",
       "    </tr>\n",
       "    <tr>\n",
       "      <th>#311, URBANA</th>\n",
       "      <td>1.0</td>\n",
       "      <td>1998.000000</td>\n",
       "      <td>NaN</td>\n",
       "      <td>1998.0</td>\n",
       "      <td>1998.00</td>\n",
       "      <td>1998.0</td>\n",
       "      <td>1998.00</td>\n",
       "      <td>1998.0</td>\n",
       "    </tr>\n",
       "    <tr>\n",
       "      <th>#6  CARBONDALE</th>\n",
       "      <td>1.0</td>\n",
       "      <td>2005.000000</td>\n",
       "      <td>NaN</td>\n",
       "      <td>2005.0</td>\n",
       "      <td>2005.00</td>\n",
       "      <td>2005.0</td>\n",
       "      <td>2005.00</td>\n",
       "      <td>2005.0</td>\n",
       "    </tr>\n",
       "    <tr>\n",
       "      <th>#8 BISMARK</th>\n",
       "      <td>1.0</td>\n",
       "      <td>2004.000000</td>\n",
       "      <td>NaN</td>\n",
       "      <td>2004.0</td>\n",
       "      <td>2004.00</td>\n",
       "      <td>2004.0</td>\n",
       "      <td>2004.00</td>\n",
       "      <td>2004.0</td>\n",
       "    </tr>\n",
       "    <tr>\n",
       "      <th>.</th>\n",
       "      <td>30.0</td>\n",
       "      <td>1999.633333</td>\n",
       "      <td>6.408418</td>\n",
       "      <td>1989.0</td>\n",
       "      <td>1995.25</td>\n",
       "      <td>1997.0</td>\n",
       "      <td>2004.00</td>\n",
       "      <td>2014.0</td>\n",
       "    </tr>\n",
       "    <tr>\n",
       "      <th>01-90</th>\n",
       "      <td>2.0</td>\n",
       "      <td>1989.500000</td>\n",
       "      <td>0.707107</td>\n",
       "      <td>1989.0</td>\n",
       "      <td>1989.25</td>\n",
       "      <td>1989.5</td>\n",
       "      <td>1989.75</td>\n",
       "      <td>1990.0</td>\n",
       "    </tr>\n",
       "    <tr>\n",
       "      <th>02-90  URBANA</th>\n",
       "      <td>1.0</td>\n",
       "      <td>1990.000000</td>\n",
       "      <td>NaN</td>\n",
       "      <td>1990.0</td>\n",
       "      <td>1990.00</td>\n",
       "      <td>1990.0</td>\n",
       "      <td>1990.00</td>\n",
       "      <td>1990.0</td>\n",
       "    </tr>\n",
       "    <tr>\n",
       "      <th>03/90 MILWAUKEE</th>\n",
       "      <td>2.0</td>\n",
       "      <td>1989.500000</td>\n",
       "      <td>0.707107</td>\n",
       "      <td>1989.0</td>\n",
       "      <td>1989.25</td>\n",
       "      <td>1989.5</td>\n",
       "      <td>1989.75</td>\n",
       "      <td>1990.0</td>\n",
       "    </tr>\n",
       "    <tr>\n",
       "      <th>1-C  URBANA</th>\n",
       "      <td>1.0</td>\n",
       "      <td>1999.000000</td>\n",
       "      <td>NaN</td>\n",
       "      <td>1999.0</td>\n",
       "      <td>1999.00</td>\n",
       "      <td>1999.0</td>\n",
       "      <td>1999.00</td>\n",
       "      <td>1999.0</td>\n",
       "    </tr>\n",
       "    <tr>\n",
       "      <th>1/90  RANTOUL</th>\n",
       "      <td>2.0</td>\n",
       "      <td>1990.000000</td>\n",
       "      <td>0.000000</td>\n",
       "      <td>1990.0</td>\n",
       "      <td>1990.00</td>\n",
       "      <td>1990.0</td>\n",
       "      <td>1990.00</td>\n",
       "      <td>1990.0</td>\n",
       "    </tr>\n",
       "    <tr>\n",
       "      <th>1/90  URBANA</th>\n",
       "      <td>1.0</td>\n",
       "      <td>1990.000000</td>\n",
       "      <td>NaN</td>\n",
       "      <td>1990.0</td>\n",
       "      <td>1990.00</td>\n",
       "      <td>1990.0</td>\n",
       "      <td>1990.00</td>\n",
       "      <td>1990.0</td>\n",
       "    </tr>\n",
       "    <tr>\n",
       "      <th>1/90 CHAMPAIGN</th>\n",
       "      <td>1.0</td>\n",
       "      <td>1990.000000</td>\n",
       "      <td>NaN</td>\n",
       "      <td>1990.0</td>\n",
       "      <td>1990.00</td>\n",
       "      <td>1990.0</td>\n",
       "      <td>1990.00</td>\n",
       "      <td>1990.0</td>\n",
       "    </tr>\n",
       "    <tr>\n",
       "      <th>1/91 CHAMPAIGN</th>\n",
       "      <td>5.0</td>\n",
       "      <td>1991.000000</td>\n",
       "      <td>0.000000</td>\n",
       "      <td>1991.0</td>\n",
       "      <td>1991.00</td>\n",
       "      <td>1991.0</td>\n",
       "      <td>1991.00</td>\n",
       "      <td>1991.0</td>\n",
       "    </tr>\n",
       "    <tr>\n",
       "      <th>1/92 CHAMPAIGN</th>\n",
       "      <td>1.0</td>\n",
       "      <td>1992.000000</td>\n",
       "      <td>NaN</td>\n",
       "      <td>1992.0</td>\n",
       "      <td>1992.00</td>\n",
       "      <td>1992.0</td>\n",
       "      <td>1992.00</td>\n",
       "      <td>1992.0</td>\n",
       "    </tr>\n",
       "    <tr>\n",
       "      <th>10/90 CHICAGO</th>\n",
       "      <td>1.0</td>\n",
       "      <td>1990.000000</td>\n",
       "      <td>NaN</td>\n",
       "      <td>1990.0</td>\n",
       "      <td>1990.00</td>\n",
       "      <td>1990.0</td>\n",
       "      <td>1990.00</td>\n",
       "      <td>1990.0</td>\n",
       "    </tr>\n",
       "    <tr>\n",
       "      <th>10/90 URBANA</th>\n",
       "      <td>1.0</td>\n",
       "      <td>1989.000000</td>\n",
       "      <td>NaN</td>\n",
       "      <td>1989.0</td>\n",
       "      <td>1989.00</td>\n",
       "      <td>1989.0</td>\n",
       "      <td>1989.00</td>\n",
       "      <td>1989.0</td>\n",
       "    </tr>\n",
       "    <tr>\n",
       "      <th>10/91 CHAMPAIGN</th>\n",
       "      <td>1.0</td>\n",
       "      <td>1991.000000</td>\n",
       "      <td>NaN</td>\n",
       "      <td>1991.0</td>\n",
       "      <td>1991.00</td>\n",
       "      <td>1991.0</td>\n",
       "      <td>1991.00</td>\n",
       "      <td>1991.0</td>\n",
       "    </tr>\n",
       "    <tr>\n",
       "      <th>10/91 URBANA</th>\n",
       "      <td>2.0</td>\n",
       "      <td>1990.000000</td>\n",
       "      <td>0.000000</td>\n",
       "      <td>1990.0</td>\n",
       "      <td>1990.00</td>\n",
       "      <td>1990.0</td>\n",
       "      <td>1990.00</td>\n",
       "      <td>1990.0</td>\n",
       "    </tr>\n",
       "    <tr>\n",
       "      <th>10/92 HINSDALE</th>\n",
       "      <td>1.0</td>\n",
       "      <td>1992.000000</td>\n",
       "      <td>NaN</td>\n",
       "      <td>1992.0</td>\n",
       "      <td>1992.00</td>\n",
       "      <td>1992.0</td>\n",
       "      <td>1992.00</td>\n",
       "      <td>1992.0</td>\n",
       "    </tr>\n",
       "    <tr>\n",
       "      <th>10/92 URBANA</th>\n",
       "      <td>1.0</td>\n",
       "      <td>1992.000000</td>\n",
       "      <td>NaN</td>\n",
       "      <td>1992.0</td>\n",
       "      <td>1992.00</td>\n",
       "      <td>1992.0</td>\n",
       "      <td>1992.00</td>\n",
       "      <td>1992.0</td>\n",
       "    </tr>\n",
       "    <tr>\n",
       "      <th>10/94 CHAMPAIGN</th>\n",
       "      <td>1.0</td>\n",
       "      <td>1994.000000</td>\n",
       "      <td>NaN</td>\n",
       "      <td>1994.0</td>\n",
       "      <td>1994.00</td>\n",
       "      <td>1994.0</td>\n",
       "      <td>1994.00</td>\n",
       "      <td>1994.0</td>\n",
       "    </tr>\n",
       "    <tr>\n",
       "      <th>10/94 URBANA</th>\n",
       "      <td>3.0</td>\n",
       "      <td>1994.000000</td>\n",
       "      <td>0.000000</td>\n",
       "      <td>1994.0</td>\n",
       "      <td>1994.00</td>\n",
       "      <td>1994.0</td>\n",
       "      <td>1994.00</td>\n",
       "      <td>1994.0</td>\n",
       "    </tr>\n",
       "    <tr>\n",
       "      <th>...</th>\n",
       "      <td>...</td>\n",
       "      <td>...</td>\n",
       "      <td>...</td>\n",
       "      <td>...</td>\n",
       "      <td>...</td>\n",
       "      <td>...</td>\n",
       "      <td>...</td>\n",
       "      <td>...</td>\n",
       "    </tr>\n",
       "    <tr>\n",
       "      <th>WOODBURY</th>\n",
       "      <td>1.0</td>\n",
       "      <td>1988.000000</td>\n",
       "      <td>NaN</td>\n",
       "      <td>1988.0</td>\n",
       "      <td>1988.00</td>\n",
       "      <td>1988.0</td>\n",
       "      <td>1988.00</td>\n",
       "      <td>1988.0</td>\n",
       "    </tr>\n",
       "    <tr>\n",
       "      <th>WOODDALE</th>\n",
       "      <td>2.0</td>\n",
       "      <td>2004.000000</td>\n",
       "      <td>8.485281</td>\n",
       "      <td>1998.0</td>\n",
       "      <td>2001.00</td>\n",
       "      <td>2004.0</td>\n",
       "      <td>2007.00</td>\n",
       "      <td>2010.0</td>\n",
       "    </tr>\n",
       "    <tr>\n",
       "      <th>WOODHULL</th>\n",
       "      <td>2.0</td>\n",
       "      <td>2000.500000</td>\n",
       "      <td>10.606602</td>\n",
       "      <td>1993.0</td>\n",
       "      <td>1996.75</td>\n",
       "      <td>2000.5</td>\n",
       "      <td>2004.25</td>\n",
       "      <td>2008.0</td>\n",
       "    </tr>\n",
       "    <tr>\n",
       "      <th>WOODLAWN</th>\n",
       "      <td>2.0</td>\n",
       "      <td>2010.000000</td>\n",
       "      <td>9.899495</td>\n",
       "      <td>2003.0</td>\n",
       "      <td>2006.50</td>\n",
       "      <td>2010.0</td>\n",
       "      <td>2013.50</td>\n",
       "      <td>2017.0</td>\n",
       "    </tr>\n",
       "    <tr>\n",
       "      <th>WOODRIDGE</th>\n",
       "      <td>14.0</td>\n",
       "      <td>2005.285714</td>\n",
       "      <td>10.010983</td>\n",
       "      <td>1989.0</td>\n",
       "      <td>1996.25</td>\n",
       "      <td>2007.5</td>\n",
       "      <td>2012.00</td>\n",
       "      <td>2016.0</td>\n",
       "    </tr>\n",
       "    <tr>\n",
       "      <th>WOODRIVER</th>\n",
       "      <td>1.0</td>\n",
       "      <td>1998.000000</td>\n",
       "      <td>NaN</td>\n",
       "      <td>1998.0</td>\n",
       "      <td>1998.00</td>\n",
       "      <td>1998.0</td>\n",
       "      <td>1998.00</td>\n",
       "      <td>1998.0</td>\n",
       "    </tr>\n",
       "    <tr>\n",
       "      <th>WOODSIDE</th>\n",
       "      <td>1.0</td>\n",
       "      <td>2006.000000</td>\n",
       "      <td>NaN</td>\n",
       "      <td>2006.0</td>\n",
       "      <td>2006.00</td>\n",
       "      <td>2006.0</td>\n",
       "      <td>2006.00</td>\n",
       "      <td>2006.0</td>\n",
       "    </tr>\n",
       "    <tr>\n",
       "      <th>WOODSTOCK</th>\n",
       "      <td>11.0</td>\n",
       "      <td>2004.545455</td>\n",
       "      <td>7.448002</td>\n",
       "      <td>1989.0</td>\n",
       "      <td>2001.00</td>\n",
       "      <td>2002.0</td>\n",
       "      <td>2009.00</td>\n",
       "      <td>2018.0</td>\n",
       "    </tr>\n",
       "    <tr>\n",
       "      <th>WORCESTER</th>\n",
       "      <td>2.0</td>\n",
       "      <td>2001.500000</td>\n",
       "      <td>16.263456</td>\n",
       "      <td>1990.0</td>\n",
       "      <td>1995.75</td>\n",
       "      <td>2001.5</td>\n",
       "      <td>2007.25</td>\n",
       "      <td>2013.0</td>\n",
       "    </tr>\n",
       "    <tr>\n",
       "      <th>WORDEN</th>\n",
       "      <td>1.0</td>\n",
       "      <td>1995.000000</td>\n",
       "      <td>NaN</td>\n",
       "      <td>1995.0</td>\n",
       "      <td>1995.00</td>\n",
       "      <td>1995.0</td>\n",
       "      <td>1995.00</td>\n",
       "      <td>1995.0</td>\n",
       "    </tr>\n",
       "    <tr>\n",
       "      <th>WORTH</th>\n",
       "      <td>7.0</td>\n",
       "      <td>2008.714286</td>\n",
       "      <td>9.411239</td>\n",
       "      <td>1988.0</td>\n",
       "      <td>2009.50</td>\n",
       "      <td>2011.0</td>\n",
       "      <td>2014.00</td>\n",
       "      <td>2015.0</td>\n",
       "    </tr>\n",
       "    <tr>\n",
       "      <th>WORTHINGTON</th>\n",
       "      <td>6.0</td>\n",
       "      <td>1999.666667</td>\n",
       "      <td>6.860515</td>\n",
       "      <td>1993.0</td>\n",
       "      <td>1993.50</td>\n",
       "      <td>1999.5</td>\n",
       "      <td>2004.00</td>\n",
       "      <td>2009.0</td>\n",
       "    </tr>\n",
       "    <tr>\n",
       "      <th>WRIGHT CITY</th>\n",
       "      <td>2.0</td>\n",
       "      <td>1988.500000</td>\n",
       "      <td>0.707107</td>\n",
       "      <td>1988.0</td>\n",
       "      <td>1988.25</td>\n",
       "      <td>1988.5</td>\n",
       "      <td>1988.75</td>\n",
       "      <td>1989.0</td>\n",
       "    </tr>\n",
       "    <tr>\n",
       "      <th>WYNNE</th>\n",
       "      <td>1.0</td>\n",
       "      <td>1989.000000</td>\n",
       "      <td>NaN</td>\n",
       "      <td>1989.0</td>\n",
       "      <td>1989.00</td>\n",
       "      <td>1989.0</td>\n",
       "      <td>1989.00</td>\n",
       "      <td>1989.0</td>\n",
       "    </tr>\n",
       "    <tr>\n",
       "      <th>WYOMING</th>\n",
       "      <td>3.0</td>\n",
       "      <td>2008.666667</td>\n",
       "      <td>2.081666</td>\n",
       "      <td>2007.0</td>\n",
       "      <td>2007.50</td>\n",
       "      <td>2008.0</td>\n",
       "      <td>2009.50</td>\n",
       "      <td>2011.0</td>\n",
       "    </tr>\n",
       "    <tr>\n",
       "      <th>YALE</th>\n",
       "      <td>2.0</td>\n",
       "      <td>2000.000000</td>\n",
       "      <td>15.556349</td>\n",
       "      <td>1989.0</td>\n",
       "      <td>1994.50</td>\n",
       "      <td>2000.0</td>\n",
       "      <td>2005.50</td>\n",
       "      <td>2011.0</td>\n",
       "    </tr>\n",
       "    <tr>\n",
       "      <th>YAPHANK</th>\n",
       "      <td>1.0</td>\n",
       "      <td>1994.000000</td>\n",
       "      <td>NaN</td>\n",
       "      <td>1994.0</td>\n",
       "      <td>1994.00</td>\n",
       "      <td>1994.0</td>\n",
       "      <td>1994.00</td>\n",
       "      <td>1994.0</td>\n",
       "    </tr>\n",
       "    <tr>\n",
       "      <th>YELM</th>\n",
       "      <td>1.0</td>\n",
       "      <td>2008.000000</td>\n",
       "      <td>NaN</td>\n",
       "      <td>2008.0</td>\n",
       "      <td>2008.00</td>\n",
       "      <td>2008.0</td>\n",
       "      <td>2008.00</td>\n",
       "      <td>2008.0</td>\n",
       "    </tr>\n",
       "    <tr>\n",
       "      <th>YORKTOWN</th>\n",
       "      <td>3.0</td>\n",
       "      <td>2003.666667</td>\n",
       "      <td>2.886751</td>\n",
       "      <td>2002.0</td>\n",
       "      <td>2002.00</td>\n",
       "      <td>2002.0</td>\n",
       "      <td>2004.50</td>\n",
       "      <td>2007.0</td>\n",
       "    </tr>\n",
       "    <tr>\n",
       "      <th>YORKVILLE</th>\n",
       "      <td>5.0</td>\n",
       "      <td>1998.800000</td>\n",
       "      <td>11.432410</td>\n",
       "      <td>1989.0</td>\n",
       "      <td>1990.00</td>\n",
       "      <td>1993.0</td>\n",
       "      <td>2008.00</td>\n",
       "      <td>2014.0</td>\n",
       "    </tr>\n",
       "    <tr>\n",
       "      <th>YULEE</th>\n",
       "      <td>1.0</td>\n",
       "      <td>1999.000000</td>\n",
       "      <td>NaN</td>\n",
       "      <td>1999.0</td>\n",
       "      <td>1999.00</td>\n",
       "      <td>1999.0</td>\n",
       "      <td>1999.00</td>\n",
       "      <td>1999.0</td>\n",
       "    </tr>\n",
       "    <tr>\n",
       "      <th>YUMA</th>\n",
       "      <td>2.0</td>\n",
       "      <td>2006.000000</td>\n",
       "      <td>0.000000</td>\n",
       "      <td>2006.0</td>\n",
       "      <td>2006.00</td>\n",
       "      <td>2006.0</td>\n",
       "      <td>2006.00</td>\n",
       "      <td>2006.0</td>\n",
       "    </tr>\n",
       "    <tr>\n",
       "      <th>ZANESVILLE</th>\n",
       "      <td>1.0</td>\n",
       "      <td>1989.000000</td>\n",
       "      <td>NaN</td>\n",
       "      <td>1989.0</td>\n",
       "      <td>1989.00</td>\n",
       "      <td>1989.0</td>\n",
       "      <td>1989.00</td>\n",
       "      <td>1989.0</td>\n",
       "    </tr>\n",
       "    <tr>\n",
       "      <th>ZEIGLER</th>\n",
       "      <td>1.0</td>\n",
       "      <td>1990.000000</td>\n",
       "      <td>NaN</td>\n",
       "      <td>1990.0</td>\n",
       "      <td>1990.00</td>\n",
       "      <td>1990.0</td>\n",
       "      <td>1990.00</td>\n",
       "      <td>1990.0</td>\n",
       "    </tr>\n",
       "    <tr>\n",
       "      <th>ZHEJIANG CHINA</th>\n",
       "      <td>1.0</td>\n",
       "      <td>2010.000000</td>\n",
       "      <td>NaN</td>\n",
       "      <td>2010.0</td>\n",
       "      <td>2010.00</td>\n",
       "      <td>2010.0</td>\n",
       "      <td>2010.00</td>\n",
       "      <td>2010.0</td>\n",
       "    </tr>\n",
       "    <tr>\n",
       "      <th>ZION</th>\n",
       "      <td>10.0</td>\n",
       "      <td>1997.500000</td>\n",
       "      <td>8.784456</td>\n",
       "      <td>1988.0</td>\n",
       "      <td>1993.25</td>\n",
       "      <td>1994.5</td>\n",
       "      <td>1998.00</td>\n",
       "      <td>2013.0</td>\n",
       "    </tr>\n",
       "    <tr>\n",
       "      <th>ZIONSVILLE</th>\n",
       "      <td>1.0</td>\n",
       "      <td>1999.000000</td>\n",
       "      <td>NaN</td>\n",
       "      <td>1999.0</td>\n",
       "      <td>1999.00</td>\n",
       "      <td>1999.0</td>\n",
       "      <td>1999.00</td>\n",
       "      <td>1999.0</td>\n",
       "    </tr>\n",
       "    <tr>\n",
       "      <th>`</th>\n",
       "      <td>1.0</td>\n",
       "      <td>1990.000000</td>\n",
       "      <td>NaN</td>\n",
       "      <td>1990.0</td>\n",
       "      <td>1990.00</td>\n",
       "      <td>1990.0</td>\n",
       "      <td>1990.00</td>\n",
       "      <td>1990.0</td>\n",
       "    </tr>\n",
       "    <tr>\n",
       "      <th>`HAMPAIGN</th>\n",
       "      <td>1.0</td>\n",
       "      <td>2001.000000</td>\n",
       "      <td>NaN</td>\n",
       "      <td>2001.0</td>\n",
       "      <td>2001.00</td>\n",
       "      <td>2001.0</td>\n",
       "      <td>2001.00</td>\n",
       "      <td>2001.0</td>\n",
       "    </tr>\n",
       "    <tr>\n",
       "      <th>`RBANA</th>\n",
       "      <td>6.0</td>\n",
       "      <td>2004.000000</td>\n",
       "      <td>3.224903</td>\n",
       "      <td>2000.0</td>\n",
       "      <td>2001.25</td>\n",
       "      <td>2005.0</td>\n",
       "      <td>2006.50</td>\n",
       "      <td>2007.0</td>\n",
       "    </tr>\n",
       "  </tbody>\n",
       "</table>\n",
       "<p>2748 rows × 8 columns</p>\n",
       "</div>"
      ],
      "text/plain": [
       "                    count         mean        std     min      25%     50%  \\\n",
       "arrestee_home_city                                                           \n",
       " 11/90  URBANA        1.0  1990.000000        NaN  1990.0  1990.00  1990.0   \n",
       " CHAMPAIGN            1.0  1991.000000        NaN  1991.0  1991.00  1991.0   \n",
       " OAK PARK             1.0  1989.000000        NaN  1989.0  1989.00  1989.0   \n",
       " URBANA               6.0  2009.833333   4.355074  2005.0  2006.25  2009.5   \n",
       "#102 CHAMPAIGN        2.0  2008.000000   0.000000  2008.0  2008.00  2008.0   \n",
       "#11 URBANA 6-89       1.0  1989.000000        NaN  1989.0  1989.00  1989.0   \n",
       "#1133, URBANA         1.0  1998.000000        NaN  1998.0  1998.00  1998.0   \n",
       "#2016,TEMPE           1.0  2007.000000        NaN  2007.0  2007.00  2007.0   \n",
       "#203  URBANA          1.0  2013.000000        NaN  2013.0  2013.00  2013.0   \n",
       "#311, URBANA          1.0  1998.000000        NaN  1998.0  1998.00  1998.0   \n",
       "#6  CARBONDALE        1.0  2005.000000        NaN  2005.0  2005.00  2005.0   \n",
       "#8 BISMARK            1.0  2004.000000        NaN  2004.0  2004.00  2004.0   \n",
       ".                    30.0  1999.633333   6.408418  1989.0  1995.25  1997.0   \n",
       "01-90                 2.0  1989.500000   0.707107  1989.0  1989.25  1989.5   \n",
       "02-90  URBANA         1.0  1990.000000        NaN  1990.0  1990.00  1990.0   \n",
       "03/90 MILWAUKEE       2.0  1989.500000   0.707107  1989.0  1989.25  1989.5   \n",
       "1-C  URBANA           1.0  1999.000000        NaN  1999.0  1999.00  1999.0   \n",
       "1/90  RANTOUL         2.0  1990.000000   0.000000  1990.0  1990.00  1990.0   \n",
       "1/90  URBANA          1.0  1990.000000        NaN  1990.0  1990.00  1990.0   \n",
       "1/90 CHAMPAIGN        1.0  1990.000000        NaN  1990.0  1990.00  1990.0   \n",
       "1/91 CHAMPAIGN        5.0  1991.000000   0.000000  1991.0  1991.00  1991.0   \n",
       "1/92 CHAMPAIGN        1.0  1992.000000        NaN  1992.0  1992.00  1992.0   \n",
       "10/90 CHICAGO         1.0  1990.000000        NaN  1990.0  1990.00  1990.0   \n",
       "10/90 URBANA          1.0  1989.000000        NaN  1989.0  1989.00  1989.0   \n",
       "10/91 CHAMPAIGN       1.0  1991.000000        NaN  1991.0  1991.00  1991.0   \n",
       "10/91 URBANA          2.0  1990.000000   0.000000  1990.0  1990.00  1990.0   \n",
       "10/92 HINSDALE        1.0  1992.000000        NaN  1992.0  1992.00  1992.0   \n",
       "10/92 URBANA          1.0  1992.000000        NaN  1992.0  1992.00  1992.0   \n",
       "10/94 CHAMPAIGN       1.0  1994.000000        NaN  1994.0  1994.00  1994.0   \n",
       "10/94 URBANA          3.0  1994.000000   0.000000  1994.0  1994.00  1994.0   \n",
       "...                   ...          ...        ...     ...      ...     ...   \n",
       "WOODBURY              1.0  1988.000000        NaN  1988.0  1988.00  1988.0   \n",
       "WOODDALE              2.0  2004.000000   8.485281  1998.0  2001.00  2004.0   \n",
       "WOODHULL              2.0  2000.500000  10.606602  1993.0  1996.75  2000.5   \n",
       "WOODLAWN              2.0  2010.000000   9.899495  2003.0  2006.50  2010.0   \n",
       "WOODRIDGE            14.0  2005.285714  10.010983  1989.0  1996.25  2007.5   \n",
       "WOODRIVER             1.0  1998.000000        NaN  1998.0  1998.00  1998.0   \n",
       "WOODSIDE              1.0  2006.000000        NaN  2006.0  2006.00  2006.0   \n",
       "WOODSTOCK            11.0  2004.545455   7.448002  1989.0  2001.00  2002.0   \n",
       "WORCESTER             2.0  2001.500000  16.263456  1990.0  1995.75  2001.5   \n",
       "WORDEN                1.0  1995.000000        NaN  1995.0  1995.00  1995.0   \n",
       "WORTH                 7.0  2008.714286   9.411239  1988.0  2009.50  2011.0   \n",
       "WORTHINGTON           6.0  1999.666667   6.860515  1993.0  1993.50  1999.5   \n",
       "WRIGHT CITY           2.0  1988.500000   0.707107  1988.0  1988.25  1988.5   \n",
       "WYNNE                 1.0  1989.000000        NaN  1989.0  1989.00  1989.0   \n",
       "WYOMING               3.0  2008.666667   2.081666  2007.0  2007.50  2008.0   \n",
       "YALE                  2.0  2000.000000  15.556349  1989.0  1994.50  2000.0   \n",
       "YAPHANK               1.0  1994.000000        NaN  1994.0  1994.00  1994.0   \n",
       "YELM                  1.0  2008.000000        NaN  2008.0  2008.00  2008.0   \n",
       "YORKTOWN              3.0  2003.666667   2.886751  2002.0  2002.00  2002.0   \n",
       "YORKVILLE             5.0  1998.800000  11.432410  1989.0  1990.00  1993.0   \n",
       "YULEE                 1.0  1999.000000        NaN  1999.0  1999.00  1999.0   \n",
       "YUMA                  2.0  2006.000000   0.000000  2006.0  2006.00  2006.0   \n",
       "ZANESVILLE            1.0  1989.000000        NaN  1989.0  1989.00  1989.0   \n",
       "ZEIGLER               1.0  1990.000000        NaN  1990.0  1990.00  1990.0   \n",
       "ZHEJIANG CHINA        1.0  2010.000000        NaN  2010.0  2010.00  2010.0   \n",
       "ZION                 10.0  1997.500000   8.784456  1988.0  1993.25  1994.5   \n",
       "ZIONSVILLE            1.0  1999.000000        NaN  1999.0  1999.00  1999.0   \n",
       "`                     1.0  1990.000000        NaN  1990.0  1990.00  1990.0   \n",
       "`HAMPAIGN             1.0  2001.000000        NaN  2001.0  2001.00  2001.0   \n",
       "`RBANA                6.0  2004.000000   3.224903  2000.0  2001.25  2005.0   \n",
       "\n",
       "                        75%     max  \n",
       "arrestee_home_city                   \n",
       " 11/90  URBANA      1990.00  1990.0  \n",
       " CHAMPAIGN          1991.00  1991.0  \n",
       " OAK PARK           1989.00  1989.0  \n",
       " URBANA             2013.50  2015.0  \n",
       "#102 CHAMPAIGN      2008.00  2008.0  \n",
       "#11 URBANA 6-89     1989.00  1989.0  \n",
       "#1133, URBANA       1998.00  1998.0  \n",
       "#2016,TEMPE         2007.00  2007.0  \n",
       "#203  URBANA        2013.00  2013.0  \n",
       "#311, URBANA        1998.00  1998.0  \n",
       "#6  CARBONDALE      2005.00  2005.0  \n",
       "#8 BISMARK          2004.00  2004.0  \n",
       ".                   2004.00  2014.0  \n",
       "01-90               1989.75  1990.0  \n",
       "02-90  URBANA       1990.00  1990.0  \n",
       "03/90 MILWAUKEE     1989.75  1990.0  \n",
       "1-C  URBANA         1999.00  1999.0  \n",
       "1/90  RANTOUL       1990.00  1990.0  \n",
       "1/90  URBANA        1990.00  1990.0  \n",
       "1/90 CHAMPAIGN      1990.00  1990.0  \n",
       "1/91 CHAMPAIGN      1991.00  1991.0  \n",
       "1/92 CHAMPAIGN      1992.00  1992.0  \n",
       "10/90 CHICAGO       1990.00  1990.0  \n",
       "10/90 URBANA        1989.00  1989.0  \n",
       "10/91 CHAMPAIGN     1991.00  1991.0  \n",
       "10/91 URBANA        1990.00  1990.0  \n",
       "10/92 HINSDALE      1992.00  1992.0  \n",
       "10/92 URBANA        1992.00  1992.0  \n",
       "10/94 CHAMPAIGN     1994.00  1994.0  \n",
       "10/94 URBANA        1994.00  1994.0  \n",
       "...                     ...     ...  \n",
       "WOODBURY            1988.00  1988.0  \n",
       "WOODDALE            2007.00  2010.0  \n",
       "WOODHULL            2004.25  2008.0  \n",
       "WOODLAWN            2013.50  2017.0  \n",
       "WOODRIDGE           2012.00  2016.0  \n",
       "WOODRIVER           1998.00  1998.0  \n",
       "WOODSIDE            2006.00  2006.0  \n",
       "WOODSTOCK           2009.00  2018.0  \n",
       "WORCESTER           2007.25  2013.0  \n",
       "WORDEN              1995.00  1995.0  \n",
       "WORTH               2014.00  2015.0  \n",
       "WORTHINGTON         2004.00  2009.0  \n",
       "WRIGHT CITY         1988.75  1989.0  \n",
       "WYNNE               1989.00  1989.0  \n",
       "WYOMING             2009.50  2011.0  \n",
       "YALE                2005.50  2011.0  \n",
       "YAPHANK             1994.00  1994.0  \n",
       "YELM                2008.00  2008.0  \n",
       "YORKTOWN            2004.50  2007.0  \n",
       "YORKVILLE           2008.00  2014.0  \n",
       "YULEE               1999.00  1999.0  \n",
       "YUMA                2006.00  2006.0  \n",
       "ZANESVILLE          1989.00  1989.0  \n",
       "ZEIGLER             1990.00  1990.0  \n",
       "ZHEJIANG CHINA      2010.00  2010.0  \n",
       "ZION                1998.00  2013.0  \n",
       "ZIONSVILLE          1999.00  1999.0  \n",
       "`                   1990.00  1990.0  \n",
       "`HAMPAIGN           2001.00  2001.0  \n",
       "`RBANA              2006.50  2007.0  \n",
       "\n",
       "[2748 rows x 8 columns]"
      ]
     },
     "execution_count": 8,
     "metadata": {},
     "output_type": "execute_result"
    }
   ],
   "source": [
    "data.groupby(\"arrestee_home_city\")[\"year_of_arrest\"].describe()"
   ]
  },
  {
   "cell_type": "code",
   "execution_count": 9,
   "metadata": {},
   "outputs": [],
   "source": [
    "#data cleaning\n",
    "\n",
    "clean_data =data.dropna(subset=['arrestee_home_city'])"
   ]
  },
  {
   "cell_type": "code",
   "execution_count": 10,
   "metadata": {},
   "outputs": [],
   "source": [
    "employment_disc = data.arrestee_employment_description.fillna(\"UNKNOWN\")"
   ]
  },
  {
   "cell_type": "code",
   "execution_count": 11,
   "metadata": {},
   "outputs": [
    {
     "data": {
      "text/plain": [
       "177168"
      ]
     },
     "execution_count": 11,
     "metadata": {},
     "output_type": "execute_result"
    }
   ],
   "source": [
    "clean_data[\"arrestee_home_city\"].count()"
   ]
  },
  {
   "cell_type": "code",
   "execution_count": 12,
   "metadata": {},
   "outputs": [
    {
     "data": {
      "text/plain": [
       "0"
      ]
     },
     "execution_count": 12,
     "metadata": {},
     "output_type": "execute_result"
    }
   ],
   "source": [
    "clean_data[\"arrestee_home_city\"].isna().sum()"
   ]
  },
  {
   "cell_type": "code",
   "execution_count": 13,
   "metadata": {},
   "outputs": [
    {
     "name": "stderr",
     "output_type": "stream",
     "text": [
      "/home/shared/sp18-is590dv/conda_envs/is590dv-default/lib/python3.6/site-packages/pandas/core/indexing.py:543: SettingWithCopyWarning:\n",
      "\n",
      "\n",
      "A value is trying to be set on a copy of a slice from a DataFrame.\n",
      "Try using .loc[row_indexer,col_indexer] = value instead\n",
      "\n",
      "See the caveats in the documentation: http://pandas.pydata.org/pandas-docs/stable/indexing.html#indexing-view-versus-copy\n",
      "\n",
      "/home/shared/sp18-is590dv/conda_envs/is590dv-default/lib/python3.6/site-packages/pandas/core/indexing.py:189: SettingWithCopyWarning:\n",
      "\n",
      "\n",
      "A value is trying to be set on a copy of a slice from a DataFrame\n",
      "\n",
      "See the caveats in the documentation: http://pandas.pydata.org/pandas-docs/stable/indexing.html#indexing-view-versus-copy\n",
      "\n",
      "/home/shared/sp18-is590dv/conda_envs/is590dv-default/lib/python3.6/site-packages/ipykernel/__main__.py:2: SettingWithCopyWarning:\n",
      "\n",
      "\n",
      "A value is trying to be set on a copy of a slice from a DataFrame\n",
      "\n",
      "See the caveats in the documentation: http://pandas.pydata.org/pandas-docs/stable/indexing.html#indexing-view-versus-copy\n",
      "\n",
      "/home/shared/sp18-is590dv/conda_envs/is590dv-default/lib/python3.6/site-packages/ipykernel/__main__.py:3: SettingWithCopyWarning:\n",
      "\n",
      "\n",
      "A value is trying to be set on a copy of a slice from a DataFrame\n",
      "\n",
      "See the caveats in the documentation: http://pandas.pydata.org/pandas-docs/stable/indexing.html#indexing-view-versus-copy\n",
      "\n",
      "/home/shared/sp18-is590dv/conda_envs/is590dv-default/lib/python3.6/site-packages/ipykernel/__main__.py:4: SettingWithCopyWarning:\n",
      "\n",
      "\n",
      "A value is trying to be set on a copy of a slice from a DataFrame\n",
      "\n",
      "See the caveats in the documentation: http://pandas.pydata.org/pandas-docs/stable/indexing.html#indexing-view-versus-copy\n",
      "\n",
      "/home/shared/sp18-is590dv/conda_envs/is590dv-default/lib/python3.6/site-packages/ipykernel/__main__.py:5: SettingWithCopyWarning:\n",
      "\n",
      "\n",
      "A value is trying to be set on a copy of a slice from a DataFrame\n",
      "\n",
      "See the caveats in the documentation: http://pandas.pydata.org/pandas-docs/stable/indexing.html#indexing-view-versus-copy\n",
      "\n",
      "/home/shared/sp18-is590dv/conda_envs/is590dv-default/lib/python3.6/site-packages/ipykernel/__main__.py:6: SettingWithCopyWarning:\n",
      "\n",
      "\n",
      "A value is trying to be set on a copy of a slice from a DataFrame\n",
      "\n",
      "See the caveats in the documentation: http://pandas.pydata.org/pandas-docs/stable/indexing.html#indexing-view-versus-copy\n",
      "\n",
      "/home/shared/sp18-is590dv/conda_envs/is590dv-default/lib/python3.6/site-packages/ipykernel/__main__.py:7: SettingWithCopyWarning:\n",
      "\n",
      "\n",
      "A value is trying to be set on a copy of a slice from a DataFrame\n",
      "\n",
      "See the caveats in the documentation: http://pandas.pydata.org/pandas-docs/stable/indexing.html#indexing-view-versus-copy\n",
      "\n",
      "/home/shared/sp18-is590dv/conda_envs/is590dv-default/lib/python3.6/site-packages/ipykernel/__main__.py:8: SettingWithCopyWarning:\n",
      "\n",
      "\n",
      "A value is trying to be set on a copy of a slice from a DataFrame\n",
      "\n",
      "See the caveats in the documentation: http://pandas.pydata.org/pandas-docs/stable/indexing.html#indexing-view-versus-copy\n",
      "\n",
      "/home/shared/sp18-is590dv/conda_envs/is590dv-default/lib/python3.6/site-packages/ipykernel/__main__.py:9: SettingWithCopyWarning:\n",
      "\n",
      "\n",
      "A value is trying to be set on a copy of a slice from a DataFrame\n",
      "\n",
      "See the caveats in the documentation: http://pandas.pydata.org/pandas-docs/stable/indexing.html#indexing-view-versus-copy\n",
      "\n"
     ]
    }
   ],
   "source": [
    "clean_data.loc[clean_data[\"arrestee_home_city\"].str.contains('CHAMAP')] = 'CHAMPAIGN'\n",
    "clean_data.loc[clean_data['arrestee_home_city'].str.contains('HMPAIGN'),'arrestee_home_city'] = 'CHAMPAIGN'\n",
    "clean_data.loc[clean_data['arrestee_home_city'].str.contains('HAMPA'),'arrestee_home_city'] = 'CHAMPAIGN'\n",
    "clean_data.loc[clean_data['arrestee_home_city'].str.contains('RBANA'),'arrestee_home_city'] = 'URBANA'\n",
    "clean_data.loc[clean_data['arrestee_home_city'].str.contains('URANA'),'arrestee_home_city'] = 'URBANA'\n",
    "clean_data.loc[clean_data['arrestee_home_city'].str.contains('URABAN'),'arrestee_home_city'] = 'URBANA'\n",
    "clean_data.loc[clean_data['arrestee_home_city'].str.contains('URABNA'),'arrestee_home_city'] = 'URBANA'\n",
    "clean_data.loc[clean_data['arrestee_home_city'].str.contains('URBAAN'),'arrestee_home_city'] = 'URBANA'\n",
    "clean_data.loc[clean_data['arrestee_home_city'].str.contains('URBAN'),'arrestee_home_city'] = 'URBANA'"
   ]
  },
  {
   "cell_type": "code",
   "execution_count": 14,
   "metadata": {},
   "outputs": [
    {
     "data": {
      "text/plain": [
       "count     177168\n",
       "unique      2471\n",
       "top       URBANA\n",
       "freq       88860\n",
       "Name: arrestee_home_city, dtype: object"
      ]
     },
     "execution_count": 14,
     "metadata": {},
     "output_type": "execute_result"
    }
   ],
   "source": [
    "clean_data[\"arrestee_home_city\"].describe()"
   ]
  },
  {
   "cell_type": "code",
   "execution_count": 15,
   "metadata": {},
   "outputs": [
    {
     "data": {
      "text/html": [
       "<div>\n",
       "<style scoped>\n",
       "    .dataframe tbody tr th:only-of-type {\n",
       "        vertical-align: middle;\n",
       "    }\n",
       "\n",
       "    .dataframe tbody tr th {\n",
       "        vertical-align: top;\n",
       "    }\n",
       "\n",
       "    .dataframe thead th {\n",
       "        text-align: right;\n",
       "    }\n",
       "</style>\n",
       "<table border=\"1\" class=\"dataframe\">\n",
       "  <thead>\n",
       "    <tr style=\"text-align: right;\">\n",
       "      <th></th>\n",
       "      <th>count</th>\n",
       "      <th>unique</th>\n",
       "      <th>top</th>\n",
       "      <th>freq</th>\n",
       "    </tr>\n",
       "    <tr>\n",
       "      <th>arrestee_home_city</th>\n",
       "      <th></th>\n",
       "      <th></th>\n",
       "      <th></th>\n",
       "      <th></th>\n",
       "    </tr>\n",
       "  </thead>\n",
       "  <tbody>\n",
       "    <tr>\n",
       "      <th>OAK PARK</th>\n",
       "      <td>1</td>\n",
       "      <td>1</td>\n",
       "      <td>1989</td>\n",
       "      <td>1</td>\n",
       "    </tr>\n",
       "    <tr>\n",
       "      <th>#2016,TEMPE</th>\n",
       "      <td>1</td>\n",
       "      <td>1</td>\n",
       "      <td>2007</td>\n",
       "      <td>1</td>\n",
       "    </tr>\n",
       "    <tr>\n",
       "      <th>#6  CARBONDALE</th>\n",
       "      <td>1</td>\n",
       "      <td>1</td>\n",
       "      <td>2005</td>\n",
       "      <td>1</td>\n",
       "    </tr>\n",
       "    <tr>\n",
       "      <th>#8 BISMARK</th>\n",
       "      <td>1</td>\n",
       "      <td>1</td>\n",
       "      <td>2004</td>\n",
       "      <td>1</td>\n",
       "    </tr>\n",
       "    <tr>\n",
       "      <th>.</th>\n",
       "      <td>30</td>\n",
       "      <td>15</td>\n",
       "      <td>1997</td>\n",
       "      <td>6</td>\n",
       "    </tr>\n",
       "    <tr>\n",
       "      <th>01-90</th>\n",
       "      <td>2</td>\n",
       "      <td>2</td>\n",
       "      <td>1990</td>\n",
       "      <td>1</td>\n",
       "    </tr>\n",
       "    <tr>\n",
       "      <th>03/90 MILWAUKEE</th>\n",
       "      <td>2</td>\n",
       "      <td>2</td>\n",
       "      <td>1990</td>\n",
       "      <td>1</td>\n",
       "    </tr>\n",
       "    <tr>\n",
       "      <th>1/90  RANTOUL</th>\n",
       "      <td>2</td>\n",
       "      <td>1</td>\n",
       "      <td>1990</td>\n",
       "      <td>2</td>\n",
       "    </tr>\n",
       "    <tr>\n",
       "      <th>10/90 CHICAGO</th>\n",
       "      <td>1</td>\n",
       "      <td>1</td>\n",
       "      <td>1990</td>\n",
       "      <td>1</td>\n",
       "    </tr>\n",
       "    <tr>\n",
       "      <th>10/92 HINSDALE</th>\n",
       "      <td>1</td>\n",
       "      <td>1</td>\n",
       "      <td>1992</td>\n",
       "      <td>1</td>\n",
       "    </tr>\n",
       "    <tr>\n",
       "      <th>11/89/CAFB/RANT</th>\n",
       "      <td>2</td>\n",
       "      <td>1</td>\n",
       "      <td>1989</td>\n",
       "      <td>2</td>\n",
       "    </tr>\n",
       "    <tr>\n",
       "      <th>11/91 PEORIA</th>\n",
       "      <td>1</td>\n",
       "      <td>1</td>\n",
       "      <td>1991</td>\n",
       "      <td>1</td>\n",
       "    </tr>\n",
       "    <tr>\n",
       "      <th>12/92 MARSHALL</th>\n",
       "      <td>1</td>\n",
       "      <td>1</td>\n",
       "      <td>1992</td>\n",
       "      <td>1</td>\n",
       "    </tr>\n",
       "    <tr>\n",
       "      <th>1996</th>\n",
       "      <td>1</td>\n",
       "      <td>1</td>\n",
       "      <td>1993</td>\n",
       "      <td>1</td>\n",
       "    </tr>\n",
       "    <tr>\n",
       "      <th>2-89 CATLIN</th>\n",
       "      <td>1</td>\n",
       "      <td>1</td>\n",
       "      <td>1989</td>\n",
       "      <td>1</td>\n",
       "    </tr>\n",
       "    <tr>\n",
       "      <th>2/93  CRETE</th>\n",
       "      <td>1</td>\n",
       "      <td>1</td>\n",
       "      <td>1993</td>\n",
       "      <td>1</td>\n",
       "    </tr>\n",
       "    <tr>\n",
       "      <th>3/90  LILBURN</th>\n",
       "      <td>1</td>\n",
       "      <td>1</td>\n",
       "      <td>1990</td>\n",
       "      <td>1</td>\n",
       "    </tr>\n",
       "    <tr>\n",
       "      <th>4/91</th>\n",
       "      <td>1</td>\n",
       "      <td>1</td>\n",
       "      <td>1988</td>\n",
       "      <td>1</td>\n",
       "    </tr>\n",
       "    <tr>\n",
       "      <th>4/91 ATLANTA</th>\n",
       "      <td>1</td>\n",
       "      <td>1</td>\n",
       "      <td>1991</td>\n",
       "      <td>1</td>\n",
       "    </tr>\n",
       "    <tr>\n",
       "      <th>5/91 NORTHBROOK</th>\n",
       "      <td>1</td>\n",
       "      <td>1</td>\n",
       "      <td>1991</td>\n",
       "      <td>1</td>\n",
       "    </tr>\n",
       "    <tr>\n",
       "      <th>504-16 MAHOMET</th>\n",
       "      <td>2</td>\n",
       "      <td>2</td>\n",
       "      <td>1995</td>\n",
       "      <td>1</td>\n",
       "    </tr>\n",
       "    <tr>\n",
       "      <th>6/90 TAMMS</th>\n",
       "      <td>2</td>\n",
       "      <td>1</td>\n",
       "      <td>1990</td>\n",
       "      <td>2</td>\n",
       "    </tr>\n",
       "    <tr>\n",
       "      <th>6/95 DECATUR</th>\n",
       "      <td>2</td>\n",
       "      <td>1</td>\n",
       "      <td>1995</td>\n",
       "      <td>2</td>\n",
       "    </tr>\n",
       "    <tr>\n",
       "      <th>7/90 SAN DIEGO</th>\n",
       "      <td>1</td>\n",
       "      <td>1</td>\n",
       "      <td>1990</td>\n",
       "      <td>1</td>\n",
       "    </tr>\n",
       "    <tr>\n",
       "      <th>9/91 WOODRIDGE</th>\n",
       "      <td>1</td>\n",
       "      <td>1</td>\n",
       "      <td>1991</td>\n",
       "      <td>1</td>\n",
       "    </tr>\n",
       "    <tr>\n",
       "      <th>9/95 SIDNEY</th>\n",
       "      <td>1</td>\n",
       "      <td>1</td>\n",
       "      <td>1995</td>\n",
       "      <td>1</td>\n",
       "    </tr>\n",
       "    <tr>\n",
       "      <th>?</th>\n",
       "      <td>2</td>\n",
       "      <td>1</td>\n",
       "      <td>2003</td>\n",
       "      <td>2</td>\n",
       "    </tr>\n",
       "    <tr>\n",
       "      <th>ABBEVILLE</th>\n",
       "      <td>1</td>\n",
       "      <td>1</td>\n",
       "      <td>1989</td>\n",
       "      <td>1</td>\n",
       "    </tr>\n",
       "    <tr>\n",
       "      <th>ABILENE</th>\n",
       "      <td>2</td>\n",
       "      <td>2</td>\n",
       "      <td>2010</td>\n",
       "      <td>1</td>\n",
       "    </tr>\n",
       "    <tr>\n",
       "      <th>ABINGDON</th>\n",
       "      <td>1</td>\n",
       "      <td>1</td>\n",
       "      <td>1996</td>\n",
       "      <td>1</td>\n",
       "    </tr>\n",
       "    <tr>\n",
       "      <th>...</th>\n",
       "      <td>...</td>\n",
       "      <td>...</td>\n",
       "      <td>...</td>\n",
       "      <td>...</td>\n",
       "    </tr>\n",
       "    <tr>\n",
       "      <th>WOODBINE</th>\n",
       "      <td>1</td>\n",
       "      <td>1</td>\n",
       "      <td>2003</td>\n",
       "      <td>1</td>\n",
       "    </tr>\n",
       "    <tr>\n",
       "      <th>WOODBURN</th>\n",
       "      <td>1</td>\n",
       "      <td>1</td>\n",
       "      <td>1996</td>\n",
       "      <td>1</td>\n",
       "    </tr>\n",
       "    <tr>\n",
       "      <th>WOODBURY</th>\n",
       "      <td>1</td>\n",
       "      <td>1</td>\n",
       "      <td>1988</td>\n",
       "      <td>1</td>\n",
       "    </tr>\n",
       "    <tr>\n",
       "      <th>WOODDALE</th>\n",
       "      <td>2</td>\n",
       "      <td>2</td>\n",
       "      <td>1998</td>\n",
       "      <td>1</td>\n",
       "    </tr>\n",
       "    <tr>\n",
       "      <th>WOODHULL</th>\n",
       "      <td>2</td>\n",
       "      <td>2</td>\n",
       "      <td>1993</td>\n",
       "      <td>1</td>\n",
       "    </tr>\n",
       "    <tr>\n",
       "      <th>WOODLAWN</th>\n",
       "      <td>2</td>\n",
       "      <td>2</td>\n",
       "      <td>2003</td>\n",
       "      <td>1</td>\n",
       "    </tr>\n",
       "    <tr>\n",
       "      <th>WOODRIDGE</th>\n",
       "      <td>14</td>\n",
       "      <td>8</td>\n",
       "      <td>2012</td>\n",
       "      <td>3</td>\n",
       "    </tr>\n",
       "    <tr>\n",
       "      <th>WOODRIVER</th>\n",
       "      <td>1</td>\n",
       "      <td>1</td>\n",
       "      <td>1998</td>\n",
       "      <td>1</td>\n",
       "    </tr>\n",
       "    <tr>\n",
       "      <th>WOODSIDE</th>\n",
       "      <td>1</td>\n",
       "      <td>1</td>\n",
       "      <td>2006</td>\n",
       "      <td>1</td>\n",
       "    </tr>\n",
       "    <tr>\n",
       "      <th>WOODSTOCK</th>\n",
       "      <td>11</td>\n",
       "      <td>7</td>\n",
       "      <td>2001</td>\n",
       "      <td>3</td>\n",
       "    </tr>\n",
       "    <tr>\n",
       "      <th>WORCESTER</th>\n",
       "      <td>2</td>\n",
       "      <td>2</td>\n",
       "      <td>1990</td>\n",
       "      <td>1</td>\n",
       "    </tr>\n",
       "    <tr>\n",
       "      <th>WORDEN</th>\n",
       "      <td>1</td>\n",
       "      <td>1</td>\n",
       "      <td>1995</td>\n",
       "      <td>1</td>\n",
       "    </tr>\n",
       "    <tr>\n",
       "      <th>WORTH</th>\n",
       "      <td>7</td>\n",
       "      <td>6</td>\n",
       "      <td>2014</td>\n",
       "      <td>2</td>\n",
       "    </tr>\n",
       "    <tr>\n",
       "      <th>WORTHINGTON</th>\n",
       "      <td>6</td>\n",
       "      <td>4</td>\n",
       "      <td>2004</td>\n",
       "      <td>2</td>\n",
       "    </tr>\n",
       "    <tr>\n",
       "      <th>WRIGHT CITY</th>\n",
       "      <td>2</td>\n",
       "      <td>2</td>\n",
       "      <td>1989</td>\n",
       "      <td>1</td>\n",
       "    </tr>\n",
       "    <tr>\n",
       "      <th>WYNNE</th>\n",
       "      <td>1</td>\n",
       "      <td>1</td>\n",
       "      <td>1989</td>\n",
       "      <td>1</td>\n",
       "    </tr>\n",
       "    <tr>\n",
       "      <th>WYOMING</th>\n",
       "      <td>3</td>\n",
       "      <td>3</td>\n",
       "      <td>2007</td>\n",
       "      <td>1</td>\n",
       "    </tr>\n",
       "    <tr>\n",
       "      <th>YALE</th>\n",
       "      <td>2</td>\n",
       "      <td>2</td>\n",
       "      <td>2011</td>\n",
       "      <td>1</td>\n",
       "    </tr>\n",
       "    <tr>\n",
       "      <th>YAPHANK</th>\n",
       "      <td>1</td>\n",
       "      <td>1</td>\n",
       "      <td>1994</td>\n",
       "      <td>1</td>\n",
       "    </tr>\n",
       "    <tr>\n",
       "      <th>YELM</th>\n",
       "      <td>1</td>\n",
       "      <td>1</td>\n",
       "      <td>2008</td>\n",
       "      <td>1</td>\n",
       "    </tr>\n",
       "    <tr>\n",
       "      <th>YORKTOWN</th>\n",
       "      <td>3</td>\n",
       "      <td>2</td>\n",
       "      <td>2002</td>\n",
       "      <td>2</td>\n",
       "    </tr>\n",
       "    <tr>\n",
       "      <th>YORKVILLE</th>\n",
       "      <td>5</td>\n",
       "      <td>5</td>\n",
       "      <td>1990</td>\n",
       "      <td>1</td>\n",
       "    </tr>\n",
       "    <tr>\n",
       "      <th>YULEE</th>\n",
       "      <td>1</td>\n",
       "      <td>1</td>\n",
       "      <td>1999</td>\n",
       "      <td>1</td>\n",
       "    </tr>\n",
       "    <tr>\n",
       "      <th>YUMA</th>\n",
       "      <td>2</td>\n",
       "      <td>1</td>\n",
       "      <td>2006</td>\n",
       "      <td>2</td>\n",
       "    </tr>\n",
       "    <tr>\n",
       "      <th>ZANESVILLE</th>\n",
       "      <td>1</td>\n",
       "      <td>1</td>\n",
       "      <td>1989</td>\n",
       "      <td>1</td>\n",
       "    </tr>\n",
       "    <tr>\n",
       "      <th>ZEIGLER</th>\n",
       "      <td>1</td>\n",
       "      <td>1</td>\n",
       "      <td>1990</td>\n",
       "      <td>1</td>\n",
       "    </tr>\n",
       "    <tr>\n",
       "      <th>ZHEJIANG CHINA</th>\n",
       "      <td>1</td>\n",
       "      <td>1</td>\n",
       "      <td>2010</td>\n",
       "      <td>1</td>\n",
       "    </tr>\n",
       "    <tr>\n",
       "      <th>ZION</th>\n",
       "      <td>10</td>\n",
       "      <td>7</td>\n",
       "      <td>1998</td>\n",
       "      <td>2</td>\n",
       "    </tr>\n",
       "    <tr>\n",
       "      <th>ZIONSVILLE</th>\n",
       "      <td>1</td>\n",
       "      <td>1</td>\n",
       "      <td>1999</td>\n",
       "      <td>1</td>\n",
       "    </tr>\n",
       "    <tr>\n",
       "      <th>`</th>\n",
       "      <td>1</td>\n",
       "      <td>1</td>\n",
       "      <td>1990</td>\n",
       "      <td>1</td>\n",
       "    </tr>\n",
       "  </tbody>\n",
       "</table>\n",
       "<p>2471 rows × 4 columns</p>\n",
       "</div>"
      ],
      "text/plain": [
       "                    count  unique   top  freq\n",
       "arrestee_home_city                           \n",
       " OAK PARK               1       1  1989     1\n",
       "#2016,TEMPE             1       1  2007     1\n",
       "#6  CARBONDALE          1       1  2005     1\n",
       "#8 BISMARK              1       1  2004     1\n",
       ".                      30      15  1997     6\n",
       "01-90                   2       2  1990     1\n",
       "03/90 MILWAUKEE         2       2  1990     1\n",
       "1/90  RANTOUL           2       1  1990     2\n",
       "10/90 CHICAGO           1       1  1990     1\n",
       "10/92 HINSDALE          1       1  1992     1\n",
       "11/89/CAFB/RANT         2       1  1989     2\n",
       "11/91 PEORIA            1       1  1991     1\n",
       "12/92 MARSHALL          1       1  1992     1\n",
       "1996                    1       1  1993     1\n",
       "2-89 CATLIN             1       1  1989     1\n",
       "2/93  CRETE             1       1  1993     1\n",
       "3/90  LILBURN           1       1  1990     1\n",
       "4/91                    1       1  1988     1\n",
       "4/91 ATLANTA            1       1  1991     1\n",
       "5/91 NORTHBROOK         1       1  1991     1\n",
       "504-16 MAHOMET          2       2  1995     1\n",
       "6/90 TAMMS              2       1  1990     2\n",
       "6/95 DECATUR            2       1  1995     2\n",
       "7/90 SAN DIEGO          1       1  1990     1\n",
       "9/91 WOODRIDGE          1       1  1991     1\n",
       "9/95 SIDNEY             1       1  1995     1\n",
       "?                       2       1  2003     2\n",
       "ABBEVILLE               1       1  1989     1\n",
       "ABILENE                 2       2  2010     1\n",
       "ABINGDON                1       1  1996     1\n",
       "...                   ...     ...   ...   ...\n",
       "WOODBINE                1       1  2003     1\n",
       "WOODBURN                1       1  1996     1\n",
       "WOODBURY                1       1  1988     1\n",
       "WOODDALE                2       2  1998     1\n",
       "WOODHULL                2       2  1993     1\n",
       "WOODLAWN                2       2  2003     1\n",
       "WOODRIDGE              14       8  2012     3\n",
       "WOODRIVER               1       1  1998     1\n",
       "WOODSIDE                1       1  2006     1\n",
       "WOODSTOCK              11       7  2001     3\n",
       "WORCESTER               2       2  1990     1\n",
       "WORDEN                  1       1  1995     1\n",
       "WORTH                   7       6  2014     2\n",
       "WORTHINGTON             6       4  2004     2\n",
       "WRIGHT CITY             2       2  1989     1\n",
       "WYNNE                   1       1  1989     1\n",
       "WYOMING                 3       3  2007     1\n",
       "YALE                    2       2  2011     1\n",
       "YAPHANK                 1       1  1994     1\n",
       "YELM                    1       1  2008     1\n",
       "YORKTOWN                3       2  2002     2\n",
       "YORKVILLE               5       5  1990     1\n",
       "YULEE                   1       1  1999     1\n",
       "YUMA                    2       1  2006     2\n",
       "ZANESVILLE              1       1  1989     1\n",
       "ZEIGLER                 1       1  1990     1\n",
       "ZHEJIANG CHINA          1       1  2010     1\n",
       "ZION                   10       7  1998     2\n",
       "ZIONSVILLE              1       1  1999     1\n",
       "`                       1       1  1990     1\n",
       "\n",
       "[2471 rows x 4 columns]"
      ]
     },
     "execution_count": 15,
     "metadata": {},
     "output_type": "execute_result"
    }
   ],
   "source": [
    "clean_data.groupby(\"arrestee_home_city\")[\"year_of_arrest\"].describe()"
   ]
  },
  {
   "cell_type": "markdown",
   "metadata": {},
   "source": [
    "# Age of Person at the time of arrest"
   ]
  },
  {
   "cell_type": "code",
   "execution_count": 16,
   "metadata": {},
   "outputs": [
    {
     "data": {
      "text/plain": [
       "Text(0.5, 1.0, 'Arrests by Age')"
      ]
     },
     "execution_count": 16,
     "metadata": {},
     "output_type": "execute_result"
    },
    {
     "data": {
      "image/png": "[encoded data removed]",
      "text/plain": [
       "<Figure size 1800x720 with 1 Axes>"
      ]
     },
     "metadata": {
      "needs_background": "light"
     },
     "output_type": "display_data"
    }
   ],
   "source": [
    "plt.figure(figsize = (25,10))\n",
    "data[\"age_at_arrest\"].value_counts().plot.bar()\n",
    "\n",
    "plt.xlabel('Age')\n",
    "plt.ylabel('Count')\n",
    "plt.title('Arrests by Age')"
   ]
  },
  {
   "cell_type": "code",
   "execution_count": 17,
   "metadata": {},
   "outputs": [],
   "source": [
    "data_under_18 = []\n",
    "\n",
    "data_under_18 = data.copy()\n",
    "condition = data_under_18[\"age_at_arrest\"] >= 18\n",
    "rows = data_under_18.loc[condition,:]\n",
    "data_under_18.drop(rows.index, inplace = True)   #19164 records\n",
    "\n",
    "#data_under_18"
   ]
  },
  {
   "cell_type": "code",
   "execution_count": 18,
   "metadata": {},
   "outputs": [],
   "source": [
    "data_age_errors = []\n",
    "data_age_errors = data_under_18.copy()\n",
    "\n",
    "condition = data_age_errors[\"age_at_arrest\"] > 0\n",
    "rows = data_age_errors.loc[condition,:]\n",
    "data_age_errors.drop(rows.index, inplace = True)  #207 records\n",
    "#data_age_errors"
   ]
  },
  {
   "cell_type": "code",
   "execution_count": 19,
   "metadata": {},
   "outputs": [],
   "source": [
    "data_minors = []\n",
    "\n",
    "data_minors = data_under_18.copy()\n",
    "\n",
    "condition = data_minors['age_at_arrest'] <= 0\n",
    "rows = data_minors.loc[(condition), :]\n",
    "data_minors.drop(rows.index, inplace=True)   #18957 records\n",
    "\n",
    "#data_minors"
   ]
  },
  {
   "cell_type": "code",
   "execution_count": 20,
   "metadata": {},
   "outputs": [],
   "source": [
    "data_non_minors = []\n",
    "data_non_minors = data.copy()\n",
    "\n",
    "cond = data_non_minors['age_at_arrest'] < 18\n",
    "rows = data_non_minors.loc[cond, :]\n",
    "data_non_minors.drop(rows.index, inplace=True)                # 181507 records\n",
    "\n",
    "#data_non_minors"
   ]
  },
  {
   "cell_type": "code",
   "execution_count": 21,
   "metadata": {},
   "outputs": [
    {
     "name": "stderr",
     "output_type": "stream",
     "text": [
      "/home/shared/sp18-is590dv/conda_envs/is590dv-default/lib/python3.6/site-packages/scipy/stats/stats.py:1713: FutureWarning:\n",
      "\n",
      "Using a non-tuple sequence for multidimensional indexing is deprecated; use `arr[tuple(seq)]` instead of `arr[seq]`. In the future this will be interpreted as an array index, `arr[np.array(seq)]`, which will result either in an error or a different result.\n",
      "\n"
     ]
    },
    {
     "data": {
      "image/png": "[encoded data removed]",
      "text/plain": [
       "<Figure size 1080x720 with 1 Axes>"
      ]
     },
     "metadata": {
      "needs_background": "light"
     },
     "output_type": "display_data"
    }
   ],
   "source": [
    "\n",
    "plt.figure(figsize = (15,10))\n",
    "# histogram\n",
    "sns.distplot(data_minors['age_at_arrest'])\n",
    "plt.ylabel('Probability', size = 10)\n",
    "plt.xlabel('Arrestee Age', size = 10)\n",
    "plt.title('Distribution of age at arrest for minors', size = 15);"
   ]
  },
  {
   "cell_type": "markdown",
   "metadata": {},
   "source": [
    "# Distribution By Race"
   ]
  },
  {
   "cell_type": "markdown",
   "metadata": {},
   "source": [
    "#### Firstly we wanted to look at the breakdown of crimes comitted by males and females individually. Later we broke down it to total crimes comitted by different races and after that we visualized it according to the races and gender both."
   ]
  },
  {
   "cell_type": "code",
   "execution_count": 22,
   "metadata": {},
   "outputs": [],
   "source": [
    "def get_x_y_for_plotting(pandas_series):\n",
    "    count_map = {}\n",
    "    for colum_data in pandas_series:\n",
    "        count_map[colum_data] = count_map.get(colum_data, 0) + 1\n",
    "\n",
    "    colum_data_list = []\n",
    "    count_list = []\n",
    "    for colum_data, count in count_map.items():\n",
    "        colum_data_list.append(colum_data)\n",
    "        count_list.append(count)\n",
    "    return colum_data_list, count_list"
   ]
  },
  {
   "cell_type": "code",
   "execution_count": 23,
   "metadata": {},
   "outputs": [
    {
     "data": {
      "text/plain": [
       "Text(0, 0.5, 'Arrested Counts')"
      ]
     },
     "execution_count": 23,
     "metadata": {},
     "output_type": "execute_result"
    },
    {
     "data": {
      "image/png": "[encoded data removed]",
      "text/plain": [
       "<Figure size 432x288 with 1 Axes>"
      ]
     },
     "metadata": {
      "needs_background": "light"
     },
     "output_type": "display_data"
    }
   ],
   "source": [
    "x, y = get_x_y_for_plotting(data[data.arrestee_sex.isin(['MALE', 'FEMALE'])].arrestee_sex)\n",
    "plt.bar(x, y)\n",
    "plt.title(\"Arrested Counts Associated to Gender in Urbana From 1989 ~ 2018\")\n",
    "plt.xlabel('Gender')\n",
    "plt.ylabel(\"Arrested Counts\")"
   ]
  },
  {
   "cell_type": "code",
   "execution_count": 24,
   "metadata": {},
   "outputs": [
    {
     "data": {
      "text/plain": [
       "array(['BLACK', 'WHITE', 'AMERICAN INDIAN/ALASKAN', 'HISPANIC', 'ASIAN',\n",
       "       'UNKNOWN', '.', 'BUSINESS OR OTHER'], dtype=object)"
      ]
     },
     "execution_count": 24,
     "metadata": {},
     "output_type": "execute_result"
    }
   ],
   "source": [
    "data[\"arrestee_race\"].unique()"
   ]
  },
  {
   "cell_type": "code",
   "execution_count": 25,
   "metadata": {},
   "outputs": [],
   "source": [
    "#cleaning arrestee race column\n",
    "\n",
    "clean_race_data = data[(data['arrestee_race'] != '.') & (data['arrestee_race'] != 'BUSINESS OR OTHER')]\n",
    "clean_race_df = clean_race_data.groupby('arrestee_race').count()\n",
    "#clean_race_df"
   ]
  },
  {
   "cell_type": "code",
   "execution_count": 26,
   "metadata": {},
   "outputs": [
    {
     "data": {
      "text/plain": [
       "arrestee_race\n",
       "UNKNOWN                       179\n",
       "AMERICAN INDIAN/ALASKAN       230\n",
       "HISPANIC                     7097\n",
       "ASIAN                        9287\n",
       "BLACK                       83264\n",
       "WHITE                      100417\n",
       "Name: count, dtype: int64"
      ]
     },
     "execution_count": 26,
     "metadata": {},
     "output_type": "execute_result"
    }
   ],
   "source": [
    "#sort race by highest to lowest\n",
    "sorted_race = clean_race_df['count'].sort_values()\n",
    "sorted_race"
   ]
  },
  {
   "cell_type": "code",
   "execution_count": 27,
   "metadata": {},
   "outputs": [
    {
     "data": {
      "text/plain": [
       "Text(0.5, 1.0, 'Racial breakdown of arrestees')"
      ]
     },
     "execution_count": 27,
     "metadata": {},
     "output_type": "execute_result"
    },
    {
     "data": {
      "image/png": "[encoded data removed]",
      "text/plain": [
       "<Figure size 720x504 with 1 Axes>"
      ]
     },
     "metadata": {
      "needs_background": "light"
     },
     "output_type": "display_data"
    }
   ],
   "source": [
    "plt.figure(figsize = (10,7))\n",
    "plt.barh(range(len(sorted_race.index)), sorted_race.values, color='blue')\n",
    "plt.yticks(range(len(sorted_race.index)), sorted_race.index)\n",
    "plt.xlabel('Number of people (thousands)', size = 12)\n",
    "plt.xticks([0, 20000, 40000, 60000, 80000, 100000], ['0', '20k', '40k', '60k','80k', '100k'])\n",
    "plt.title('Racial breakdown of arrestees', size = 15)"
   ]
  },
  {
   "cell_type": "code",
   "execution_count": 28,
   "metadata": {},
   "outputs": [],
   "source": [
    "def count_race_gender(race, gender):\n",
    "    return len(data[(data.arrestee_race == race)&(data.arrestee_sex == gender)])"
   ]
  },
  {
   "cell_type": "code",
   "execution_count": 29,
   "metadata": {},
   "outputs": [
    {
     "data": {
      "text/plain": [
       "<matplotlib.legend.Legend at 0x7f53cd19d860>"
      ]
     },
     "execution_count": 29,
     "metadata": {},
     "output_type": "execute_result"
    },
    {
     "data": {
      "image/png": "[encoded data removed]",
      "text/plain": [
       "<Figure size 432x288 with 1 Axes>"
      ]
     },
     "metadata": {
      "needs_background": "light"
     },
     "output_type": "display_data"
    }
   ],
   "source": [
    "mpl_fig = plt.figure()\n",
    "ax = mpl_fig.add_subplot(111)\n",
    "\n",
    "races = list(set(data[~data.arrestee_race.isin(['.', 'UNKNOWN', 'BUSINESS OR OTHER'])].arrestee_race))\n",
    "\n",
    "hash_map = {}\n",
    "for race in races:\n",
    "    hash_map[race] = {}\n",
    "    hash_map[race][\"MALE\"] = count_race_gender(race, \"MALE\")\n",
    "    hash_map[race][\"FEMALE\"] = count_race_gender(race, \"FEMALE\")\n",
    "\n",
    "male_count = [hash_map[race]['MALE'] for race in hash_map]\n",
    "female_count = [hash_map[race]['FEMALE'] for race in hash_map]\n",
    "\n",
    "p1 = ax.barh(races, male_count, color=(0.2588,0.4433,1.0))\n",
    "p2 = ax.barh(races, female_count, color=(1.0,0.5,0.62))\n",
    "ax.set_ylabel('Race')\n",
    "ax.set_xlabel('Count')\n",
    "ax.set_title('Crime counts by Races and Gender')\n",
    "\n",
    "\n",
    "plt.legend([\"MALE\", \"FEMALE\"])\n"
   ]
  },
  {
   "cell_type": "code",
   "execution_count": 30,
   "metadata": {},
   "outputs": [],
   "source": [
    "all_race = [race for race in sorted_race.index]\n",
    "all_race.append('ALL')\n",
    "all_race_rev = list(reversed(all_race))"
   ]
  },
  {
   "cell_type": "code",
   "execution_count": 31,
   "metadata": {},
   "outputs": [
    {
     "data": {
      "application/vnd.jupyter.widget-view+json": {
       "model_id": "e013fcaf8531447ab3d92120aa716471",
       "version_major": 2,
       "version_minor": 0
      },
      "text/plain": [
       "interactive(children=(Dropdown(description='selector', options=('ALL', 'WHITE', 'BLACK', 'ASIAN', 'HISPANIC', …"
      ]
     },
     "metadata": {},
     "output_type": "display_data"
    }
   ],
   "source": [
    "\n",
    "@ipywidgets.interact(selector = all_race_rev)\n",
    "def make_plot(selector):\n",
    "    if selector == 'ALL': \n",
    "        for race in all_race:\n",
    "            if race != 'ALL':\n",
    "                plt.plot(data[data['arrestee_race'] == race].groupby('year_of_arrest')['count'].count(), marker = '.', label=race)\n",
    "            plt.legend(prop={'size': 5})\n",
    "           \n",
    "    else: \n",
    "        plt.plot(data[data['arrestee_race'] == selector].groupby('year_of_arrest')['count'].count(), marker = '.', color='red', label=selector)\n",
    "    plt.ylabel('Count of People')\n",
    "    plt.yticks([0, 1000, 2000, 3000, 4000])\n",
    "    plt.xlabel('Year')\n",
    "    plt.title('Arrestee Race over years')"
   ]
  },
  {
   "cell_type": "markdown",
   "metadata": {},
   "source": [
    "# Distribution by Employment\n"
   ]
  },
  {
   "cell_type": "code",
   "execution_count": 32,
   "metadata": {},
   "outputs": [],
   "source": [
    "\n",
    "employment_count = {}\n",
    "for employment in employment_disc:\n",
    "    employment_count[employment] = employment_count.get(employment, 0) + 1\n",
    "\n",
    "employment_disc = []\n",
    "count_list = []\n",
    "for employment, count in employment_count.items():\n",
    "    employment_disc.append(employment)\n",
    "    count_list.append(count)"
   ]
  },
  {
   "cell_type": "code",
   "execution_count": 33,
   "metadata": {},
   "outputs": [
    {
     "data": {
      "text/plain": [
       "Text(0, 0.5, 'Employment Status')"
      ]
     },
     "execution_count": 33,
     "metadata": {},
     "output_type": "execute_result"
    },
    {
     "data": {
      "image/png": "[encoded data removed]",
      "text/plain": [
       "<Figure size 720x504 with 1 Axes>"
      ]
     },
     "metadata": {
      "needs_background": "light"
     },
     "output_type": "display_data"
    }
   ],
   "source": [
    "plt.figure(figsize = (10,7))\n",
    "plt.plot(employment_disc, count_list)\n",
    "plt.title(\"Arrested Counts per Employment Status\")\n",
    "plt.xlabel('Arrested Counts')\n",
    "plt.ylabel(\"Employment Status\")"
   ]
  },
  {
   "cell_type": "markdown",
   "metadata": {},
   "source": [
    "## Trying to plot map by distribution of arrestee states"
   ]
  },
  {
   "cell_type": "code",
   "execution_count": 34,
   "metadata": {},
   "outputs": [
    {
     "data": {
      "text/html": [
       "<div>\n",
       "<style scoped>\n",
       "    .dataframe tbody tr th:only-of-type {\n",
       "        vertical-align: middle;\n",
       "    }\n",
       "\n",
       "    .dataframe tbody tr th {\n",
       "        vertical-align: top;\n",
       "    }\n",
       "\n",
       "    .dataframe thead th {\n",
       "        text-align: right;\n",
       "    }\n",
       "</style>\n",
       "<table border=\"1\" class=\"dataframe\">\n",
       "  <thead>\n",
       "    <tr style=\"text-align: right;\">\n",
       "      <th></th>\n",
       "      <th>arrest_code</th>\n",
       "      <th>incident_number</th>\n",
       "      <th>date_of_arrest</th>\n",
       "      <th>year_of_arrest</th>\n",
       "      <th>month_of_arrest</th>\n",
       "      <th>arrest_type_description</th>\n",
       "      <th>crime_code</th>\n",
       "      <th>crime_code_description</th>\n",
       "      <th>crime_category_code</th>\n",
       "      <th>crime_category_description</th>\n",
       "      <th>...</th>\n",
       "      <th>arrestee_sex</th>\n",
       "      <th>arrestee_race</th>\n",
       "      <th>arrestee_employment_description</th>\n",
       "      <th>arrestee_residency_description</th>\n",
       "      <th>arrestee_home_city</th>\n",
       "      <th>arrestee_home_state</th>\n",
       "      <th>arrestee_home_zip</th>\n",
       "      <th>arrest_resolution</th>\n",
       "      <th>count</th>\n",
       "      <th>arrestee_home_city_mapped</th>\n",
       "    </tr>\n",
       "  </thead>\n",
       "  <tbody>\n",
       "    <tr>\n",
       "      <th>0</th>\n",
       "      <td>A00-00003</td>\n",
       "      <td>T00-00003</td>\n",
       "      <td>01/04/2000</td>\n",
       "      <td>2000</td>\n",
       "      <td>1</td>\n",
       "      <td>SUMMONED</td>\n",
       "      <td>2461</td>\n",
       "      <td>OPERATE UNINSURED MOTOR VEHICLE</td>\n",
       "      <td>C28</td>\n",
       "      <td>Traffic Offenses</td>\n",
       "      <td>...</td>\n",
       "      <td>MALE</td>\n",
       "      <td>BLACK</td>\n",
       "      <td>UNKNOWN</td>\n",
       "      <td>RESIDENT</td>\n",
       "      <td>CHAMPAIGN</td>\n",
       "      <td>IL</td>\n",
       "      <td>61820</td>\n",
       "      <td>BONDED OUT</td>\n",
       "      <td>1</td>\n",
       "      <td>CHAMPAIGN,IL,61820</td>\n",
       "    </tr>\n",
       "    <tr>\n",
       "      <th>1</th>\n",
       "      <td>A00-00004</td>\n",
       "      <td>T00-00004</td>\n",
       "      <td>01/04/2000</td>\n",
       "      <td>2000</td>\n",
       "      <td>1</td>\n",
       "      <td>SUMMONED</td>\n",
       "      <td>6601</td>\n",
       "      <td>SPEEDING (RADAR)</td>\n",
       "      <td>C28</td>\n",
       "      <td>Traffic Offenses</td>\n",
       "      <td>...</td>\n",
       "      <td>FEMALE</td>\n",
       "      <td>WHITE</td>\n",
       "      <td>EMPLOYED</td>\n",
       "      <td>NON-RESIDENT</td>\n",
       "      <td>POTOMAC</td>\n",
       "      <td>IL</td>\n",
       "      <td>61865</td>\n",
       "      <td>BONDED OUT</td>\n",
       "      <td>1</td>\n",
       "      <td>POTOMAC,IL,61865</td>\n",
       "    </tr>\n",
       "    <tr>\n",
       "      <th>2</th>\n",
       "      <td>A00-00006</td>\n",
       "      <td>T00-00006</td>\n",
       "      <td>01/04/2000</td>\n",
       "      <td>2000</td>\n",
       "      <td>1</td>\n",
       "      <td>SUMMONED</td>\n",
       "      <td>6601</td>\n",
       "      <td>SPEEDING (RADAR)</td>\n",
       "      <td>C28</td>\n",
       "      <td>Traffic Offenses</td>\n",
       "      <td>...</td>\n",
       "      <td>FEMALE</td>\n",
       "      <td>WHITE</td>\n",
       "      <td>UNKNOWN</td>\n",
       "      <td>RESIDENT</td>\n",
       "      <td>NaN</td>\n",
       "      <td>NaN</td>\n",
       "      <td>00000</td>\n",
       "      <td>BONDED OUT</td>\n",
       "      <td>1</td>\n",
       "      <td>,,00000</td>\n",
       "    </tr>\n",
       "    <tr>\n",
       "      <th>3</th>\n",
       "      <td>A00-00007</td>\n",
       "      <td>T00-00007</td>\n",
       "      <td>01/04/2000</td>\n",
       "      <td>2000</td>\n",
       "      <td>1</td>\n",
       "      <td>SUMMONED</td>\n",
       "      <td>6601</td>\n",
       "      <td>SPEEDING (RADAR)</td>\n",
       "      <td>C28</td>\n",
       "      <td>Traffic Offenses</td>\n",
       "      <td>...</td>\n",
       "      <td>FEMALE</td>\n",
       "      <td>WHITE</td>\n",
       "      <td>UNKNOWN</td>\n",
       "      <td>NON-RESIDENT</td>\n",
       "      <td>CHAMPAIGN</td>\n",
       "      <td>IL</td>\n",
       "      <td>61820</td>\n",
       "      <td>BONDED OUT</td>\n",
       "      <td>1</td>\n",
       "      <td>CHAMPAIGN,IL,61820</td>\n",
       "    </tr>\n",
       "    <tr>\n",
       "      <th>4</th>\n",
       "      <td>A00-00008</td>\n",
       "      <td>T00-00008</td>\n",
       "      <td>01/04/2000</td>\n",
       "      <td>2000</td>\n",
       "      <td>1</td>\n",
       "      <td>SUMMONED</td>\n",
       "      <td>2461</td>\n",
       "      <td>OPERATE UNINSURED MOTOR VEHICLE</td>\n",
       "      <td>C28</td>\n",
       "      <td>Traffic Offenses</td>\n",
       "      <td>...</td>\n",
       "      <td>MALE</td>\n",
       "      <td>WHITE</td>\n",
       "      <td>UNKNOWN</td>\n",
       "      <td>NON-RESIDENT</td>\n",
       "      <td>CHAMPAIGN</td>\n",
       "      <td>IL</td>\n",
       "      <td>61820</td>\n",
       "      <td>BONDED OUT</td>\n",
       "      <td>1</td>\n",
       "      <td>CHAMPAIGN,IL,61820</td>\n",
       "    </tr>\n",
       "  </tbody>\n",
       "</table>\n",
       "<p>5 rows × 26 columns</p>\n",
       "</div>"
      ],
      "text/plain": [
       "  arrest_code incident_number date_of_arrest  year_of_arrest  month_of_arrest  \\\n",
       "0   A00-00003       T00-00003     01/04/2000            2000                1   \n",
       "1   A00-00004       T00-00004     01/04/2000            2000                1   \n",
       "2   A00-00006       T00-00006     01/04/2000            2000                1   \n",
       "3   A00-00007       T00-00007     01/04/2000            2000                1   \n",
       "4   A00-00008       T00-00008     01/04/2000            2000                1   \n",
       "\n",
       "  arrest_type_description  crime_code           crime_code_description  \\\n",
       "0                SUMMONED        2461  OPERATE UNINSURED MOTOR VEHICLE   \n",
       "1                SUMMONED        6601                 SPEEDING (RADAR)   \n",
       "2                SUMMONED        6601                 SPEEDING (RADAR)   \n",
       "3                SUMMONED        6601                 SPEEDING (RADAR)   \n",
       "4                SUMMONED        2461  OPERATE UNINSURED MOTOR VEHICLE   \n",
       "\n",
       "  crime_category_code crime_category_description            ...             \\\n",
       "0                 C28           Traffic Offenses            ...              \n",
       "1                 C28           Traffic Offenses            ...              \n",
       "2                 C28           Traffic Offenses            ...              \n",
       "3                 C28           Traffic Offenses            ...              \n",
       "4                 C28           Traffic Offenses            ...              \n",
       "\n",
       "  arrestee_sex arrestee_race arrestee_employment_description  \\\n",
       "0         MALE         BLACK                         UNKNOWN   \n",
       "1       FEMALE         WHITE                        EMPLOYED   \n",
       "2       FEMALE         WHITE                         UNKNOWN   \n",
       "3       FEMALE         WHITE                         UNKNOWN   \n",
       "4         MALE         WHITE                         UNKNOWN   \n",
       "\n",
       "   arrestee_residency_description arrestee_home_city  arrestee_home_state  \\\n",
       "0                        RESIDENT          CHAMPAIGN                   IL   \n",
       "1                    NON-RESIDENT            POTOMAC                   IL   \n",
       "2                        RESIDENT                NaN                  NaN   \n",
       "3                    NON-RESIDENT          CHAMPAIGN                   IL   \n",
       "4                    NON-RESIDENT          CHAMPAIGN                   IL   \n",
       "\n",
       "  arrestee_home_zip arrest_resolution count arrestee_home_city_mapped  \n",
       "0             61820        BONDED OUT     1        CHAMPAIGN,IL,61820  \n",
       "1             61865        BONDED OUT     1          POTOMAC,IL,61865  \n",
       "2             00000        BONDED OUT     1                   ,,00000  \n",
       "3             61820        BONDED OUT     1        CHAMPAIGN,IL,61820  \n",
       "4             61820        BONDED OUT     1        CHAMPAIGN,IL,61820  \n",
       "\n",
       "[5 rows x 26 columns]"
      ]
     },
     "execution_count": 34,
     "metadata": {},
     "output_type": "execute_result"
    }
   ],
   "source": [
    "data.head()"
   ]
  },
  {
   "cell_type": "code",
   "execution_count": 35,
   "metadata": {},
   "outputs": [],
   "source": [
    "for col in data.columns:\n",
    "    data[col] = data[col].astype(str)"
   ]
  },
  {
   "cell_type": "code",
   "execution_count": 36,
   "metadata": {},
   "outputs": [
    {
     "data": {
      "text/plain": [
       "0           CHAMPAIGN,IL,61820\n",
       "1             POTOMAC,IL,61865\n",
       "2                      ,,00000\n",
       "3           CHAMPAIGN,IL,61820\n",
       "4           CHAMPAIGN,IL,61820\n",
       "5              URBANA,IL,61801\n",
       "6               HOMER,IL,61849\n",
       "7          THOMASBORO,IL,61878\n",
       "8           CHAMPAIGN,IL,61820\n",
       "9           CHAMPAIGN,IL,61820\n",
       "10             URBANA,IL,00000\n",
       "11             URBANA,IL,61801\n",
       "12             SKOKIE,IL,60077\n",
       "13        NORTH HAVEN,CT,06473\n",
       "14             URBANA,IL,61801\n",
       "15         CARBONDALE,IL,62901\n",
       "16             URBANA,IL,61801\n",
       "17           DANVILLE,IL,61832\n",
       "18          CHAMPAIGN,IL,61820\n",
       "19          CHAMPAIGN,IL,61820\n",
       "20          CHAMPAIGN,IL,61820\n",
       "21          CHAMPAIGN,IL,61820\n",
       "22          CHAMPAIGN,IL,61820\n",
       "23             NEWMAN,IL,61942\n",
       "24             NEWMAN,IL,61942\n",
       "25          CHAMPAIGN,IL,61820\n",
       "26          CHAMPAIGN,IL,61820\n",
       "27         THOMASBORO,IL,61878\n",
       "28          CHAMPAIGN,IL,61820\n",
       "29             `RBANA,IL,61801\n",
       "                  ...         \n",
       "200641      CHAMPAIGN,IL,61821\n",
       "200642      CHAMPAIGN,IL,61821\n",
       "200643      CHAMPAIGN,IL,61822\n",
       "200644      ST JOSEPH,IL,61873\n",
       "200645                      ,,\n",
       "200646                      ,,\n",
       "200647                      ,,\n",
       "200648                      ,,\n",
       "200649                      ,,\n",
       "200650                      ,,\n",
       "200651                      ,,\n",
       "200652                      ,,\n",
       "200653         URBANA,IL,61802\n",
       "200654         URBANA,IL,61801\n",
       "200655         PEORIA,IL,61602\n",
       "200656                      ,,\n",
       "200657                      ,,\n",
       "200658                      ,,\n",
       "200659                      ,,\n",
       "200660                      ,,\n",
       "200661                      ,,\n",
       "200662                      ,,\n",
       "200663                      ,,\n",
       "200664        ROSELLE,IL,60172\n",
       "200665        CHICAGO,IL,00000\n",
       "200666                      ,,\n",
       "200667                      ,,\n",
       "200668                      ,,\n",
       "200669         URBANA,IL,61801\n",
       "200670         URBANA,IL,61801\n",
       "Name: arrestee_home_city_mapped, Length: 200671, dtype: object"
      ]
     },
     "execution_count": 36,
     "metadata": {},
     "output_type": "execute_result"
    }
   ],
   "source": [
    "data[col]"
   ]
  },
  {
   "cell_type": "code",
   "execution_count": 37,
   "metadata": {},
   "outputs": [],
   "source": [
    "scl = [[0.0, 'rgb(242,240,247)'],[0.2, 'rgb(218,218,235)'],[0.4, 'rgb(188,189,220)'],\\\n",
    "            [0.6, 'rgb(158,154,200)'],[0.8, 'rgb(117,107,177)'],[1.0, 'rgb(84,39,143)']]"
   ]
  },
  {
   "cell_type": "code",
   "execution_count": null,
   "metadata": {},
   "outputs": [],
   "source": []
  },
  {
   "cell_type": "code",
   "execution_count": 38,
   "metadata": {},
   "outputs": [],
   "source": [
    "int_age_data = data[\"age_at_arrest\"].apply(lambda x: int(x[:-2]))\n",
    "cleaned_age = data[int_age_data > 0][\"age_at_arrest\"].apply(lambda x: int(x[:-2]))"
   ]
  },
  {
   "cell_type": "code",
   "execution_count": 39,
   "metadata": {},
   "outputs": [],
   "source": [
    "from collections import OrderedDict\n",
    "\n",
    "age_count_map = {}\n",
    "for age in cleaned_age:\n",
    "    if age not in age_count_map:\n",
    "        age_count_map[age] = 1\n",
    "    else:\n",
    "        age_count_map[age] += 1"
   ]
  },
  {
   "cell_type": "code",
   "execution_count": 40,
   "metadata": {},
   "outputs": [],
   "source": [
    "ordered_dict = OrderedDict(sorted(age_count_map.items(), key = lambda x: x[0]))\n",
    "age_list = []\n",
    "count_list = []\n",
    "for age, count in ordered_dict.items():\n",
    "    if age < 150:\n",
    "        age_list.append(age)\n",
    "        count_list.append(count)"
   ]
  },
  {
   "cell_type": "code",
   "execution_count": 41,
   "metadata": {},
   "outputs": [],
   "source": [
    "def on_selection_change(change):\n",
    "    min_val, max_val = change['new']\n",
    "    selected = (cleaned_age < max_val) & (cleaned_age > min_val)\n",
    "    total_counts = 0\n",
    "    for age, count in ordered_dict.items():\n",
    "        if min_val < age and age < max_val:\n",
    "            total_counts += count\n",
    "    label.value = \"Total Counts: %s\" % total_counts"
   ]
  },
  {
   "cell_type": "code",
   "execution_count": 42,
   "metadata": {},
   "outputs": [],
   "source": [
    "x_sc = bqplot.LinearScale()\n",
    "y_sc = bqplot.LinearScale()\n",
    "\n",
    "x_ax = bqplot.Axis(scale = x_sc, label = 'Age')\n",
    "y_ax = bqplot.Axis(scale = y_sc, label = 'Count', orientation = 'vertical')\n",
    "\n",
    "scatters = bqplot.Scatter(x = age_list,\n",
    "                          y = count_list,\n",
    "                          scales = {'x': x_sc, 'y': y_sc})\n",
    "\n",
    "selector = bqplot.interacts.FastIntervalSelector(\n",
    "            scale = x_sc, marks = [scatters])"
   ]
  },
  {
   "cell_type": "code",
   "execution_count": 43,
   "metadata": {},
   "outputs": [],
   "source": [
    "import bqplot"
   ]
  },
  {
   "cell_type": "code",
   "execution_count": 44,
   "metadata": {
    "scrolled": true
   },
   "outputs": [
    {
     "data": {
      "application/vnd.jupyter.widget-view+json": {
       "model_id": "eae009eadf1141ecb1f660bb8c779e15",
       "version_major": 2,
       "version_minor": 0
      },
      "text/plain": [
       "Figure(axes=[Axis(label='Age', scale=LinearScale(), side='bottom'), Axis(label='Count', orientation='vertical'…"
      ]
     },
     "metadata": {},
     "output_type": "display_data"
    }
   ],
   "source": [
    "selector = bqplot.interacts.FastIntervalSelector(\n",
    "            scale = x_sc, marks = [scatters])\n",
    "fig = bqplot.Figure(marks = [scatters], axes = [x_ax, y_ax], interaction = selector)\n",
    "display(fig)"
   ]
  },
  {
   "cell_type": "code",
   "execution_count": 45,
   "metadata": {},
   "outputs": [
    {
     "data": {
      "application/vnd.jupyter.widget-view+json": {
       "model_id": "e8cf8089249a4b11bc50de210425f4d6",
       "version_major": 2,
       "version_minor": 0
      },
      "text/plain": [
       "Label(value='Total counts for range of Age: ')"
      ]
     },
     "metadata": {},
     "output_type": "display_data"
    }
   ],
   "source": [
    "selector.observe(on_selection_change, ['selected'])\n",
    "label = ipywidgets.Label(\"Total counts for range of Age: \")\n",
    "display(label)"
   ]
  },
  {
   "cell_type": "code",
   "execution_count": 48,
   "metadata": {},
   "outputs": [
    {
     "data": {
      "text/plain": [
       "200464"
      ]
     },
     "execution_count": 48,
     "metadata": {},
     "output_type": "execute_result"
    }
   ],
   "source": [
    "cleaned_age.value_counts().sum()"
   ]
  },
  {
   "cell_type": "code",
   "execution_count": null,
   "metadata": {},
   "outputs": [],
   "source": []
  },
  {
   "cell_type": "code",
   "execution_count": null,
   "metadata": {},
   "outputs": [],
   "source": []
  },
  {
   "cell_type": "code",
   "execution_count": null,
   "metadata": {},
   "outputs": [],
   "source": []
  }
 ],
 "metadata": {
  "kernelspec": {
   "display_name": "Environment (conda_is590dv-default)",
   "language": "python",
   "name": "conda_is590dv-default"
  },
  "language_info": {
   "codemirror_mode": {
    "name": "ipython",
    "version": 3
   },
   "file_extension": ".py",
   "mimetype": "text/x-python",
   "name": "python",
   "nbconvert_exporter": "python",
   "pygments_lexer": "ipython3",
   "version": "3.6.6"
  },
  "widgets": {
   "application/vnd.jupyter.widget-state+json": {
    "state": {
     "0006d811701f41b289120fd148dce32a": {
      "model_module": "bqplot",
      "model_module_version": "^0.4.1",
      "model_name": "FastIntervalSelectorModel",
      "state": {
       "_model_module_version": "^0.4.1",
       "_view_module_version": "^0.4.1",
       "marks": [
        "IPY_MODEL_ab334493e9b44eafb89f4e00b36beb32"
       ],
       "scale": "IPY_MODEL_d8439f5e8ef74e4e93feda3483b8c455",
       "selected": {
        "type": "object",
        "values": [
         38.1937806372549,
         67.81142769607843
        ]
       }
      }
     },
     "00d0800ee4eb4c2ca47d9905cf0adca1": {
      "model_module": "@jupyter-widgets/controls",
      "model_module_version": "1.4.0",
      "model_name": "DescriptionStyleModel",
      "state": {
       "description_width": ""
      }
     },
     "00efc6171d8646c9b1e38135c778e744": {
      "model_module": "bqplot",
      "model_module_version": "^0.4.1",
      "model_name": "LinearScaleModel",
      "state": {
       "_model_module_version": "^0.4.1",
       "_view_module_version": "^0.4.1",
       "allow_padding": false,
       "max": 1,
       "min": 0,
       "stabilized": false
      }
     },
     "010f93d83afb4288aa3140a967a75e41": {
      "model_module": "bqplot",
      "model_module_version": "^0.4.1",
      "model_name": "FigureModel",
      "state": {
       "_dom_classes": [],
       "_model_module_version": "^0.4.1",
       "_view_module_version": "^0.4.1",
       "axes": [
        "IPY_MODEL_b219a2b7e38b4ae49a947899307f8019",
        "IPY_MODEL_6cbe97fdf80447848f4407f332a21098"
       ],
       "interaction": "IPY_MODEL_0006d811701f41b289120fd148dce32a",
       "layout": "IPY_MODEL_2bcba9cd9d264a58b7e42002601b344b",
       "marks": [
        "IPY_MODEL_ab334493e9b44eafb89f4e00b36beb32"
       ],
       "scale_x": "IPY_MODEL_cf33934be41c49c9b3f31e046e022fa5",
       "scale_y": "IPY_MODEL_92ecc92137d24899b7e690c3b33d149a"
      }
     },
     "022f0e0a025540afb65891448396de2e": {
      "model_module": "@jupyter-widgets/controls",
      "model_module_version": "1.4.0",
      "model_name": "DescriptionStyleModel",
      "state": {
       "description_width": ""
      }
     },
     "022fbadd3c7547e9b7cb7d294fdde381": {
      "model_module": "@jupyter-widgets/base",
      "model_module_version": "1.1.0",
      "model_name": "LayoutModel",
      "state": {}
     },
     "0248cf8ea0ca4899b261ff69db767641": {
      "model_module": "bqplot",
      "model_module_version": "^0.4.1",
      "model_name": "LinearScaleModel",
      "state": {
       "_model_module_version": "^0.4.1",
       "_view_module_version": "^0.4.1",
       "allow_padding": false,
       "max": 1,
       "min": 0,
       "stabilized": false
      }
     },
     "03a27da663934d4dbe6047adc375a54c": {
      "model_module": "@jupyter-widgets/controls",
      "model_module_version": "1.4.0",
      "model_name": "DescriptionStyleModel",
      "state": {
       "description_width": ""
      }
     },
     "04568d0080c34379adc464c6ed8b22cf": {
      "model_module": "bqplot",
      "model_module_version": "^0.4.1",
      "model_name": "AxisModel",
      "state": {
       "_model_module_version": "^0.4.1",
       "_view_module_version": "^0.4.1",
       "label": "Count",
       "orientation": "vertical",
       "scale": "IPY_MODEL_e4a28c222a5a460e82f41c965b181fea",
       "side": "left",
       "tick_values": {
        "type": null,
        "values": null
       }
      }
     },
     "0571ac743dd9433082675734767c9ea2": {
      "model_module": "bqplot",
      "model_module_version": "^0.4.1",
      "model_name": "LinearScaleModel",
      "state": {
       "_model_module_version": "^0.4.1",
       "_view_module_version": "^0.4.1",
       "stabilized": false
      }
     },
     "05828bca8cdb4dbfbc9fff803cba5d5e": {
      "model_module": "bqplot",
      "model_module_version": "^0.4.1",
      "model_name": "LinearScaleModel",
      "state": {
       "_model_module_version": "^0.4.1",
       "_view_module_version": "^0.4.1",
       "allow_padding": false,
       "max": 1,
       "min": 0,
       "stabilized": false
      }
     },
     "05977443e9964838901216c00150bd03": {
      "model_module": "@jupyter-widgets/controls",
      "model_module_version": "1.4.0",
      "model_name": "DescriptionStyleModel",
      "state": {
       "description_width": ""
      }
     },
     "09c3c1a5866b495f937301406bd75c75": {
      "model_module": "bqplot",
      "model_module_version": "^0.4.1",
      "model_name": "ScatterModel",
      "state": {
       "_model_module_version": "^0.4.1",
       "_view_module_version": "^0.4.1",
       "color": {
        "type": null,
        "values": null
       },
       "colors": [
        "steelblue"
       ],
       "display_legend": false,
       "names": {
        "type": null,
        "values": null
       },
       "opacity": {
        "type": null,
        "values": null
       },
       "rotation": {
        "type": null,
        "values": null
       },
       "scales": {
        "x": "IPY_MODEL_d9f4b0632efe4826a0f92c753cad0790",
        "y": "IPY_MODEL_96d61c3af51b46f79e6ce578bcc55526"
       },
       "scales_metadata": {
        "color": {
         "dimension": "color"
        },
        "opacity": {
         "dimension": "opacity"
        },
        "rotation": {
         "dimension": "rotation"
        },
        "size": {
         "dimension": "size"
        },
        "skew": {
         "dimension": "skew"
        },
        "x": {
         "dimension": "x",
         "orientation": "horizontal"
        },
        "y": {
         "dimension": "y",
         "orientation": "vertical"
        }
       },
       "size": {
        "type": null,
        "values": null
       },
       "skew": {
        "type": null,
        "values": null
       },
       "x": {
        "type": "float",
        "values": [
         1,
         3,
         5,
         6,
         7,
         8,
         9,
         10,
         11,
         12,
         13,
         14,
         15,
         16,
         17,
         18,
         19,
         20,
         21,
         22,
         23,
         24,
         25,
         26,
         27,
         28,
         29,
         30,
         31,
         32,
         33,
         34,
         35,
         36,
         37,
         38,
         39,
         40,
         41,
         42,
         43,
         44,
         45,
         46,
         47,
         48,
         49,
         50,
         51,
         52,
         53,
         54,
         55,
         56,
         57,
         58,
         59,
         60,
         61,
         62,
         63,
         64,
         65,
         66,
         67,
         68,
         69,
         70,
         71,
         72,
         73,
         74,
         75,
         76,
         77,
         78,
         79,
         80,
         81,
         82,
         83,
         84,
         85,
         86,
         87,
         88,
         89,
         90,
         91,
         92,
         93,
         94,
         95,
         96
        ]
       },
       "y": {
        "type": "float",
        "values": [
         4,
         4,
         1,
         1,
         10,
         32,
         67,
         173,
         456,
         823,
         1371,
         2092,
         2791,
         4946,
         6186,
         9370,
         11655,
         12835,
         12069,
         10563,
         9068,
         8280,
         7306,
         6786,
         6344,
         5995,
         5411,
         5121,
         4759,
         4233,
         4056,
         3873,
         3695,
         3580,
         3311,
         3131,
         2818,
         2687,
         2554,
         2486,
         2244,
         1992,
         2092,
         1835,
         1706,
         1525,
         1368,
         1393,
         1359,
         1189,
         1159,
         1013,
         1004,
         906,
         825,
         725,
         660,
         631,
         585,
         501,
         438,
         392,
         388,
         374,
         288,
         244,
         245,
         218,
         195,
         187,
         202,
         170,
         170,
         165,
         129,
         131,
         124,
         119,
         106,
         94,
         88,
         83,
         57,
         49,
         39,
         28,
         23,
         19,
         10,
         11,
         7,
         4,
         1,
         4
        ]
       }
      }
     },
     "0c385f6698724e93a702df2ca1f7154d": {
      "model_module": "@jupyter-widgets/controls",
      "model_module_version": "1.4.0",
      "model_name": "DescriptionStyleModel",
      "state": {
       "description_width": ""
      }
     },
     "0cb6c407bff94c51bd830cee5299ab5d": {
      "model_module": "@jupyter-widgets/controls",
      "model_module_version": "1.4.0",
      "model_name": "LabelModel",
      "state": {
       "layout": "IPY_MODEL_022fbadd3c7547e9b7cb7d294fdde381",
       "style": "IPY_MODEL_ca8b287c409b461fb6765e7e0aa235a1",
       "value": "Total counts for range of Age: "
      }
     },
     "0cc6729945194f45a46c847d32c122ce": {
      "model_module": "bqplot",
      "model_module_version": "^0.4.1",
      "model_name": "ScatterModel",
      "state": {
       "_model_module_version": "^0.4.1",
       "_view_module_version": "^0.4.1",
       "color": {
        "type": null,
        "values": null
       },
       "colors": [
        "steelblue"
       ],
       "display_legend": false,
       "names": {
        "type": null,
        "values": null
       },
       "opacity": {
        "type": null,
        "values": null
       },
       "rotation": {
        "type": null,
        "values": null
       },
       "scales": {
        "x": "IPY_MODEL_d6b3a70c9e4743fb8a4377d6c6385e34",
        "y": "IPY_MODEL_3b92ee5868cf426aa8614631228be1e8"
       },
       "scales_metadata": {
        "color": {
         "dimension": "color"
        },
        "opacity": {
         "dimension": "opacity"
        },
        "rotation": {
         "dimension": "rotation"
        },
        "size": {
         "dimension": "size"
        },
        "skew": {
         "dimension": "skew"
        },
        "x": {
         "dimension": "x",
         "orientation": "horizontal"
        },
        "y": {
         "dimension": "y",
         "orientation": "vertical"
        }
       },
       "selected": [],
       "size": {
        "type": null,
        "values": null
       },
       "skew": {
        "type": null,
        "values": null
       },
       "x": {
        "type": "float",
        "values": [
         1,
         3,
         5,
         6,
         7,
         8,
         9,
         10,
         11,
         12,
         13,
         14,
         15,
         16,
         17,
         18,
         19,
         20,
         21,
         22,
         23,
         24,
         25,
         26,
         27,
         28,
         29,
         30,
         31,
         32,
         33,
         34,
         35,
         36,
         37,
         38,
         39,
         40,
         41,
         42,
         43,
         44,
         45,
         46,
         47,
         48,
         49,
         50,
         51,
         52,
         53,
         54,
         55,
         56,
         57,
         58,
         59,
         60,
         61,
         62,
         63,
         64,
         65,
         66,
         67,
         68,
         69,
         70,
         71,
         72,
         73,
         74,
         75,
         76,
         77,
         78,
         79,
         80,
         81,
         82,
         83,
         84,
         85,
         86,
         87,
         88,
         89,
         90,
         91,
         92,
         93,
         94,
         95,
         96
        ]
       },
       "y": {
        "type": "float",
        "values": [
         4,
         4,
         1,
         1,
         10,
         32,
         67,
         173,
         456,
         823,
         1371,
         2092,
         2791,
         4946,
         6186,
         9370,
         11655,
         12835,
         12069,
         10563,
         9068,
         8280,
         7306,
         6786,
         6344,
         5995,
         5411,
         5121,
         4759,
         4233,
         4056,
         3873,
         3695,
         3580,
         3311,
         3131,
         2818,
         2687,
         2554,
         2486,
         2244,
         1992,
         2092,
         1835,
         1706,
         1525,
         1368,
         1393,
         1359,
         1189,
         1159,
         1013,
         1004,
         906,
         825,
         725,
         660,
         631,
         585,
         501,
         438,
         392,
         388,
         374,
         288,
         244,
         245,
         218,
         195,
         187,
         202,
         170,
         170,
         165,
         129,
         131,
         124,
         119,
         106,
         94,
         88,
         83,
         57,
         49,
         39,
         28,
         23,
         19,
         10,
         11,
         7,
         4,
         1,
         4
        ]
       }
      }
     },
     "0d50f90fe223476d898d9de7cf8e9ce5": {
      "model_module": "bqplot",
      "model_module_version": "^0.4.1",
      "model_name": "FigureModel",
      "state": {
       "_dom_classes": [],
       "_model_module_version": "^0.4.1",
       "_view_module_version": "^0.4.1",
       "axes": [
        "IPY_MODEL_ee9427f160694537925ed1f9eb55e3f0",
        "IPY_MODEL_5d87de069c2142389419c02c89e0c155"
       ],
       "interaction": "IPY_MODEL_79ad896b465e48fa9e7c864b648518a9",
       "layout": "IPY_MODEL_f6d78d4bac7049cfb3162facd6167e6a",
       "marks": [
        "IPY_MODEL_40a0ce8d855e43c590641c0ca8a7a9a0"
       ],
       "scale_x": "IPY_MODEL_acf57741f8a8471383f9a322cda4741e",
       "scale_y": "IPY_MODEL_21c63764f12f4fb09176249ec44e1c5c"
      }
     },
     "0dfc0e9f98534c39bc9da5b8764bed84": {
      "model_module": "@jupyter-widgets/base",
      "model_module_version": "1.1.0",
      "model_name": "LayoutModel",
      "state": {
       "min_width": "125px"
      }
     },
     "0e08edde27bf49c0b90806c1741a01da": {
      "model_module": "bqplot",
      "model_module_version": "^0.4.1",
      "model_name": "FastIntervalSelectorModel",
      "state": {
       "_model_module_version": "^0.4.1",
       "_view_module_version": "^0.4.1",
       "marks": [
        "IPY_MODEL_ac524969416b4776bbc713aac3d1903a"
       ],
       "scale": "IPY_MODEL_74be5e562e6048728b60ad1c007eaa2e",
       "selected": {
        "type": "object",
        "values": [
         21.149662990196077,
         50.95358455882352
        ]
       }
      }
     },
     "0e453bc6695a4ab6b3f1df07e96a1f8a": {
      "model_module": "bqplot",
      "model_module_version": "^0.4.1",
      "model_name": "LinearScaleModel",
      "state": {
       "_model_module_version": "^0.4.1",
       "_view_module_version": "^0.4.1",
       "allow_padding": false,
       "max": 1,
       "min": 0,
       "stabilized": false
      }
     },
     "0e8617a9d9534f6cbc41f28a62b6c9c2": {
      "model_module": "@jupyter-widgets/controls",
      "model_module_version": "1.4.0",
      "model_name": "DescriptionStyleModel",
      "state": {
       "description_width": ""
      }
     },
     "0e876dd3590047f2a584c929ba916531": {
      "model_module": "bqplot",
      "model_module_version": "^0.4.1",
      "model_name": "AxisModel",
      "state": {
       "_model_module_version": "^0.4.1",
       "_view_module_version": "^0.4.1",
       "label": "Count",
       "orientation": "vertical",
       "scale": "IPY_MODEL_988e290edb36477c861debbc7a6b05c8",
       "side": "left",
       "tick_values": {
        "type": null,
        "values": null
       }
      }
     },
     "0ec5b5deb15a432e989f5a0a493578db": {
      "model_module": "@jupyter-widgets/controls",
      "model_module_version": "1.4.0",
      "model_name": "VBoxModel",
      "state": {
       "_dom_classes": [
        "widget-interact"
       ],
       "children": [
        "IPY_MODEL_574ad06553064e1f877a9ebed586e720",
        "IPY_MODEL_83c2640e94354de8a1ab23bc93bd4e72"
       ],
       "layout": "IPY_MODEL_7ddc262d265b4da291d68febb7f8c34e"
      }
     },
     "0f8034eda30b46cdb94dc4fb17b82eba": {
      "model_module": "bqplot",
      "model_module_version": "^0.4.1",
      "model_name": "LinearScaleModel",
      "state": {
       "_model_module_version": "^0.4.1",
       "_view_module_version": "^0.4.1",
       "allow_padding": false,
       "max": 1,
       "min": 0,
       "stabilized": false
      }
     },
     "10a4fffe30734224a379a0ccdbbe065b": {
      "model_module": "bqplot",
      "model_module_version": "^0.4.1",
      "model_name": "FigureModel",
      "state": {
       "_dom_classes": [],
       "_model_module_version": "^0.4.1",
       "_view_module_version": "^0.4.1",
       "axes": [
        "IPY_MODEL_a5ab353351dd4a09a6d6de1bd4876af5",
        "IPY_MODEL_aa5c2e1891eb43928a52b054b2e36042"
       ],
       "interaction": "IPY_MODEL_c92472428dc944d4bd5a32c9257dadff",
       "layout": "IPY_MODEL_0dfc0e9f98534c39bc9da5b8764bed84",
       "marks": [
        "IPY_MODEL_1f90c256d467402389562183fdccbca9"
       ],
       "scale_x": "IPY_MODEL_6808fdd4451a4838a24944f666f3f766",
       "scale_y": "IPY_MODEL_78307cc35d7145ed8a2efef55be23ef5"
      }
     },
     "11fbf417e7d9403395f42ee449459c12": {
      "model_module": "@jupyter-widgets/controls",
      "model_module_version": "1.4.0",
      "model_name": "DescriptionStyleModel",
      "state": {
       "description_width": ""
      }
     },
     "12d2522380954e94950bfe3e8f54a0d4": {
      "model_module": "@jupyter-widgets/controls",
      "model_module_version": "1.4.0",
      "model_name": "DescriptionStyleModel",
      "state": {
       "description_width": ""
      }
     },
     "13dbabdc3c814724ba6eede6acae1234": {
      "model_module": "bqplot",
      "model_module_version": "^0.4.1",
      "model_name": "FastIntervalSelectorModel",
      "state": {
       "_model_module_version": "^0.4.1",
       "_view_module_version": "^0.4.1",
       "marks": [
        "IPY_MODEL_39432560dc6341f3bbb30c42f2a98030"
       ],
       "scale": "IPY_MODEL_43d219a6ba8146138253a23cb442ead8",
       "selected": {
        "type": "object",
        "values": [
         68.09083946078431,
         92.67907475490195
        ]
       }
      }
     },
     "13eccef4b798451b9e3235a4460d136f": {
      "model_module": "@jupyter-widgets/base",
      "model_module_version": "1.1.0",
      "model_name": "LayoutModel",
      "state": {}
     },
     "14808d36bf024bb7a84ccf10b64b517b": {
      "model_module": "@jupyter-widgets/controls",
      "model_module_version": "1.4.0",
      "model_name": "LabelModel",
      "state": {
       "layout": "IPY_MODEL_7f73df728fe34364949866047e84096a",
       "style": "IPY_MODEL_c1b54367275643afadf108ff4d8421d0",
       "value": "Total counts for range of Age: "
      }
     },
     "14d670c5cd5748758d62f6f00bcb368c": {
      "model_module": "@jupyter-widgets/controls",
      "model_module_version": "1.4.0",
      "model_name": "DropdownModel",
      "state": {
       "_options_labels": [
        "ALL",
        "WHITE",
        "BLACK",
        "ASIAN",
        "HISPANIC",
        "AMERICAN INDIAN/ALASKAN",
        "UNKNOWN"
       ],
       "description": "selector",
       "index": 0,
       "layout": "IPY_MODEL_881151a6adc24943ac8ce73cad40ffc2",
       "style": "IPY_MODEL_8a198a5cad964dfdb6a2d63cb1f59d11"
      }
     },
     "150038f831714ed99a73f2c4001708cb": {
      "model_module": "bqplot",
      "model_module_version": "^0.4.1",
      "model_name": "LinearScaleModel",
      "state": {
       "_model_module_version": "^0.4.1",
       "_view_module_version": "^0.4.1",
       "allow_padding": false,
       "max": 1,
       "min": 0,
       "stabilized": false
      }
     },
     "156061e7ac174e62ad483f7377a24849": {
      "model_module": "bqplot",
      "model_module_version": "^0.4.1",
      "model_name": "LinearScaleModel",
      "state": {
       "_model_module_version": "^0.4.1",
       "_view_module_version": "^0.4.1",
       "allow_padding": false,
       "max": 1,
       "min": 0,
       "stabilized": false
      }
     },
     "17bed0d8d30249ada7216c93a39adfb3": {
      "model_module": "@jupyter-widgets/controls",
      "model_module_version": "1.4.0",
      "model_name": "DescriptionStyleModel",
      "state": {
       "description_width": ""
      }
     },
     "1842f7246dde4fa996fbd15d1353204c": {
      "model_module": "bqplot",
      "model_module_version": "^0.4.1",
      "model_name": "LinearScaleModel",
      "state": {
       "_model_module_version": "^0.4.1",
       "_view_module_version": "^0.4.1",
       "allow_padding": false,
       "max": 1,
       "min": 0,
       "stabilized": false
      }
     },
     "19cee2248cf9409faba3c485a1f0be60": {
      "model_module": "@jupyter-widgets/base",
      "model_module_version": "1.1.0",
      "model_name": "LayoutModel",
      "state": {}
     },
     "1a3e70c5041848769e12076ac5465f35": {
      "model_module": "bqplot",
      "model_module_version": "^0.4.1",
      "model_name": "LinearScaleModel",
      "state": {
       "_model_module_version": "^0.4.1",
       "_view_module_version": "^0.4.1",
       "stabilized": false
      }
     },
     "1bed6734f8134fbba3f50d6c0af07e0f": {
      "model_module": "@jupyter-widgets/controls",
      "model_module_version": "1.4.0",
      "model_name": "LabelModel",
      "state": {
       "layout": "IPY_MODEL_35235a675e63487390ba17b7fde310c6",
       "style": "IPY_MODEL_17bed0d8d30249ada7216c93a39adfb3",
       "value": "Total square footage: "
      }
     },
     "1f2fe5b237a4403ca4559aad7d5ca9c8": {
      "model_module": "bqplot",
      "model_module_version": "^0.4.1",
      "model_name": "FastIntervalSelectorModel",
      "state": {
       "_model_module_version": "^0.4.1",
       "_view_module_version": "^0.4.1",
       "marks": [
        "IPY_MODEL_b5675a83296444e49d0ed613030422c9"
       ],
       "scale": "IPY_MODEL_f2b7944c54da4d45b3661d4695e02278",
       "selected": {
        "type": "object",
        "values": [
         10.718290441176471,
         24.875153186274506
        ]
       }
      }
     },
     "1f90c256d467402389562183fdccbca9": {
      "model_module": "bqplot",
      "model_module_version": "^0.4.1",
      "model_name": "ScatterModel",
      "state": {
       "_model_module_version": "^0.4.1",
       "_view_module_version": "^0.4.1",
       "color": {
        "type": null,
        "values": null
       },
       "colors": [
        "steelblue"
       ],
       "display_legend": false,
       "names": {
        "type": null,
        "values": null
       },
       "opacity": {
        "type": null,
        "values": null
       },
       "rotation": {
        "type": null,
        "values": null
       },
       "scales": {
        "x": "IPY_MODEL_3d32b92b3545411285b0215fe64abeb1",
        "y": "IPY_MODEL_5af8abeca53c493f999bded8465bb762"
       },
       "scales_metadata": {
        "color": {
         "dimension": "color"
        },
        "opacity": {
         "dimension": "opacity"
        },
        "rotation": {
         "dimension": "rotation"
        },
        "size": {
         "dimension": "size"
        },
        "skew": {
         "dimension": "skew"
        },
        "x": {
         "dimension": "x",
         "orientation": "horizontal"
        },
        "y": {
         "dimension": "y",
         "orientation": "vertical"
        }
       },
       "size": {
        "type": null,
        "values": null
       },
       "skew": {
        "type": null,
        "values": null
       },
       "x": {
        "type": "float",
        "values": [
         1,
         3,
         5,
         6,
         7,
         8,
         9,
         10,
         11,
         12,
         13,
         14,
         15,
         16,
         17,
         18,
         19,
         20,
         21,
         22,
         23,
         24,
         25,
         26,
         27,
         28,
         29,
         30,
         31,
         32,
         33,
         34,
         35,
         36,
         37,
         38,
         39,
         40,
         41,
         42,
         43,
         44,
         45,
         46,
         47,
         48,
         49,
         50,
         51,
         52,
         53,
         54,
         55,
         56,
         57,
         58,
         59,
         60,
         61,
         62,
         63,
         64,
         65,
         66,
         67,
         68,
         69,
         70,
         71,
         72,
         73,
         74,
         75,
         76,
         77,
         78,
         79,
         80,
         81,
         82,
         83,
         84,
         85,
         86,
         87,
         88,
         89,
         90,
         91,
         92,
         93,
         94,
         95,
         96
        ]
       },
       "y": {
        "type": "float",
        "values": [
         4,
         4,
         1,
         1,
         10,
         32,
         67,
         173,
         456,
         823,
         1371,
         2092,
         2791,
         4946,
         6186,
         9370,
         11655,
         12835,
         12069,
         10563,
         9068,
         8280,
         7306,
         6786,
         6344,
         5995,
         5411,
         5121,
         4759,
         4233,
         4056,
         3873,
         3695,
         3580,
         3311,
         3131,
         2818,
         2687,
         2554,
         2486,
         2244,
         1992,
         2092,
         1835,
         1706,
         1525,
         1368,
         1393,
         1359,
         1189,
         1159,
         1013,
         1004,
         906,
         825,
         725,
         660,
         631,
         585,
         501,
         438,
         392,
         388,
         374,
         288,
         244,
         245,
         218,
         195,
         187,
         202,
         170,
         170,
         165,
         129,
         131,
         124,
         119,
         106,
         94,
         88,
         83,
         57,
         49,
         39,
         28,
         23,
         19,
         10,
         11,
         7,
         4,
         1,
         4
        ]
       }
      }
     },
     "1fa31a660bb74e65b08508090f8b6469": {
      "model_module": "bqplot",
      "model_module_version": "^0.4.1",
      "model_name": "LinearScaleModel",
      "state": {
       "_model_module_version": "^0.4.1",
       "_view_module_version": "^0.4.1",
       "stabilized": false
      }
     },
     "2158cd160ce64faf9cb30f27cd4972f2": {
      "model_module": "@jupyter-widgets/base",
      "model_module_version": "1.1.0",
      "model_name": "LayoutModel",
      "state": {
       "min_width": "125px"
      }
     },
     "2161ff7fb42541c991c0ee9e57f8d7dd": {
      "model_module": "@jupyter-widgets/controls",
      "model_module_version": "1.4.0",
      "model_name": "DescriptionStyleModel",
      "state": {
       "description_width": ""
      }
     },
     "2186ea2ec8624a1ba94670d0b0b928ec": {
      "model_module": "bqplot",
      "model_module_version": "^0.4.1",
      "model_name": "FastIntervalSelectorModel",
      "state": {
       "_model_module_version": "^0.4.1",
       "_view_module_version": "^0.4.1",
       "marks": [
        "IPY_MODEL_d182cc3dc3cd4579a47d80d0ba2fabce"
       ],
       "scale": "IPY_MODEL_6ee01b91ce4f419092a26f6486979c81",
       "selected": {
        "type": null,
        "values": {}
       }
      }
     },
     "21c63764f12f4fb09176249ec44e1c5c": {
      "model_module": "bqplot",
      "model_module_version": "^0.4.1",
      "model_name": "LinearScaleModel",
      "state": {
       "_model_module_version": "^0.4.1",
       "_view_module_version": "^0.4.1",
       "allow_padding": false,
       "max": 1,
       "min": 0,
       "stabilized": false
      }
     },
     "2277eb72cac74eedada697f2b005eb57": {
      "model_module": "@jupyter-widgets/controls",
      "model_module_version": "1.4.0",
      "model_name": "LabelModel",
      "state": {
       "layout": "IPY_MODEL_3a0921d6a0fe4218903854ee73cb08a8",
       "style": "IPY_MODEL_eec8af9f00ee428f84c45ba74148d20a",
       "value": "Total counts for range of Age: "
      }
     },
     "23f7db584bc64280b043a50f00b94f0b": {
      "model_module": "@jupyter-widgets/base",
      "model_module_version": "1.1.0",
      "model_name": "LayoutModel",
      "state": {}
     },
     "249dbcb6180b497d9cf9bce2dfaff9ea": {
      "model_module": "bqplot",
      "model_module_version": "^0.4.1",
      "model_name": "LinearScaleModel",
      "state": {
       "_model_module_version": "^0.4.1",
       "_view_module_version": "^0.4.1",
       "allow_padding": false,
       "max": 1,
       "min": 0,
       "stabilized": false
      }
     },
     "2674f2e1c7ad46168c2abf70934f0a64": {
      "model_module": "bqplot",
      "model_module_version": "^0.4.1",
      "model_name": "FigureModel",
      "state": {
       "_dom_classes": [],
       "_model_module_version": "^0.4.1",
       "_view_module_version": "^0.4.1",
       "axes": [
        "IPY_MODEL_8cf16e66dd094da5b1c480677d0dfcf4",
        "IPY_MODEL_c7f663b5c3454fad95845aa450ec66bb"
       ],
       "interaction": "IPY_MODEL_0e08edde27bf49c0b90806c1741a01da",
       "layout": "IPY_MODEL_d45252fe75314e4197f8f1aedc8bc2b0",
       "marks": [
        "IPY_MODEL_ac524969416b4776bbc713aac3d1903a"
       ],
       "scale_x": "IPY_MODEL_9eec5aef475444499d8068b6f2f7fdb4",
       "scale_y": "IPY_MODEL_3448ed40f82c499bab5b29ed2f788b3a"
      }
     },
     "27fb45226f284144959131c7a6711196": {
      "model_module": "bqplot",
      "model_module_version": "^0.4.1",
      "model_name": "FigureModel",
      "state": {
       "_dom_classes": [],
       "_model_module_version": "^0.4.1",
       "_view_module_version": "^0.4.1",
       "axes": [
        "IPY_MODEL_8cf16e66dd094da5b1c480677d0dfcf4",
        "IPY_MODEL_c7f663b5c3454fad95845aa450ec66bb"
       ],
       "interaction": "IPY_MODEL_def9cd292c794409b297287562e440cb",
       "layout": "IPY_MODEL_649894d1fba04539b73a709e35db66e9",
       "marks": [
        "IPY_MODEL_ac524969416b4776bbc713aac3d1903a"
       ],
       "scale_x": "IPY_MODEL_7ac2d84206074411834ecd6f5930f835",
       "scale_y": "IPY_MODEL_c1c5ab7776f44297bc6f8b0b82b32b84"
      }
     },
     "2a73f2e84d1a4c3099efa23e5bf78324": {
      "model_module": "bqplot",
      "model_module_version": "^0.4.1",
      "model_name": "LinearScaleModel",
      "state": {
       "_model_module_version": "^0.4.1",
       "_view_module_version": "^0.4.1",
       "stabilized": false
      }
     },
     "2bcba9cd9d264a58b7e42002601b344b": {
      "model_module": "@jupyter-widgets/base",
      "model_module_version": "1.1.0",
      "model_name": "LayoutModel",
      "state": {
       "min_width": "125px"
      }
     },
     "2dbc7410c994435ab15e5cda5671b4de": {
      "model_module": "@jupyter-widgets/controls",
      "model_module_version": "1.4.0",
      "model_name": "LabelModel",
      "state": {
       "layout": "IPY_MODEL_2ed97c2d111e4c02851889f2eeb774cf",
       "style": "IPY_MODEL_b101688bae8f4aaca03cb1f84611e2ec",
       "value": "Total counts for range of Age: "
      }
     },
     "2e5ebfdaa1264a06840f85e8fdbd0a35": {
      "model_module": "bqplot",
      "model_module_version": "^0.4.1",
      "model_name": "FigureModel",
      "state": {
       "_dom_classes": [],
       "_model_module_version": "^0.4.1",
       "_view_module_version": "^0.4.1",
       "axes": [
        "IPY_MODEL_f54d0a647329498e9d30f82d59507533",
        "IPY_MODEL_5f081df947664ed383ad7df042c0226f"
       ],
       "interaction": "IPY_MODEL_e9d9db67b02d43478c1421c4cd9b885a",
       "layout": "IPY_MODEL_b52510aea7d04d0ba4db3f7aa5dd359c",
       "marks": [
        "IPY_MODEL_e64d46dcfaec45bf80b390b24043f26c"
       ],
       "scale_x": "IPY_MODEL_703efea327a545e18e010a8a30f31e83",
       "scale_y": "IPY_MODEL_7c11fd9de1a844b8936d85fe8caf3ca1"
      }
     },
     "2ed97c2d111e4c02851889f2eeb774cf": {
      "model_module": "@jupyter-widgets/base",
      "model_module_version": "1.1.0",
      "model_name": "LayoutModel",
      "state": {}
     },
     "3002fb742ba34b278d17ba89dfbdc214": {
      "model_module": "bqplot",
      "model_module_version": "^0.4.1",
      "model_name": "LinearScaleModel",
      "state": {
       "_model_module_version": "^0.4.1",
       "_view_module_version": "^0.4.1",
       "stabilized": false
      }
     },
     "314577c013dc4ebfbe046d9310bdae4e": {
      "model_module": "@jupyter-widgets/controls",
      "model_module_version": "1.4.0",
      "model_name": "DropdownModel",
      "state": {
       "_options_labels": [
        "ALL",
        "WHITE",
        "BLACK",
        "ASIAN",
        "HISPANIC",
        "AMERICAN INDIAN/ALASKAN",
        "UNKNOWN"
       ],
       "description": "selector",
       "index": 0,
       "layout": "IPY_MODEL_a872a5d3c7da4fb9b694fb086d2f8f0f",
       "style": "IPY_MODEL_da8f58d79ee04f76aa4d1517e8d83e53"
      }
     },
     "32e1d7e007a945a8be0a1547da561166": {
      "model_module": "bqplot",
      "model_module_version": "^0.4.1",
      "model_name": "LinearScaleModel",
      "state": {
       "_model_module_version": "^0.4.1",
       "_view_module_version": "^0.4.1",
       "allow_padding": false,
       "max": 1,
       "min": 0,
       "stabilized": false
      }
     },
     "3448ed40f82c499bab5b29ed2f788b3a": {
      "model_module": "bqplot",
      "model_module_version": "^0.4.1",
      "model_name": "LinearScaleModel",
      "state": {
       "_model_module_version": "^0.4.1",
       "_view_module_version": "^0.4.1",
       "allow_padding": false,
       "max": 1,
       "min": 0,
       "stabilized": false
      }
     },
     "346ae96b527a4664b2c30d385e5c6f58": {
      "model_module": "bqplot",
      "model_module_version": "^0.4.1",
      "model_name": "LinearScaleModel",
      "state": {
       "_model_module_version": "^0.4.1",
       "_view_module_version": "^0.4.1",
       "stabilized": false
      }
     },
     "348985df36b246df9803ee0e2b11e6ae": {
      "model_module": "@jupyter-widgets/controls",
      "model_module_version": "1.4.0",
      "model_name": "DescriptionStyleModel",
      "state": {
       "description_width": ""
      }
     },
     "34946e28fc2745f097ff0a234f0c21e2": {
      "model_module": "bqplot",
      "model_module_version": "^0.4.1",
      "model_name": "LinearScaleModel",
      "state": {
       "_model_module_version": "^0.4.1",
       "_view_module_version": "^0.4.1",
       "stabilized": false
      }
     },
     "34dcbe9dfc2140f99abe84e07cf48a93": {
      "model_module": "@jupyter-widgets/base",
      "model_module_version": "1.1.0",
      "model_name": "LayoutModel",
      "state": {}
     },
     "35235a675e63487390ba17b7fde310c6": {
      "model_module": "@jupyter-widgets/base",
      "model_module_version": "1.1.0",
      "model_name": "LayoutModel",
      "state": {}
     },
     "356145bf90184e17aafb4ee852ae67d9": {
      "model_module": "@jupyter-widgets/base",
      "model_module_version": "1.1.0",
      "model_name": "LayoutModel",
      "state": {
       "min_width": "125px"
      }
     },
     "35b69bf8ab344689b5820aea136875c7": {
      "model_module": "bqplot",
      "model_module_version": "^0.4.1",
      "model_name": "AxisModel",
      "state": {
       "_model_module_version": "^0.4.1",
       "_view_module_version": "^0.4.1",
       "label": "Age",
       "scale": "IPY_MODEL_9de853c0566547328c5a898878a4ad25",
       "side": "bottom",
       "tick_values": {
        "type": null,
        "values": null
       }
      }
     },
     "376bc5a17695406cbcdb2e00cd870d3f": {
      "model_module": "@jupyter-widgets/base",
      "model_module_version": "1.1.0",
      "model_name": "LayoutModel",
      "state": {}
     },
     "376f4ba89cc14514b7676d5752d45bbb": {
      "model_module": "bqplot",
      "model_module_version": "^0.4.1",
      "model_name": "AxisModel",
      "state": {
       "_model_module_version": "^0.4.1",
       "_view_module_version": "^0.4.1",
       "label": "Age",
       "scale": "IPY_MODEL_d9f4b0632efe4826a0f92c753cad0790",
       "side": "bottom",
       "tick_values": {
        "type": null,
        "values": null
       }
      }
     },
     "38b1348f76d44fdd8a570e298e9196e8": {
      "model_module": "bqplot",
      "model_module_version": "^0.4.1",
      "model_name": "AxisModel",
      "state": {
       "_model_module_version": "^0.4.1",
       "_view_module_version": "^0.4.1",
       "label": "Count",
       "orientation": "vertical",
       "scale": "IPY_MODEL_6df1a794585b4f4f9725dec133048c82",
       "side": "left",
       "tick_values": {
        "type": null,
        "values": null
       }
      }
     },
     "38d8e639d7804b6ea341e6f3b793177f": {
      "model_module": "bqplot",
      "model_module_version": "^0.4.1",
      "model_name": "FigureModel",
      "state": {
       "_dom_classes": [],
       "_model_module_version": "^0.4.1",
       "_view_module_version": "^0.4.1",
       "axes": [
        "IPY_MODEL_be9477acd56b48bf8088ac18d99ae008",
        "IPY_MODEL_e1e675d2b0084c8ebb24496a289030a0"
       ],
       "interaction": "IPY_MODEL_1f2fe5b237a4403ca4559aad7d5ca9c8",
       "layout": "IPY_MODEL_67ced77f6491451cacb62c40a17bad5d",
       "marks": [
        "IPY_MODEL_b5675a83296444e49d0ed613030422c9"
       ],
       "scale_x": "IPY_MODEL_760b7983a56d41f98b469754cc0d2d8a",
       "scale_y": "IPY_MODEL_00efc6171d8646c9b1e38135c778e744"
      }
     },
     "39432560dc6341f3bbb30c42f2a98030": {
      "model_module": "bqplot",
      "model_module_version": "^0.4.1",
      "model_name": "ScatterModel",
      "state": {
       "_model_module_version": "^0.4.1",
       "_view_module_version": "^0.4.1",
       "color": {
        "type": null,
        "values": null
       },
       "colors": [
        "steelblue"
       ],
       "display_legend": false,
       "names": {
        "type": null,
        "values": null
       },
       "opacity": {
        "type": null,
        "values": null
       },
       "rotation": {
        "type": null,
        "values": null
       },
       "scales": {
        "x": "IPY_MODEL_43d219a6ba8146138253a23cb442ead8",
        "y": "IPY_MODEL_b48eb25e30b541f3a422ac40dc1d87dc"
       },
       "scales_metadata": {
        "color": {
         "dimension": "color"
        },
        "opacity": {
         "dimension": "opacity"
        },
        "rotation": {
         "dimension": "rotation"
        },
        "size": {
         "dimension": "size"
        },
        "skew": {
         "dimension": "skew"
        },
        "x": {
         "dimension": "x",
         "orientation": "horizontal"
        },
        "y": {
         "dimension": "y",
         "orientation": "vertical"
        }
       },
       "selected": [
        66,
        67,
        68,
        69,
        70,
        71,
        72,
        73,
        74,
        75,
        76,
        77,
        78,
        79,
        80,
        81,
        82,
        83,
        84,
        85,
        86,
        87,
        88,
        89
       ],
       "size": {
        "type": null,
        "values": null
       },
       "skew": {
        "type": null,
        "values": null
       },
       "x": {
        "type": "float",
        "values": [
         1,
         3,
         5,
         6,
         7,
         8,
         9,
         10,
         11,
         12,
         13,
         14,
         15,
         16,
         17,
         18,
         19,
         20,
         21,
         22,
         23,
         24,
         25,
         26,
         27,
         28,
         29,
         30,
         31,
         32,
         33,
         34,
         35,
         36,
         37,
         38,
         39,
         40,
         41,
         42,
         43,
         44,
         45,
         46,
         47,
         48,
         49,
         50,
         51,
         52,
         53,
         54,
         55,
         56,
         57,
         58,
         59,
         60,
         61,
         62,
         63,
         64,
         65,
         66,
         67,
         68,
         69,
         70,
         71,
         72,
         73,
         74,
         75,
         76,
         77,
         78,
         79,
         80,
         81,
         82,
         83,
         84,
         85,
         86,
         87,
         88,
         89,
         90,
         91,
         92,
         93,
         94,
         95,
         96
        ]
       },
       "y": {
        "type": "float",
        "values": [
         4,
         4,
         1,
         1,
         10,
         32,
         67,
         173,
         456,
         823,
         1371,
         2092,
         2791,
         4946,
         6186,
         9370,
         11655,
         12835,
         12069,
         10563,
         9068,
         8280,
         7306,
         6786,
         6344,
         5995,
         5411,
         5121,
         4759,
         4233,
         4056,
         3873,
         3695,
         3580,
         3311,
         3131,
         2818,
         2687,
         2554,
         2486,
         2244,
         1992,
         2092,
         1835,
         1706,
         1525,
         1368,
         1393,
         1359,
         1189,
         1159,
         1013,
         1004,
         906,
         825,
         725,
         660,
         631,
         585,
         501,
         438,
         392,
         388,
         374,
         288,
         244,
         245,
         218,
         195,
         187,
         202,
         170,
         170,
         165,
         129,
         131,
         124,
         119,
         106,
         94,
         88,
         83,
         57,
         49,
         39,
         28,
         23,
         19,
         10,
         11,
         7,
         4,
         1,
         4
        ]
       }
      }
     },
     "39a8bdcf1e794b19ac2b02a391e28b92": {
      "model_module": "bqplot",
      "model_module_version": "^0.4.1",
      "model_name": "AxisModel",
      "state": {
       "_model_module_version": "^0.4.1",
       "_view_module_version": "^0.4.1",
       "label": "Year Constructed",
       "scale": "IPY_MODEL_f0e32b6888144cad92ef32c896c6d280",
       "side": "bottom",
       "tick_values": {
        "type": null,
        "values": null
       }
      }
     },
     "39c6fe0ebb354bfdbdaf07a8a56079f2": {
      "model_module": "@jupyter-widgets/base",
      "model_module_version": "1.1.0",
      "model_name": "LayoutModel",
      "state": {}
     },
     "3a0921d6a0fe4218903854ee73cb08a8": {
      "model_module": "@jupyter-widgets/base",
      "model_module_version": "1.1.0",
      "model_name": "LayoutModel",
      "state": {}
     },
     "3a36e62747844540b9a135ba0e34ea0f": {
      "model_module": "@jupyter-widgets/controls",
      "model_module_version": "1.4.0",
      "model_name": "VBoxModel",
      "state": {
       "_dom_classes": [
        "widget-interact"
       ],
       "children": [
        "IPY_MODEL_314577c013dc4ebfbe046d9310bdae4e",
        "IPY_MODEL_b4671ff536d9403d8caf5722685c2864"
       ],
       "layout": "IPY_MODEL_608033df9ccf4ac5809de0fc06414760"
      }
     },
     "3a6f8854040d4c3c904189ab946368a5": {
      "model_module": "@jupyter-widgets/output",
      "model_module_version": "1.0.0",
      "model_name": "OutputModel",
      "state": {
       "layout": "IPY_MODEL_13eccef4b798451b9e3235a4460d136f",
       "outputs": [
        {
         "data": {
          "image/png": "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\n",
          "text/plain": "<Figure size 432x288 with 1 Axes>"
         },
         "metadata": {
          "needs_background": "light"
         },
         "output_type": "display_data"
        }
       ]
      }
     },
     "3a96565e1080431bacd5fcb88a856cfe": {
      "model_module": "@jupyter-widgets/controls",
      "model_module_version": "1.4.0",
      "model_name": "DescriptionStyleModel",
      "state": {
       "description_width": ""
      }
     },
     "3af129167fae49189ff32744b3fef31d": {
      "model_module": "@jupyter-widgets/controls",
      "model_module_version": "1.4.0",
      "model_name": "LabelModel",
      "state": {
       "layout": "IPY_MODEL_d48d4ecb30744838a084bae26410af9e",
       "style": "IPY_MODEL_348985df36b246df9803ee0e2b11e6ae",
       "value": "Total counts for range of Age: "
      }
     },
     "3b87707a399044af94769cf39403115d": {
      "model_module": "@jupyter-widgets/base",
      "model_module_version": "1.1.0",
      "model_name": "LayoutModel",
      "state": {}
     },
     "3b92ee5868cf426aa8614631228be1e8": {
      "model_module": "bqplot",
      "model_module_version": "^0.4.1",
      "model_name": "LinearScaleModel",
      "state": {
       "_model_module_version": "^0.4.1",
       "_view_module_version": "^0.4.1",
       "stabilized": false
      }
     },
     "3ba8aa17441744809f62b2f695da8572": {
      "model_module": "bqplot",
      "model_module_version": "^0.4.1",
      "model_name": "FigureModel",
      "state": {
       "_dom_classes": [],
       "_model_module_version": "^0.4.1",
       "_view_module_version": "^0.4.1",
       "axes": [
        "IPY_MODEL_db1e44aaf34c4ea580da73f690821c76",
        "IPY_MODEL_d9d96aef6a6b408ebb199859bd83ab80"
       ],
       "interaction": "IPY_MODEL_c7e81c5a81404371b3658e830fc7d1f2",
       "layout": "IPY_MODEL_9f9c955601d1419c89741b1df342ece8",
       "marks": [
        "IPY_MODEL_5ceb1e55577a40ff9b42eb8e0d795147"
       ],
       "scale_x": "IPY_MODEL_88d9b5488aab449bbded45abea0455b7",
       "scale_y": "IPY_MODEL_32e1d7e007a945a8be0a1547da561166"
      }
     },
     "3cbed6eba3dc48bcb024a153fc649bf4": {
      "model_module": "bqplot",
      "model_module_version": "^0.4.1",
      "model_name": "FigureModel",
      "state": {
       "_dom_classes": [],
       "_model_module_version": "^0.4.1",
       "_view_module_version": "^0.4.1",
       "axes": [
        "IPY_MODEL_a5ab353351dd4a09a6d6de1bd4876af5",
        "IPY_MODEL_aa5c2e1891eb43928a52b054b2e36042"
       ],
       "interaction": "IPY_MODEL_d417b46d29f04cf7856343fe436ffdd9",
       "layout": "IPY_MODEL_fea4940e67f843f5af8b7f82680eb909",
       "marks": [
        "IPY_MODEL_1f90c256d467402389562183fdccbca9"
       ],
       "scale_x": "IPY_MODEL_0e453bc6695a4ab6b3f1df07e96a1f8a",
       "scale_y": "IPY_MODEL_05828bca8cdb4dbfbc9fff803cba5d5e"
      }
     },
     "3d32b92b3545411285b0215fe64abeb1": {
      "model_module": "bqplot",
      "model_module_version": "^0.4.1",
      "model_name": "LinearScaleModel",
      "state": {
       "_model_module_version": "^0.4.1",
       "_view_module_version": "^0.4.1",
       "stabilized": false
      }
     },
     "3df8993d569748b1915b414fb04638d4": {
      "model_module": "bqplot",
      "model_module_version": "^0.4.1",
      "model_name": "AxisModel",
      "state": {
       "_model_module_version": "^0.4.1",
       "_view_module_version": "^0.4.1",
       "label": "Age",
       "scale": "IPY_MODEL_43d219a6ba8146138253a23cb442ead8",
       "side": "bottom",
       "tick_values": {
        "type": null,
        "values": null
       }
      }
     },
     "40a0ce8d855e43c590641c0ca8a7a9a0": {
      "model_module": "bqplot",
      "model_module_version": "^0.4.1",
      "model_name": "ScatterModel",
      "state": {
       "_model_module_version": "^0.4.1",
       "_view_module_version": "^0.4.1",
       "color": {
        "type": null,
        "values": null
       },
       "colors": [
        "steelblue"
       ],
       "display_legend": false,
       "names": {
        "type": null,
        "values": null
       },
       "opacity": {
        "type": null,
        "values": null
       },
       "rotation": {
        "type": null,
        "values": null
       },
       "scales": {
        "x": "IPY_MODEL_b35833a438c9472fb32fd2fbf8eb649a",
        "y": "IPY_MODEL_b79516f9e45b4213a8222554d51e85a6"
       },
       "scales_metadata": {
        "color": {
         "dimension": "color"
        },
        "opacity": {
         "dimension": "opacity"
        },
        "rotation": {
         "dimension": "rotation"
        },
        "size": {
         "dimension": "size"
        },
        "skew": {
         "dimension": "skew"
        },
        "x": {
         "dimension": "x",
         "orientation": "horizontal"
        },
        "y": {
         "dimension": "y",
         "orientation": "vertical"
        }
       },
       "selected": [
        49,
        50
       ],
       "size": {
        "type": null,
        "values": null
       },
       "skew": {
        "type": null,
        "values": null
       },
       "x": {
        "type": "float",
        "values": [
         1,
         3,
         5,
         6,
         7,
         8,
         9,
         10,
         11,
         12,
         13,
         14,
         15,
         16,
         17,
         18,
         19,
         20,
         21,
         22,
         23,
         24,
         25,
         26,
         27,
         28,
         29,
         30,
         31,
         32,
         33,
         34,
         35,
         36,
         37,
         38,
         39,
         40,
         41,
         42,
         43,
         44,
         45,
         46,
         47,
         48,
         49,
         50,
         51,
         52,
         53,
         54,
         55,
         56,
         57,
         58,
         59,
         60,
         61,
         62,
         63,
         64,
         65,
         66,
         67,
         68,
         69,
         70,
         71,
         72,
         73,
         74,
         75,
         76,
         77,
         78,
         79,
         80,
         81,
         82,
         83,
         84,
         85,
         86,
         87,
         88,
         89,
         90,
         91,
         92,
         93,
         94,
         95,
         96
        ]
       },
       "y": {
        "type": "float",
        "values": [
         4,
         4,
         1,
         1,
         10,
         32,
         67,
         173,
         456,
         823,
         1371,
         2092,
         2791,
         4946,
         6186,
         9370,
         11655,
         12835,
         12069,
         10563,
         9068,
         8280,
         7306,
         6786,
         6344,
         5995,
         5411,
         5121,
         4759,
         4233,
         4056,
         3873,
         3695,
         3580,
         3311,
         3131,
         2818,
         2687,
         2554,
         2486,
         2244,
         1992,
         2092,
         1835,
         1706,
         1525,
         1368,
         1393,
         1359,
         1189,
         1159,
         1013,
         1004,
         906,
         825,
         725,
         660,
         631,
         585,
         501,
         438,
         392,
         388,
         374,
         288,
         244,
         245,
         218,
         195,
         187,
         202,
         170,
         170,
         165,
         129,
         131,
         124,
         119,
         106,
         94,
         88,
         83,
         57,
         49,
         39,
         28,
         23,
         19,
         10,
         11,
         7,
         4,
         1,
         4
        ]
       }
      }
     },
     "429a5ddd0ffe457c9ce182de85b4d1fa": {
      "model_module": "@jupyter-widgets/base",
      "model_module_version": "1.1.0",
      "model_name": "LayoutModel",
      "state": {}
     },
     "43d219a6ba8146138253a23cb442ead8": {
      "model_module": "bqplot",
      "model_module_version": "^0.4.1",
      "model_name": "LinearScaleModel",
      "state": {
       "_model_module_version": "^0.4.1",
       "_view_module_version": "^0.4.1",
       "stabilized": false
      }
     },
     "43f9339ee2b34a9a9d04fd9e5606b341": {
      "model_module": "bqplot",
      "model_module_version": "^0.4.1",
      "model_name": "LinearScaleModel",
      "state": {
       "_model_module_version": "^0.4.1",
       "_view_module_version": "^0.4.1",
       "allow_padding": false,
       "max": 1,
       "min": 0,
       "stabilized": false
      }
     },
     "44479b8fa5e44786b6f544ea4e400471": {
      "model_module": "@jupyter-widgets/base",
      "model_module_version": "1.1.0",
      "model_name": "LayoutModel",
      "state": {
       "min_width": "125px"
      }
     },
     "4479ffb924684717b815b9fa30fe6a4b": {
      "model_module": "bqplot",
      "model_module_version": "^0.4.1",
      "model_name": "AxisModel",
      "state": {
       "_model_module_version": "^0.4.1",
       "_view_module_version": "^0.4.1",
       "label": "Year Acquired",
       "orientation": "vertical",
       "scale": "IPY_MODEL_98f2f426bc984ecca61dc62f74f5846e",
       "side": "left",
       "tick_values": {
        "type": null,
        "values": null
       }
      }
     },
     "44edb504e2224bd78752339ee50bcb11": {
      "model_module": "bqplot",
      "model_module_version": "^0.4.1",
      "model_name": "FastIntervalSelectorModel",
      "state": {
       "_model_module_version": "^0.4.1",
       "_view_module_version": "^0.4.1",
       "marks": [
        "IPY_MODEL_b5675a83296444e49d0ed613030422c9"
       ],
       "scale": "IPY_MODEL_f2b7944c54da4d45b3661d4695e02278",
       "selected": {
        "type": "object",
        "values": [
         8.855545343137253,
         33.4437806372549
        ]
       }
      }
     },
     "4840ad47f4c94c64b763af044934a729": {
      "model_module": "@jupyter-widgets/controls",
      "model_module_version": "1.4.0",
      "model_name": "DescriptionStyleModel",
      "state": {
       "description_width": ""
      }
     },
     "4a2f3fd3cdd94aae99e869a63bfd784b": {
      "model_module": "bqplot",
      "model_module_version": "^0.4.1",
      "model_name": "FastIntervalSelectorModel",
      "state": {
       "_model_module_version": "^0.4.1",
       "_view_module_version": "^0.4.1",
       "marks": [
        "IPY_MODEL_d182cc3dc3cd4579a47d80d0ba2fabce"
       ],
       "scale": "IPY_MODEL_6ee01b91ce4f419092a26f6486979c81",
       "selected": {
        "type": "object",
        "values": [
         0.06862745098039214,
         65.8235294117647
        ]
       }
      }
     },
     "4a5a0235bf1d4576a4d52990ad8565dc": {
      "model_module": "@jupyter-widgets/base",
      "model_module_version": "1.1.0",
      "model_name": "LayoutModel",
      "state": {
       "min_width": "125px"
      }
     },
     "4a8b7ced19d348f6985c73e0d0bf49eb": {
      "model_module": "@jupyter-widgets/base",
      "model_module_version": "1.1.0",
      "model_name": "LayoutModel",
      "state": {
       "min_width": "125px"
      }
     },
     "4c2c6f22cd5d42db81359fe2122e424b": {
      "model_module": "@jupyter-widgets/controls",
      "model_module_version": "1.4.0",
      "model_name": "DescriptionStyleModel",
      "state": {
       "description_width": ""
      }
     },
     "4e7fe66bd91a43c6bcf47014cda441ff": {
      "model_module": "@jupyter-widgets/base",
      "model_module_version": "1.1.0",
      "model_name": "LayoutModel",
      "state": {}
     },
     "4f1239479d594dfa9f91bff704e479b2": {
      "model_module": "bqplot",
      "model_module_version": "^0.4.1",
      "model_name": "AxisModel",
      "state": {
       "_model_module_version": "^0.4.1",
       "_view_module_version": "^0.4.1",
       "label": "Count",
       "orientation": "vertical",
       "scale": "IPY_MODEL_cbd4697a9c65447898f4cc6061168aad",
       "side": "left",
       "tick_values": {
        "type": null,
        "values": null
       }
      }
     },
     "50addd55d53b4eb7a5fd0f478a2675f1": {
      "model_module": "@jupyter-widgets/controls",
      "model_module_version": "1.4.0",
      "model_name": "DescriptionStyleModel",
      "state": {
       "description_width": ""
      }
     },
     "512b2869e0164031a81a1ed8cb28ca3a": {
      "model_module": "@jupyter-widgets/controls",
      "model_module_version": "1.4.0",
      "model_name": "DescriptionStyleModel",
      "state": {
       "description_width": ""
      }
     },
     "51c73b4c3a6648be9090121f72d1fce3": {
      "model_module": "@jupyter-widgets/output",
      "model_module_version": "1.0.0",
      "model_name": "OutputModel",
      "state": {
       "layout": "IPY_MODEL_597a03490d0f48ffbe0f8d12688fb3c3",
       "outputs": [
        {
         "data": {
          "image/png": "iVBORw0KGgoAAAANSUhEUgAAAY4AAAEWCAYAAABxMXBSAAAABHNCSVQICAgIfAhkiAAAAAlwSFlzAAALEgAACxIB0t1+/AAAADl0RVh0U29mdHdhcmUAbWF0cGxvdGxpYiB2ZXJzaW9uIDMuMC4wLCBodHRwOi8vbWF0cGxvdGxpYi5vcmcvqOYd8AAAIABJREFUeJzsnWdYVNfWgN89M1QRBEERUBQRREFBUayxt0SjxqjpMbnpyTXG5DMmphgTTYw36m3p15hujT323hCRIiAKiAqKKCiC9Cn7+zEjolIGpJrzPs88nLPPLusc4KzZe629lpBSoqCgoKCgYC6q+hZAQUFBQaFxoSgOBQUFBYUqoSgOBQUFBYUqoSgOBQUFBYUqoSgOBQUFBYUqoSgOBQUFBYUqoSgOBQUFBYUqoSgOhRpDCLFHCJElhLCq43HPCiGG1lLfs4UQWiFErhDimhDikBCid22MpaDQWFAUh0KNIIRoC/QHJPBgJXXV5pQ1IJZLKe0AZ2A3sLKe5akVhBCav+LYClVHURwKNcVTQCiwFHi69AUhxFIhxFdCiD+FEHnAoHLKrIQQ/xBCpAghLgkhvhZC2Jj6cBZCbDR9678qhNgvhFAJIX4G2gAbTLOCGab6vUyzg2tCiGghxMBS8jgIIf4nhLgohLgghPjEHMUlpdQBvwLuQggXU1+OJrkyTLOtjUIIj1JjOQkhfhBCpJmury11bbQQIqrUTKZLeWMLIfoIIY4KIbJNP/uYyh8RQoTfVvcNIcR603FFz3SgEOK8EOJtIUQ68MNt/ViZnnVAqbIWQoiCUvdf7j0IIWYKIU4LIa4LIU4IIcaXujZFCHFQCLFICHEVmC2E8BZC7DXdY6YQYnllvxOFekJKqXyUz11/gCTgFaA7oAValrq2FMgG+mL8smJdTtliYD3gBDQFNgCfmvr4FPgasDB9+gPCdO0sMLTUeO7AFeB+U9/DTOcuputrgW+AJkALIAx4sZz7mg38Yjq2BD4DMgGNqaw5MAGwNcm8Elhbqv0mYDngaJJ7gKm8G3AZCAHUGJXtWcCqDBmcgCzgSUADPGo6b24a9zrQoVT9o8AjpuOKnulAQAfMB6wAmzLG/hKYX+r8dWCDOfcATATcTL+DyUAe0Mp0bYpp7L+b7skG+B2YVervoV99/10rn3L+3+tbAOXT+D9AP4zKwtl0fhJ4o9T1pcBPt7W5pQwQphdL+1JlvYEzpuM5wDrAu4zxz3Kr4ngb+Pm2OltNL7aWQFHpl6TpRby7nHubDRQD1wA9RgU0sIJnEQhkmY5bAQbAsYx6XwEf31Z2CpNiua38SSDstrLDwBTT8S/AB6bjDiZFYmvGMx1oujfrCu4nBEgFVKbzcGBSVe/BdC0KGGs6ngKk3Hb9J+BbwKO+/6aVT8UfZalKoSZ4Gtgmpcw0nf/GbctVGF8+t1O6zAXjy+6YadnjGrDFVA6wAOOsZpsQIlkIMbMCeTyBiTf6MfXVD+OL3BPjN/+Lpa59g3HmUR4rpJTNMCqdWIyzKgCEELZCiG+EEOeEEDnAPqCZaemrNXBVSplVjoxv3iZja4zf0G/HDTh3W9k5jDMrMD7vR03Hj2Gc8eRT+TMFyJBSFpZ341LKIxiVzwAhREfAG+MMptJ7EEI8VWoZ6xrgj9FOdIPb/yZmYFR2YUKIOCHEs+XJpVC/KAYphbvCtF4+CVCb1snBuOzRTAjRVUoZbSorKwxz6bJMoADoLKW8cEdFKa8Db2J8UXUGdgshjkopd5bRdyrGGcfzZcjbCuOMw1kabRZmI6XMFEK8CBwVQvwmpbxokskXCJFSpgshAoFIjC/AVMBJCNFMSnmtDBnnSinnmjF0GsaXdGnaYFQCANsAZ9PYjwJvmMorfKY3bsuM8X8EngDSgVWlFE259yCE8AS+A4YAh6WUeiFEFMbnUubYUsp04HlT+37ADiHEPillkhkyKtQhyoxD4W4Zh3EJpxPGZZpAwA/Yj9FgbhZSSgPGF80iIUQLACGEuxBihOl4tMl4KoAc05h6U/NLgFep7n4BxgghRggh1EIIa5Mh2MP0st8GfCGEsBdGA3t7IcQAM+U8iXHZa4apqCnGl/M1IYQT8GGpuheBzcCXJiO6hRDiPtPl74CXhBAhwkgTIcQDQoimZQz7J+AjhHhMCKERQkzG+Lw3msbRAaswzsqcgO3mPNMq8DMwHqPy+KlUeUX30ASjYsgwjfsMxhlHuQghJoqbjgVZpvb6Cpoo1BOK4lC4W54GfpBSpkgp0298gP8Aj4uquVm+jXE5KtS07LMD47d5MK7d7wByMa7vfyml3GO69inwnmlJ5C0pZSowFngX44srFfg/bv69P4XR0H0C4wtqFcZlLHNZALxgehkvxmjYzcToVbbltrpPYrT/nMRoSJ4GIKUMx/jt+j8mGZIwrvvfgZTyCjAa4+zmCkalNbrU0iAYl6uGAitvm0lV9EzNQkp5HojA+CLfX6q83HuQUp4AvsD4u7oEBAAHKxmqB3BECJGLcTnsdSnlmarIqlA33PBKUVBQUCgXIcQSIE1K+V59y6JQ/yg2DgUFhQoRxs2dDwFB9SuJQkNBWapSUFAoFyHExxg9yRYoy0YKN1CWqhQUFBQUqoQy41BQUFBQqBL3pI3D2dlZtm3btr7FUFBQUGhUHDt2LFNK6VJZvXtScbRt25bw8PDKKyooKCgolCCEuD1CQZkoS1UKCgoKClXinpxxKCgo3DtcunSJq1ev1rcY9zROTk60bNnS7PqK4lBQUGjQXL16FR8fH9Tqhpzrq/Gi1+tJSEiokuJQlqoUFBQaPGUpjWPnsvjv7iSOnSsr+LCCuVRHISszDgUFhQbPRxviOJGWU3J+vVDLyfTrGCSoBHR0bUpTawsAOrnZ8+GYzre0/+yzz5g5cybLli3j6aefJjc3ly+++IJevXphZWXFli1beOaZZxgxYgSxsbF88cUXPP/88yxcuJCmTZsSFBTE4cOHmT17NqNHj2bNmjXMmzcPT09PUlJSeOGFF9iyZQtTpkypy8dSbyiKQ0FBodGRU6jDYNq7bJDG8xuKozLuu+8+fv/995Lzzz//nAULFtC2bdtbri1btowZM2bg4ODAvHnz8PLyIjY2Fj8/P44dO1byTT0vL49r126Pmn9voyiOWiYtIZ7UuBhadw7AzcevvsVRUGiU3D6DOHYui8e/D0WrM2ChUfHPR4Lo7ulYaT9arZaBAwdy9uzZkhd/y5YtSUpKwtvbm/bt299yrTR9+vRh/vz5vP766/zwww/06dOH69evM2XKFJYuXUrHjh1r5mYbAYqNoxZJS4hn+UfvcGD5z6z8eBZpCfH1LZKCwj1Bd09Hfn2uF9OH+/Lrc70qVRpdu3Zl/vz5nDhxApVKxaRJkzh40BjlfcqUKcTHx3PkyBGAkmuPPPIIn3/+OZ999hndu3fH29ub8PBwOnfuzKlTp+jTpw8Ajo6O2NjY1O4NNzDuyVhVwcHBsiFsANz/+4+ErV0JgFCp6DvpCULGT6pnqRQUGhfx8fH4+Smz9drkxjMWQhyTUgZXVl+ZcdQixQUFJcdCCFp3DqhHaRQUFBRqBsXGUUtIKUmNO05zjzbodVrysrJo5upW32IpKCgo3DXKjKOWSE9K4Mr5FLrd/yDj/u8D9DotB5f9XN9iKSjcO6SGwf4vjD8V6hRlxlFLxO7ZjsbSCt/e92Fla0vgiNFEbF5Pl2GjaNmufX2Lp6DQuNg8E9Jjbp4X5cClWJAGECpo6Q9W9sZrrgEw6rNbmr/yyitMnToVa2trnn/+ebZv387TTz/Nyy+/zI8//oivry89evRg/fr1ODo6Ymtry4MPPkhoaCiOjo5ER0ej1Wp55513WLp0KdbW1jz22GP06NGDrVu38u233zJz5kzg5p4RX1/fkj0hvXr1Yv369bi4uDB48GB2797NzJkz2b9/Pzt37mT27Nm89NJLTJgwgStXrtCrVy/OnDlDixYtOHLkSMl4N/oGWLlyJVeuXOGll15izpw52NjY0LdvX/bt28eLL77Ip59+ypw5c/jtt98qlLc6KDOOWkBbVMjJg/vwCemDla0tAL0ffhSbpvbsXvoN96JDgoJCnVKYbVQaYPxZmF1u1fT0dEaNGlXiRdWiRQuio6PRaG793mxlZYWjoyMzZ85Epbr5aoyIiGDGjBnMmjULlUqFwWAgLy8PgKFDh7J06dIyx719v8ikSZN455132LlzZ0nZyZMn8fHxIS8vj7Zt23LgwIGSa3FxcXTu3PmW8Upz7do1NBoNUkpyc3Px9/cnODgYg8HAnDlz+Oijj7C2tjZb3qqgKI5aICnsMMUF+fgPGlZSZt3Ejn6PPMmFkyc4dWhfPUqnoNAIGfUZPLPp5mfC96CxAaE2/pzw/c1rt802Nm7cSHx8PGFhxiWtESNG8NZbb/HAAw8A4OnpybRp0wgODiYrK4sZM2ZQXFxc0l4IUXIcHR1NbGws4eHhXLhwAQcHBwBycnK4nRt7QvR6fZm3pNPpOHz4MMnJyWzevBkwKpt9+26+H24f7wZXrlwhNDSUxMREQkND+fTTT7G2tmb27NmoVCosLS3JyMiokrxVQVmqqgVi92zHoUVLPPz8byn3HzSM6G2b2fvrD7TvHoKFtXU9Saig0Mhp3ROeXg9n90Pb/sbzcsjMzGTmzJns2rWLK1euYGlpyTfffENKSgoA586dY/HixQQGBpbMOKZPn87169cB4x6Qzz//HK1Wi4WFBQsXLqSoqIglS5YA8PTTTzNixAjmzZt3x9iTJk1i+vTp9O3blxUrVrB7926GDBnC7t272bFjB1OnTiUwMJAFCxYAMGTIEObOncvFixdxc3Nj69att4wXExPD4sWLUalULFiwACcnJxYsWEBUVBRZWVl4enqSlZXFJ598wowZM3B1da2SvOai7OOoYbIvX+L7v/+NPpMep/eER++4fv5kHMs/fJteEx6h76Qn6kFCBYXGxV9xH8epU6do1aoV9vb2dTKeso+jnonbuwOEoPOAIWVe9+jYmY59B3B0/WqyL6fXsXQKCgqNAV9f3zpTGtVBURw1iDQYiNu7E8+AQOydW5Rb777Hn0GoVOz9eUkdSqegcG8RdTmK72O+J+pyVH2L8pdDsXHUIClxx8nJuEy/R5+usF7T5s6EjJ3IwRW/kBIbTRv/rnUkoYJC42R+2HxOXj1Zcp5bnMuprFNIJAKBr6MvdpZ2AHR06sjbPd++pf0NN9bQ0FD27NnDmDFj+P777/Hw8ODNN99kzJgxtG3bljfffJPU1NRyXWSXLVvGxIkT+eWXX7C1teWhhx6iffu/nnu9ojhqkNjd27Fq0gTvHr0qrdt9zHhidm9n99JveXL+v1Ap2c0UFMzmuvY6EqN9ViK5rr1eojjKQq/Xs3jxYs6dO0fLli3Jy8vD3t6e8ePHA9C3b1+GDh3K8ePHuXTp0h0usqVtLKtWreL999+/xWX3r4aiOGqIwrxcksIO03nQMCwsrSqtb2FpxcAn/8b6hfOI3v4nQSPH1IGUCgqNk9tnEFGXo3h+2/NoDVosVBZ81v8zAlsEltterVYzbdq0khlHz549ad26NR999BEffPABR44cwWAwMHXqVKZOnYqXl9ctLrKrV6+mV6+bXwhLu+j+Ffnrqswa5tShfei0xfgPHGp2G++evWnj34VDK36l4Prd+VUrKPyVCGwRyHfDv+O1oNf4bvh3FSqNsoiOjua3337DYDDQtGlTQkJCePfddzlw4ABTp07lvffe48yZM4DRRfbkyZvLZBMmTGDOnDksWLCA06dP1+h9NRYUd9wa4tdZ09EVF/PU5/+u0reRzJSz/PT2VLoMGcnQ516pRQkVFBonf0V33Lqmqu64ylJVDZCZcpb0pAQGPvVclaewzm3a0nXY/URt3YRQq/DrO0DJFKigoNCgUZaqaoDYPTtQqdX49R9UrfZe3XoAkqgtG5VMgQoKCg0eRXHcJXqdjhP7d+PVrSe29g7V6uPymdNgmqnotFpS42IqaaGgoJAfGUnmN9+SHxlZad1XXnmFffv28eqrr7JgwQJyc3P57DNjTKv58+ezbds2wLjxTqvVllxTKBtlqeouSY48SkFO9i0BDatK684BaCws0BUXg5S06uBbgxIqKDR+0ufNoyj+poFan5tL0cmTICUIgVXHjqjtjO64Vn4dcX333ZttTdFxd+/ejUajYdSoUdiZ6hYXF9OqVSvOnTsH3BnRVqFsan3GIYRQCyEihRAbTefthBBHhBCJQojlQghLU7mV6TzJdL1tqT7eMZWfEkKMqG2Zq0Lcnh00aeZIu8Du1e7DzcePie/PJWCw8dbOx8fWlHgKCvckhpwco9IAkNJ4Xg43ouOmpaXx4Ycfsnz5co4ePQrA1q1bOXPmDIcOHaKwsLDSiLYKRupixvE6EA/cCLwyH1gkpVwmhPga+BvwlelnlpTSWwjxiKneZCFEJ+ARoDPgBuwQQvhIKev9N5t3LYvkiKMEjx5/1xv43Hz8cPPxo7ggn6PrVuM/cBj2LuWHLakPEo4cJCvtAq07BygGfIU6pfQMAozLVCnPPIvUahEWFrj9YwG2QUFltr0RHffHH3/ku+++IzMzkxYtjP9bcXFxfPjhhyQnJ7Np0ybgZkRbhfKpVXdcIYQH8CMwF5gOjAEyAFcppU4I0RuYLaUcIYTYajo+LITQAOmACzATQEr5qanPknrljVtX7rhHN/zBvl+WMGXhVzR3b10jfeZkZvDDGy/hFRTMmOnv1EifNUHklo3s+uFrEAKNhQUT35+rKA+FOqE8d9z8yEjyw45i27NHuUpDwTwaWnTcxcAMwJSqi+bANSmlznR+HnA3HbsDqQCm69mm+iXlZbQpQQjxghAiXAgRnpGRUdP3cQdSSmJ3b6eVT8caUxoA9s4u9Bz3MAlHDpISe7zG+r1bjm1aYzyQEr1OpxjwFeod26AgnF98QVEa9UCtKQ4hxGjgspTyWOniMqrKSq5V1OZmgZTfSimDpZTBLi4uVZa3qlxMPMXVC6n4D6y+Ubw8gsc8hL1LS3Yv/QZDA1hrPX8yjuzLl0o8v1QqNa07B9SzVAoKCvVFbc44+gIPCiHOAsuAwRhnIM1MS1EAHkCa6fg80BrAdN0BuFq6vIw29UbYupWo1GrsXVrWeN834lhlpp4jesfmGu+/qhz5Yzk29g6Mf/tD1BYWuHXspCxTKdQ76cnZHNtylvTk8vONK9QOtWYcl1K+A7wDIIQYCLwlpXxcCLESeBijMnkaWGdqst50fth0fZeUUgoh1gO/CSEWYjSOdwDCaktuczgTdYzT4UcAWLdgTq2s95fEsVr+Cx373IdN0/pJ6nIx6RRnoyPo/9gUvIKCCRwxmog/13H9SiZNmzvXi0wKfz32r0ggMzW35Ly4QEfmhdySNQlndzssbYyvM+fWdvSf5HNL+7lz59KkSRMSEhJo06YNM2fOBGDJkiVYW1vz2GOP8eWXX1JUVISjoyPp6em8+OKLfPrpp8yZMwdrJc3zLdTHBsC3gelCiCSMNoz/mcr/BzQ3lU/nplE8DlgBnAC2AK/Wt0fVgWU/lRzX1nq/EIJBT79AUUE+B5f/UuP9m8uRNSuwbmJH4PD7AQgaMRokRG3bVG8yKSgUFehuLlhL03klaDQabncGMhgM5OXlkZOTg5SSN954gylTpmAwGJgzZw4fffSRojTKoE42AEop9wB7TMfJwB2Z5aWUhcDEctrPxeiZVe+ciTrG5TOnUanVSClRazS1tt7v3KYtgcMfIGrrJroMHUmLtl61Mk55XD6bzOnwI/SZ+DiWNrYAOLRoSfvgnhzfuZVeEx4xK4S8wk3SEuJJjYtRXJqryO0ziPTkbNYtikSvN6BWqxj+t864epUfuUGtVvPaa6/xr3/9i9xc48wlOjqa2NhYCgoKGD58+C1x5lQqFZaWlmRkZNCmTZvaualGjLJzvAoUF+Sz/bv/4OTmwdDnXiUtIb7WXwB9Jj5O/MG97F76LZM+/LRO8wAcWbMCSxtbgkbdmiuk26gHSToayskDewkYPLzO5GnspMRGs2ru+0gpFZfmu8TVy4GxbwRxISELdx/HCpUG3JrIKSkpicWLF5OTk8PChQspKipiyZIlCCFYtGgRjo6OAHzyySfMmDGD9957j+bNm9fFbTUaFMVRBfb//iPXr2TyyEef4+7rVyeeRdZ2dvSb/CQ7vv8vCaEH8O3dv9bHBLhyPpWEIwcJGTcR6ya3Zlbz6BSAS5u2RG5ej/+gYX/5pDbmIKVk94/fIQ1Gz/QbS5yK4qg+rl4OlSqMG8yaNavcazY2Nrz66qtlXlu0aFG1ZLvXUYIcmsn5+Fiitm4iaORo3H3r9p89YMhwXNp6sffnJWiLCutkzCNrV6CxtKTb/WPvuCaEIGjUg2SknOX8CWU/hzlE/LmOzJSzikuzwj2BojjMQFtcxLZv/oW9S0v6PfJUnY+vUqkZPOUFrl/JIGzd6lof71r6RU4e2EvXYfeXG/G3Y78BWDe1J2LzhlqXp7GTEnucvb8soUNIHya9Pw8Laxuc23gqsw2FRouiOMzg8KrfybqYxvAX/o6ltU29yODh549vn/s4unYle39ZUqs5O8LWrUSlURM8eny5dSwsregyZASnw48YNwcqlElOZgYb/zkfR1c3Rr48jdadA+j98KNcSk4iPSmhvsVr1KQlxHNkzYpK/xdmz54NwMiRIwH46KOPAEryj3/22Wf8/vvvjBkzhsWLF/Pzzz/zxhtvsHjxYiXYYTkoNo5KuJScRPiGP/AfNAzPLlXLa1zT+Pbuz6lD+wjf8AdRWzfWinE1J/MycXt30WXoCOwcnSqs23XY/Rxdv5qobZsY8MSzNSrHvYCuuJgNC+eh1xYz9v/eK/FM6zJkJEfWLCds/SoenP5uJb0oAOxe+i2XzyWXnBfl55N57gxSSoQQOHu2w8rW+HxbeHoxaMoLJXWtra2JjY3F19e3JHf4DUP52LHGpdhHH32Uc+fOMW3aNPbs2UNERAQajQb1XQYvvVdRZhwVoNfp2PrVYmwdmjHgyb/VtzhcvZDKjQgsuuLiWtk/cnS9cSmsx4MTKq1r7+xCh5C+xOzairawbmwvjYldP3xN+ulERr46HSc3j5JyK1tbAoc/QGLYYa6mXahHCRsvRfl5JXsypJQU5eeVWzc4OJj//ve/TJ06lYULF6LRaJg2bRqTJ08ut83kyZN57bXXalzuewVlxlEBR9etIiPlLGPfeu8Oz6L6oHXnADSWpoRPGJdBapLcrKvE7NpG5wGDsXc2L6R7t5FjSDi8nxP7d9F12P01Kk9j5viOLcTs2kbI+Ml06NH7jutBI8dwbONawjesZviLU+tBwsZF6RkEGJepVn48C71Oh1qj4YG/v1Xu7LtXr158+OGHtG/fnujoaLP2ZSxfvpzQ0FBeeuklZQNgGdRqWPX6oibCql85n8LPb0+lfY/ejJn2dg1JdvekJcSTGnuc1JNxnIuOYNjzr9Fl6Mga6XvPT98TsXk9zy76hmaurcxqI6Xk13ffQFtUxJQvvlRcc4G0hJMsnz2TNv5dGD/zQ1Sqspc7dvzvK2J2buW5/3xPUyclfEt5lBdWXdlMWXM0tLDqjRKDQc/Wr/+JhY0tQ555sb7FuQU3Hz9CHprM+Bkf4NWtB9tN+zvulvycbKJ3bMav7wCzlQaYXHNHjuHqhVTOxUTdtRyNnbxrWWxY9ClNmzfn/qn/V67SAOgxZjxSGoj4c30dStg4KctI7ebjR8j4SYrSuEuq4wCgLFWVQeTmjVxMPMX9r72JrUOz+hanTNQaDaOnvc2quR/w57//gVUTOzwDqm+8P7ZpLbriYnqOn1Tltr597mPfrz8QuXk9bbv8dXMj6HU6Ni6eT2FuLo9+vAAbu6YV1ndo4Ypv7/5Eb99MyLhJWNvV/3JoQ8TJyYmEBMUDrTZxcqrYEeZ2FMVxG6dCD7Lv1yW08ulIx34D61ucCrGwsmb8jA9Y/tFM1v1jLpPen4urt0/lDW+jMDeXqK0b8enVr1pJqTQWFnQZOorQP5aRlZ6Go6tblfu4F9j3yxLOx8dy/2tvmh1XrOfYhzl5cC9R2zbR66HyjbUNjbpcJmrZsiUtW9Z8+gKF6qMsVZXiwql4Ni3+DINez+UzyVxMPFnfIlWKtZ0dE96dg629Pas/m82VC6mVNypFWkI8GxZ9SnFBAb2qMdu4Qddho1Cp1ERt2VjtPhozh1b8SsTm9fj06odf/0Fmt3PxbEe7oGAiNq+vs6gAd0taQjwrPnqXA8t+YsWcd2t1T5FCw0RRHKWI2bW1xMXPoG886VHtHJ2YMOtjVCoVq+d+YLa3VVpCPCvmvEtKbDRCqO7qxWXn6IRv737E7tlOUX5+tftpbOh1OnYt/YbDq38HIDkirMIXaVnJh3o++DAFOdnE7tlR6/LWBKmxx9HrtADotVqSI47Ws0QKdY2iOErRZcgI1BoLhEpVq+HSawNHVzcmvDuHovw8Vs99n/ycsrOi5edkc+rwfrZ9+2/+mP8Req225NrdKspuox6kuKCAuL0776qfxsLZ45H8NOPvRJYKu1JRfpb05GzWfBFB6Lpk1i6KLFEe7n6daeXTkfANaxpEquDK0BtulTE5Mhy9rvJ8GAr3DoqNoxRuPn5M+nBeo3Xxa9HWi/EzPmD1vA9YPnsmvr374+7XCYNWx7nYaFJiosg4dwYASxtbXDzbcjHxVI3lFXH19qFVB1/CN6xGW5BPa/8uje4ZmkP25XT2/PQ/ko4exqGlK/c9/gyHVv5asqegvOcYt/8CBr1xRqvXGti/IoE+D3nj5t2MnmMnsm7Bx5w6vB+/Bmxb02m1xO3ZSTPXVvgPGIpOpyN09e/s+/UHBj39fH2Lp1BHKIrjNtx8/Br1y86jkz+9Jz7O/t9+4PCq30rK1RoNbr6d6Dv5STwDAmnp5Y1Kra5xI2e7wO4cWvkbB1b8gmbNvZVzQltUSNi6VRxdvxqhUtHvkafo/sA4NJaWuHfsVOFzNOgNXEi4ZjwRxv3/V87nsnZhJE0cLGnf3QWHFu6ErVtFx74DGux+mKitG8nJuMSEWR+XeNAV5ecS8ec6XNt3aNBKT6HmUBTHPYjnOE7rAAAgAElEQVQ06I3hu032ms4DhzLk2ZewsLpzB2yNK0phWv2U8p7JOSGlJCH0IHt//h/Xr2TQse8A7nv8mVtyrlf2HE8cvMj1K4X0Gmf0tnL3caS5ux1nYzJJPHqJ2H1paPMC0F7ewuavNtC+ew9ys4rMSlJUVxTm5nLkj+W07drtFrfrAU/8jYyzZ9j2zb9p7tGmzjNVKtQ9iuK4B2ndOQCNhUXJ0kmXISPKVBq1gWdAV0JX/45Br2/0OSfSEuI5eWgfF+LjuHw2GRfPdtz/9zfx8POvUj9FBTrCNiTj1qEZ3UZ43jKb6BDckg7BLSnK15J0zJsd3x7m5MFNnDlu3NOhsVAx9o2gBqE8QtcspzA/j/sef+aW8ht7in55Zxrrv5jL4/MWYdPUvp6kVKgLFMVxD+Lm48fE9+fWi63GzcePCe/OYc38Obi0bdeoZht6nZaMc2dJP51IckQYZ6KOlczagsc8RP/Hnq5wJ3h5RGw5S0GuljETO5S7BGVla0Hn/q0pyp3M7qXfYtBdQKVxR68zcCEhq84UR3pydpnpWLMvpxO1ZQOdBwzBxbPdHe2aNHPkwenvsnz222z61wIeemd2tZ6VQuNAURz3KPVpq2nj35WQ8ZM4uPxnLp9NbnBLF2kJ8aTEHsehRUsMej0XkxK4dDqBjHNnSryDNJZWJUpDqFRYN7Gr1oswJ7OAqJ2pdAxxxaVNxTvJAQIGDefQit/QFYWj0riDELj7OFZ53NspTyEYDJK8a0Vcv1JA6omrHNuagjTIO2Y6B5b9jFCp6Tv5iXLHaNXBl8HPvsz2b//NwWU/0/+xKXctt0LDRFEcCrVC4IgHOLp+FUfWrmwwQSKlwUDk1o3s+en7ktzfABbWNrT0ak/QqAdxbd8B1/YdyM3KYtUnsyr1lKqMw2tPoxKCkLHtzapvYW1Nt/sf5PCq37CxP4BW2x57577VGvsG6cnZrF0UiV5nQKUStPFvjr5YT05mIdevFpZ4epVGV2qmk346kZMH9xIyfnKlwRi7DBnBpdOJhK1bRcv2HfAJuTvZFRomiuJQqBWsm9gROPwBwtav5mraEzi5udebLDkZl4nds4O4vTvIybh884IQdBs1hgFP/u2O2YRDC9e7Xu5LT84mKfwyPR5oi52jldntWnUwho3JzQwDItj/ewtGvDisyuPf4PypLPRao6I06CXnT1zFya0Jzq2b4hXkgr2zDfbO1hTl69j5Y7yxroSW7eyRUrL3l/9hY+9gVo4WgEHPvEhGyhm2fLmY5u6tae5ReRhzhcaFojgUao1u948l4s/1HF2/mhEv1W3OCV1xMUlHDxO7Z0dJ1F7PgED8Bw4lbN2qkpmEb+/+5S5B3c1yn5SSAysTsXWwJGi4Z5XaXj6TXOpMT0JYBPc9PgAbO8tqyUKpCYW6EmN7Uydr4g+lceLARdJP51CUm8j5E7EMefblkgx7laGxsGDM9Hf4ZeY01v3jEx6ftwgr2ybVk12hQaIoDoVao0kzR/wHD+f4ji30fvhR7J1danW8tIR44g/sJe/aVVJioynKy8PepQW9JzyK/8Ch2LsYk1N5dgmqdceBpPDLXDqTw+Cn/LCwqpptxJiwy9KUsEsiRUuid6bSy8zlrtJoi/TE7b+AvYsNfr1d8ejoVKGh3dXLAVcvBwpzdYRvOYOFWIZjK3cChoyo0rhNnZwZ88ZMVn48iz8+m41XYPA9uyH0r4iiOBRqlR5jHuL4js0c27jmjixuNcn5+DhWzHmnxHbhGRBIj7EP06ZzF4Tq1sg6te04oCvWc2hNEs6t7ejYy7XK7W94xcXu3k7Mrm04OGUSs/s8gUPbYN3Eokp9hW8+S25WEQ+91Y1W3uanCOg9vj2JYTvJy7vAg2/NQq2p+qvCw8+fwBGjifhzHWkJJ++5DaF/ZZRYVQq1ir1LC/z6DeT4zq3lxs+6W/Q6HTv/92WJ0hAqFa07d8EzIPAOpVEXRO9KJfdqEX0f7oBQVW8HuJuPH8NfnErnAUO4krqfwrxLHN99vkp9XLuUT9T2FHxDXKukNABs7QHdEVQaN5q5Vm3fyi393NjPUWpDqELjR1EcCrVOjwcfRqctJnJzzWe60+t0bPrX52SmnkOlVtd7gMr8nGKObTlH2y7OePjevRvtfU88i5WtLWqxj+idKRQXmBdMUErJ/hUJqC1U9H6o6ktc4RvXoC26jo3jYA7/kUR1U0y39r8542tsgUMVykdRHAq1TnOP1nTo2ZvILRtrNOS6Xqdj0z8/J/HIIQY+9RyTZ39G30lP1OtySNiGZPTFBvpU42VdFrb2Dtz3+DMUZJ8l/1o0MXvNm3Wcic4kJe4qPUe3o4mD+R5dALlZVzm64Q98evWj9/i+pMZnkRJ3tTri4+bjx5BnXwaMXyCUZap7A0VxKNQJIeMmUZSfR/T2P2ukP71Oy8bF80kMO8Sgp5+n+wPj6j0H9ZULuZw4kIb/AHccXWvOi8h/4FDcO3bCULyfiK2n0BZVHHpdV6znwMpEnNyaEDDIAzA6DhxZs6LSpEtpCfGsXfAxeq2O/o8+jf8Adxxa2HBwVSIGvaHCtuXRZcgI7BydSiIzKzR+FOO4Qp3Q0subtl27cWzTWoJGjcHCsmrfgkuj12nZsGg+p8NDGTTlRbqNGlODklafQ6uTsLTR0OOBO0Ny3A1CpWLoc6/y04yp5GXuInafH0HDyt8bEbH1HNevFDLujSDUahVpCfGsnDMLnU6LSq2m59iHsXdpgUGnQ6/TY9Dr0Ot0ZF+6SNyenRgMeoRKRX7ONZq5tqLPQ95s/jrGpBQ9qiV/h5C+xOzcSnFhAZbWNnfzOBQaAIriUKgzeo6byIqP3iF293aCRoyuVh86rZYNiz4l+VgYg599qdr91DRRO1JIOXGVgEHuWNtVzfPJHJxbe9JjzHjC1q0ibMMBAgZMRmN5p5tvdkYBEVtT6BDcAneTjSVm5zZ02mIADDodoauXmTXmjcjG7bo649ahGWEbz9ChpytWNlV/bfiE9CVyywaSI47Ssc99VW6v0LAw6y9ACGEDtJFSnqpleRTuYTz8/HHz8SN8wx90GTKyyi6eOq2WDQvnkRxxlCHPvkzgiAdqSdKqceZ4BgdXJQFw4sBFfHq41kpQwl4THiFu7x7yMrYQs7c3QcPunNkcWJmIUAv6TPDGoNdzeNVvxO7ZDkIgAJVGw6hXp9PK2xeVRoNKrUatsUCt0ZCenMjque/fEWZFCEHfh71Z+Wk4EVvO0nu8d5Vld+voR5NmjiSEHlAUxz1ApTYOIcQYIArYYjoPFELUvHuMwj2PEIKQ8ZPIybjMyYN7q9S2tNIY+twrDUJpXD6Xw44fTrD5q5supsaETVm1Mp6FlTXDX3oVabjK4dUrS8KI3OBsTCZnj2fS4/62IPNY+fEsQv9YTueBQ5n43if0nfwkkz6Yh2/v/ti7tMDO0QlbewesbG3RWFri0bEzE9+fW6aDQQtPe3x7uRK98zw5mQVVll2lUuPdsw9nIo+hLax+bvv6xFw70V8Bc77yzQZ6AnsApJRRQoi2lTUSQlgD+wAr0zirpJQfCiHaAcsAJyACeFJKWSyEsAJ+AroDV4DJUsqzpr7eAf4G6IGpUsqtZt+hQoOiXVAwLm3aErZ2JZ36DzJrn0VqXAzbv/sPWRcvMOz51+gydGQdSFo2Br2BM9GZRO9K5WJSNhZWaryCXDh7/AoGgwG1WlUj0WzLwyuoBx6denD+xEGObRlOzzGBgDEV7YEViTRraYuDSwY/zXgHbXERo16dTqf7BgPGqMWVUdHmyF5jvTh97DKha08z/Dnz9nZIgyTx2CVyMgpw8QxEV7yJ5MhwfHv3M/OOGwZpCfGs/HgWOq0WjYWykdEcxaGTUmZXI5VlETBYSpkrhLAADgghNgPTgUVSymVCiK8xKoSvTD+zpJTeQohHgPnAZCFEJ+ARoDPgBuwQQvhIKSt2LVFokAgh6Dl+Epv++TlJR0PpENKnzHr5OdmcPxHDyUP7SDxyCACVWoNzm6rFfaopCvO0nDiYRsye8+ReLcLe2Zq+D3vj19cNKxtNuWHLa4NRr73K96+9QOjqJXQbtQiNRk3kjhSuXc6jXedE1s7fhHNrT0a/MZPm7q1rbFw7R2sCh7Uh/M+zdBmcXeF9ZqXncSo0nRMH0yi4rgVAqCXWTexJOHKwThTH+YSrXEzIpnWnisOsmMO5mGhTCBjj7PdeyGx5N5ijOGKFEI8BaiFEB2AqcKiyRtK4YyjXdGph+khgMPCYqfxHjDOar4CxpmOAVcB/hFFbjQWWSSmLgDNCiCSMM6DDZsiu0ADx6dWXg8tbsX/Zj1xNO0/rzgE0c3Xj/IkYUk/EkBoXw5XzKYBRWdxASkOd/sOmJ2eTdOwS168UknLiKrpiA24dmtF/kg9tuzijKrUr/EaMp7rAvrkzXYZOJHrbr+z9eSM9x47g6IYYVHIrJw+eJWDICAZNeeGuPNfKI2h4G04cSOPgqkQe+r/utySmKszVkhh+iZOh6Vw+m4MQYO9iU6I4pF4gNO1JDg9DW1RYa1kp9ToDoWtPE7UjFYBjW84xbnr1syhKKW9dnpISKzu7mhC10WKO4vg7MAvjDOJ3YCvwsTmdCyHUwDHAG/gvcBq4JqW8sf31PHAj3rY7kAogpdQJIbKB5qby0FLdlm6j0AhRqdR0COnL0XWrOLDsp1vyo1tYWePesRN+/QfRulMAer2OP+Z9cNd5MarKudgrbPoyGmkyI3j6OxEytj0urStPxlQXDJoykRP7dxG17WdOHjpIYU4SFlYq7v/7W/j1G1hr41paawgZ68Xun0+y7X9x+N/nTlGejpOhFzkXewWDXtLc3Y6+D3vToUdLrl8pZN2iSPR6g1HJqDqg00aybuE6Rrw4lqZONac8pEGSFHGZ0HXJ5GTctMPodQYSj16qtuI4uPxnzkYdI2DwcGybOXJi704OLf+Fdl274dCi6rHI7gUqVRxSynyMimNWVTs3LScFCiGaAWuAsr4q3ohlUNZamKyg/BaEEC8ALwC0aaPE/2/o3PJtU0o8u3Sjz8THaOnlfYe3VV2mwZVScio0nb2/nypRGkJAK+9mDUZpAKjVGtp1G0TCwd8ozDkBQM/xr9Wq0rhBs5a2IIwRgJPCjflNbO0t6TLIA99erjh73HxOTRysGPtGUMkynkOLPnz7yibOxx/l1w9a0nWIB91Gtq2Wi29pUk9e5fAfp8lIuU5z9yb0mdCesPVn0OsMSAnxhy7i09OVlu2qlgs9atufHFmzgi5DRjL0+VcRQtCp/2B+f+9N1syfw6Mf/8PscPP3EuX+toQQGyjjBX0DKeWD5g4ipbwmhNgD9AKaCSE0plmHB5BmqnYeaA2cF0JoAAfgaqnyG5RuU3qMb4FvAYKDg6sXWEehzvAM6ErY2hUlM4k+Ex/FzadjmXXrKg3u1Yt57P3tFGmJ13BysyX7cmGdGLyri7bgeqkzQVriuToZ92LStVvOO/Z2ZdATHVGpy3Z0uH0Zz69fP04e2ItXoCMR21I4ceAiPUa3pbm7HenJ2VWyE2WkXOfw2tOknriKnZMVQ6b44dPTFZVKoNFkkHj0GK39Ajh5BNYtjuT+V7qYHUMs6Wgou5Z8jVf3ngz528sly3JObu6Mmf4Oq+d9wKZ/zmfcjA9Qqf9a+dUrUvP/uJuOhRAugNakNGyAoRgN3ruBhzF6Vj0NrDM1WW86P2y6vktKKU2uv78JIRZiNI53AMLuRjaF2kOvM5B07BI5VwppXUHuhxuhw+tqJlER2mI9x/48S+T2FCys1Ax83JdOfd24dDanzgze1aFDz+6cidiM0dlQTYce3etkXHcfRzQaFXq9Ual27u9ertIoC59e/YjZuZV2XfMJGt6Dg6uT2L88seS6SiUIGtGGVt7NsLW3pImDFdZ2FiU2pfTkbE5HZnDl/HVS47OwaqKh78Pe+A9wR2NhfIGnJcSz47uPMej1pBzfwpg3PiJsUwEb/x3NiBf8adel4hS4aQnxbPrn57Rs783oqTNQqdW3OEC08e/KkGdfZvt3/2Hvz/+r1ZQBDRFhTtRLIYQl0BHjDOSUlLLYjDZdMBq/1Rj3i6yQUs4RQnhx0x03EnhCSllkct/9GQjCONN4REqZbOprFvAsoAOmSSk3VzR2cHCwDA8Pr/S+FO6eogId6cnZXEy6RvrpbNJPZ6M35bDWVJJtriFwLvYK+5adIiezEN9ervR5yBtb+2pm2qsHYnaHk3j0GB16dCdgUHCdjXs3XmR6nY6vX3qKtl2CeGDq/yGlZOeP8ZwKTS+3jRBg09QSC2s1ORkFN0xi+IS4ct/kDljZ3rpbf//vPxK2dmXJuUcnf0a9+i5bvztFZmouQ57xw6dH2faJq2nn+f39/8Pazo5HP/4HNk3tidl9ngMrE5ES1BpVibF994/fEfHnOoY+9ypdh42q0nNoiAghjkkpK/1DqnRhUQjxAPA1RsO2ANoJIV6s7OUtpTyOUQncXp6M0Svq9vJCYGI5fc0F5lYmq0Ltkp6cTXJUBhpLFQXXtVxMyuZKWi5IECqBs4cdLp5NSU/OAUBv2gzX0BRHenI2Z6IzuXQmmwsJ13B0tWXcG0ElIToaEwGDgutUYdzgbrzI1BoN3sG9SAjdj664GI2lJf73uXP62GX0egMqtYqhUzrRxMGS/Jzim5/sItKSskuUhhDg1Mr2DqUBkHcty1RHgBCcPxHL7++9Rp9JT5No0YztS05QXKDH/z73O9qtnvchQqXiwbc+5Ex0Lsd3n+RqWl5JHb3OwOnIDFy9HBjw5LNkXbzAziVf0cy1FZ4BgdV6Jo0NcyxSXwCDpJRJAEKI9sAmoELFoXBvEbP7PPuWJ5Scqy1UuHk74BXUjlbeDrRsa4+ltXE/w9qFEeh1EiFEg7MNpCdns+aLCAymWVGn/m7cN9kHtUYJFF2X+PbqS+zubZw9Hol3cAiuXg63GNHLU0rpydklXlrl2Z60xUWcPhaGe8fOtAvsXuKJt+uHb9j2zSLcfDrRsu0g9v52iuICHd1GGPcGFRfk88dns8nPvobfgFdZtziZojwdzT3s6D7Kk6gdqRhMxvbEo+kEDWuDrb0lD0ydwbIP/o8Niz7lsU++wMmt6oEgGxvmKI7LN5SGiWTgci3Jo9DAkFISs+cC+1fcVBpCQPAoT4LvvzNWkquXA+Omd2P7kjiKC/W4tGk4nkgAcfsvlCgNIcC+ubWiNOqB1v5dsW5iR2LoAbyDQwDzZjHmKJgTe3dReD2Hfo88iYffzR3uj89dSOyeHez//UcKr3+Fo3sPDq0u4GpaHvYtrDix+xuunD+Dpd1Yko6BV6AjXQZ70Mq7GUII2gY4cyEhC+smFhxYmcj6f0UxfnoQVra2jJvxAb/Oms7az+fw6CdfYGPXsP7uaxpzFEecEOJPYAVGG8dE4KgQ4iEAKeUftSifQj2i1xrYu+wU8Qcv4tregYyU6xhM3/Q8OjqV287Vy4H7HvVl47+jSQi7hF+fVnUodfmkJV0jMewSCOOaq1rTML2l/gqoNRra9+hF4pFDJWE8zKUiBSMNBo5tWktLrw64d+x8yzWhUhEweDgdQvpweOVvRG7diFAdJ3ZXJwz6VKT+Mlb2I+g2agD+A9yxb35r+PfS4zZtbs2m/x5n03+PM+b1QBxatGTsm7NY+fG7bFj4KRPenVOtPO2NBXO+alkDl4ABwEAgA6NhewzQMGJaK9Q4edlFrF0UQfzBiwTf35aH3uzGuDeCCHnQyyyDd5tOTjR3tyNy2zmkof69ozNSrrPpP9E0dbbhgVe6EDLWvPtQqD18evWluCCflJioGuszOfIoWRcvEDx63C272ktj3cSOQVNe4KnP/42tgzP64mNI/WVARcc+nenzkPcdSuN22nRqzrBnO3MxOZut38ai1xtw79iJ4S+9TmrccX7/4P+4cOreDYZozgbAZ+pCEIWGw6UzOWz++jhFBTpGPO+Pd/cWQNUMokIIgoa3YccPJzgbe6VS98fa5OrFPNb/KwpLWw0Pvh5IUydr2gbUnzwKRjwDArGybUJC6AG8uvWokT6PbVxLU2cXfHpVHgvLubUn7bv3JnpbqqlEgjQvNS+Ad/cWFOX7sufXU+xcGs+wZzrRrKUrKrWaS6cTWfHRTCbP/uyejGllTlh1DyHEGiHEZSHEJSHEaiHEvW/9+YtyMvQia76IQKVRMWFG9xKlUR28g1vQ1MmayG11szGtLHIyC1i/OBKhEox9PahGQ1wo3B1qjQXtg0NICg9Fr9PedX+XkpNIPRFDt5FjzN6Q16l/D9QWliBUqC0s6NSvagqsc393eo3zIvHoJfYtTyA1LoYbWxwMej0xu7ZV+T4aA+YsVf2AcXOeG8YYURtMZQr3EAa9gQMrE9m5NB7X9vZMfCf4ltAR1UGtVtF1aGsuJmVz8XR2DUlqPnnXili3OBKd1sDY1wONoTIUGhQ+vfpRlJdHSkz0XfcVvnENljY2BAwZYXYbNx8/Jn0wl36Tn2DSB9ULld5thCdBw9oQu/cCOVebo9ZojOkChCDh8AGupV+scp8NHXMUh4uU8gcppc70WQq41LJcCnVEenI2R9Yns+rzY0TvTCVgkAdjpgZiY1czm+A69XXDqommzmcdhbla1v8rioLrWsb8PZDm7n/taKYNFc8uQVja2JJw5OBd9ZOTmcGpw/sJGDwCK9smVWrr5uNHyPhJ1V5SEkLQ+6H2+PVtRcJRQeCo1+k76QlGT5uJSqNh7YKPKS7Ir1bfDRVzFEemEOIJIYTa9HkCY6IlhUZOenI2axdFEv7nWTLOXafbSE/jnoYqhI+oDAsrNQEDPTgTncnVi3mVN6gBigt0bPh3FNmXC3jglS5VDmynUHdoLEzLVUdD0et0lTcoh8gtGwDoNsrsEHo1ihCCgY/54hXkQuw+PVkZfji08Gf0tLe5mnaeP/+zEGkwVN5RI8GcN8SzwCQgHbiIMY7Us7UplELdcCEh62b6UQGW1rUTqK3LQA80FiqitqfUSv+l0RXr2fTlcTJTcxn5gn+j3A3+V8MnpC+FuddJjTterfbFBfkc37EFn5C+2LtU3yZ3t6jUKroM8kAIOB2RwZovIrBq0o6BTz3H6fBQDq36rd5kq2kqVRxSyhQp5YNSShcpZQsp5TgpZf1ZOxVqDCe3m1N6TS3uabBpaolfn1acOpJOblZRrYwBRkW4fO5R0hKvMfSZTrStR08uBfNp27UbFtY2JIQeqFb7mF3bKS7IJ3j0+BqWrOqkJ9+05Rn0kiMbkgkcMRr/QcMIXb2MU4erd48NDXO8qnyEEDuFELGm8y5CiPdqXzSF2ib9tDGmVNchrWt9T0PXoW2QBsnxXamVV64GZ2MyWbcokmuX8lGpBU2bK95TjQWNpSXtu/fkVOgBQv9Yfmu2vUow6PVEbF6He8fOuHr71KKU5uHu44hao0KoQKjgfHwW+5YlMuiZl3Hz8WPLV4u4fDa5vsW8a8xZqvoOeAfQQknwwkdqUyiF2qe4QEfsvgu07+ZCv4kdan0jnIOLDd7dWxC7/wJFBdVfyy6L1JNX2fZ9XEnwOyklFxKyanQMhdrFuY0nxfn5HFzxCys/nmW28kgMO0ROxmW6jx5XyxKax42QKCEPejF+eje6jWhD3L4L7FhyklF/fxtru6as+8cn5OfUvZdhTWKO4rCVUt6e/6Jm//MV6py4/Wm3BHirC4KGe6It1BO370KN9GfQGwhdd5r1/4zCuomm5JteQ028pFA+ep3eeCAlOq2W1LiYSttIKQnfuIZmrq1o3/2OgNv1hquXA91HtqWVdzN6j/em/2QfzhzPZMcPZxn5ytvkX7vGhoWf1sjelfrCXK+q9piyAQohHsZoJFdopOi1BqJ3puDu60gLz7rzOHJp05TWfo5E70y9aZSvJtevFrJ2USTHNp+jY+9WPPphL8ZNNz8kikLDom2XQNQ34lVJSWrccQrzcitsk3YqnvSkBLrfPw6VquFm4OsyyIORL/iTmZrLgZXZ9H/8Jc7Hx7J76bf1LVq1MScK16sYU7J2FEJcAM4Aj9eqVAq1yqmwdPKyixn8dN2HQgga7sn6f0Zx6kg6nfq5VauPM9EZ7PwpHoNOMvSZTviGGBPy3E2OCIX6xbgRbx4pscfJycwgdvc2fn57KqNeexOP24IV3iB84xqs7ZrSecCQOpa26rQPaoHNNEv+/PI4Ubtt6TxwDNHbN2BhbYN1E7t6z4JZVcyJVZUMDBVCNAFUUsrrlbVRaLhIgyRyWwrOre1o7Vd+hNvawqOjIy5tmhK5PQW/Pq0QqrID0ZWFXmvg0Jokju86j3NrO0Y856/sBr+HKJ1bPmDQMP789z9YMfsdQsZPpNeER2+JNpuVnkZSeCgh4yZiYd04HCHcvJvx0P91Z8O/ozgX74OTuzfhG/4AIdBYWDDx/ertXK8Pyl2qEkKECCGihRC5QojDQBtFaTR+zhzP5NqlfLoN9yw3emhtciP44bVL+ZyJzjSrTXpyNgdWJbLskzCO7zpPl0EePDwjWFEa9zCtOvjy5Px/0mnAYEL/WM7yD9++JXRHxJ/rUavVBI5oXAG6nVo14eEZwTi0aELOFZO7uJToiouJ3bOjfoWrAhXZOP4LvAU0BxYCi+tEIoVaQ0pJxNZz2Dtb075b/UWNaR/kgr2zNaHrTxO++ewtvu9gNHpfv1pIWuI1jmxI5o9/RBC9I5Vrl/LpNc6L/pN9UFsoyZfudSxtbBn58jRGT5vJ1Yvn+entqcTu2UFB7nVi92ynY9+B2DnW/az5bmnSzIqH3uyGU+tOlF70idm5lU3/WsD1q+Z9oapPKlqqUkkpt5uOVwoh3qkLgRRqj4tJ17h0Jof7HvFBVYNhRaqKSq3CK9CFqB2pHFmXTJhK0LqjIzqtgetXCsm9VlRmDo96mCApNAB8e/ejVQdfNv/3C7Z+tRg7x8X9Ho0AACAASURBVOboiopo49+lvkWrNpY2Gjr2DuJaej4G7XmExhWpP8+pwwdJOhpKr/GT6T5mfJUSXNUlFSmOZjey/JV1rmT+a3xEbEvB2s6Cjg0gI5+F9c0/PWmQpCdn09zDjlbeDjR1sqZpc2uaOllTmK9l108nSzIPKm62f03snV2Y+P5cdi35hujtfwKw/bv/0My1VaOxC9xOaz8nIrZ4oLd0Q6USePgFcT4+gIJruzmw/CfCN/1J/8f/RsCgfvWyrFwRFSmOvRiz/JV1LgFFcTQirlzI5VzMFXqOaYeFZf27Lrbp5ETE1nMYdAZUGhVjpgaW6xFl39ymwhzTCn8NVCo1TZs7I4RASolepyM1LqbRKo6y8qdri/05ExXCsS0HuBi/nu3fzOfA73/g0bk32sIsfEK6EzAouL5FL19xKJn/7i0it6WgMUWqbQi4ejkw7rZ/morqKgpDgf9v777j6zjKxf9/nt1z1CVLVnPv3ZZ7dxI7cUtCSCgpBC4JEJILBEIu5f4CBLi0L+XyBXK/cAMhpEEIISQhwZDiHiexE8u23GW5y3KTbPV6ztmd3x+7KrYlWbLVbD/v1+u8zmo0Z3fmlH12Z2dngIHjs7CDQZxIBDsQYOD4rO4u0kU5+7sdjLIZNbMPo2beStmpG1jzzF/Z9/6r7F2/F4BDW14DHu724HH5zqZ+mSrIK+bo7lIGZ6W2eWdaUVzL3o0nyVowgJj4ntNmqgFBtVe/UWO57ds/4sjO7ZfcvQ/t1Sstnlu+8mle+GEF+dvrZxJ02LtxkwYO1Xb7Nxfy+mM7ANj85mFueXAy/Uaev80/Z4U3nPmkRQM7tXxKdYWm93tcCcbMm0v+9pWAAwh9hjd/Q2RXau0+jtv856FdVxzVkhMHy1jx1K6Gv13H8Mbvd3LyUHmrr6utDLPr7WOMnJmp820rdQnKunY6iz/3MMGYJMSO48BWi1Bt9w4X2FqfzPruty92RUFUy/ZvLuTvv9hCVGzjQH6WLbiOy99+ms265/Na/CJtX1tAJOQyZcmgLi61UqqjTLx2Bjfc/0WMU0lxwRbWPZ/XreVpranqtIisBoaKyKtn/9MY0z1zNF5BjDFsWZ7P+pf202dYEjd+fiJlRTUNF5R7941nwysH2LamgAM5RVx9xyiGTW68sS8ccti2uoAhWamk9tM5t5W6lI2YPpu0gYOpKtvM7nfHMGBM74Zx2rpaa4HjA8BU4I/A/+2a4qh6juPy1l/y2LXuGCOmZbDw7rEEomxiE6POuKB8zcdGMWpmJmuezeW1325n2OR0rr5jFAkp0eS+e5zayjBTunDodKVU5xDLYtZH7uCfj/yMjOFHWfvnAJlDk0jO6Pqhd8SYc+/QPSODSLoxpkhEEgFjjGl9rOMeYPr06SY7O7u7i3HB6moivPHYdo7sLmHq9YOZffOw8w4G6DguW1cc4f1lB7FsYdy8fuxef5yE5Gju/M6sLiq5Uqozua7D01+9H8QmYm6nV3ocH/36tA4bgkdENhljzttlqy1byxSRLcAOYJeIbBKRCRddwivEiQNlbHr93PGYWlJ+uoaX/nsTR/eUcu0nxzDnQ8PbNIKsbVtMXTqYO78zk5TMOLauPEKoOkJpYXWbt62U6tksy2bWR+6g+Ohhxs6ppSi/gvV/39/l5WhLd9zHgK8YY1YDiMgCP21uJ5brsnDiQBl//8VmHMdg2cLCu8YyaHwq0XGBc4YQOHGgjD3vnSBv40kwcNMDkxg4pv0DuPVKj2Po5HQK8yvAeMN5HM0r0fsllLpMjJl7Detf+DMHN/+LCfO/wNaVRxgwOoUhE9O6rAxtCRzx9UEDwBizxp+bQ53H/s1FOBGvKdCNGJY/4XWntQJCXGIUsYlRxCVFgUD+zuKGgf0Wf3rcBQWNegNGp7ApYOHo+E5KXXYs22bmh2/jzd/+D7M/Wsrx/QmsfHo3dzw8k4SU6K4pQxvyHBCRb4vIEP/xMN4sgOo8igr86UvECxYzbhrCvFtHMHnhQAaMTiE2MUhVWR3H8kobgoYIVJTUXtR268fA0WlUlbo8jbv6OpLSM9j4yl9Zcs84IhGXFU/uxG1mVOnO0JYzjs8A36NxUMO3AB3H6jxOHCzjaG4JY+b2ITkjrtXxmE4cKOOVX27p0DMEHc5DqcuXHQgw85ZbWfH4/1JRtI9r7hjFqmd2s+bZXHqlx3b6gKBtmTq2BHigvSsWkYHAM0AfwAUeM8Y8IiK9geeBIcAh4HZjTIl4jf6PADcC1cCnjDGb/XXdDTzsr/qHxpin21uermSM4d0X9xGbFMXVt48iKqb1t7m5UTKVUqo14xcsZsNLz7Phpb9w+3d/zN6NJ9j9znEQCASsTm1t6MzZfCLAV40xY4HZwP0iMg54CFhpjBkJrPT/BrgBGOk/7gMeBfADzXeBWcBM4Lsi0qMb7Q/mnOL4vjJmfXDoeYNGvT7DejHt+iEaNJRSbRIIBplx860U7N5Bwe4djfsO43XPP5pX0mnb7rTAYYw5Xn/G4M9VvhvoD9wC1J8xPA18yF++BXjGeDbgTRzVF1gKLDfGFPtnP8uB6zur3BfLcVzefXkfKX3iGNsDJkxSSl2+shYuIa5XMhte/AuDxqc2DEnU2Z1izhs4RGReW9LOs44hwBTgPSDTGHMcvOACZPjZ+gNHmryswE9rKf3sbdwnItkikl1UVNSe4nWonW8do6ywhrkfHdGt07MqpS5/wahoZnzwI+Tv2IobOcaHvtI1nWLasmf7f21Ma5aIJOANlPigMaa1oVybu8vNtJJ+ZoIxjxljphtjpqenpzfzks5XVxNh47KD9B+dwuAJqd1SBqXUlWXS4huJTUxiw4t/6bIm7xYb4EVkDt5Nfuki8pUm/0oC2jT3qIgE8YLGs03mKD8pIn2NMcf9pqhCP70AaDphxADgmJ++4Kz0NW3Zflfb/PphaqvCzPvoiB43R7BS6vIUjIlh2gc+xNt/eYYT+/fSZ/jITt9ma2ccUUACXnBJbPIoB24934r9XlJ/AHYbY37R5F+vAnf7y3cDrzRJv0s8s4EyvynrDWCJiKT4F8WX+Gk9SkVxLVtXHmH0rD6kD0rs7uIopa4gk5feREx8Ahteer5LttfanONrgbUi8pQx5vAFrHse8Elgu4jk+GnfBH4C/FVE7gHygdv8//0LryvuPrzuuJ/2y1EsIj8ANvr5vm+MKb6A8nSqDa9448XMumVYN5dEKXWliY6LY8oNN7P+b39m5ZO/Zey8+Z06S2Jb+opGi8hjePddNOQ3xlzX2ouMMW/T/PUJgIXN5DfA/S2s6wngiTaUtVsU5VeQ995Jpi4drLPsKaW6Rb+RYwDIeX0ZO1a9yW3f/lGnBY+2BI4XgN8Cj+NNequaMMbwzot7iUkIMvV6nfdCKdU9Th7c541ZZAxOJMKRndu7NXBEjDGPdsrWLwOHd5zm6J5Srr5jFNGxbbvZTymlOtrA8VkEgkGcSAQ7EGDg+KxO21Zb9nT/EJEvAC8DdfWJPfE6Q1dzHZd3X9xHr4xYxl/Tr7uLo5S6gvUbNZbbvv0jjuzczsDxWd1+jaO+B9TXm6QZ4Iq/Crz73eOUnKjmhs9lYevNfkqpbtZv1NhODRj12jLI4dBOL8UlKFQb4b1/HKTviF4MndR1E6gopVR3O2/gEJG7mks3xjzT8cW5dKx7Po+a8hCzbh6qN/sppa4obWmqmtFkOQavK+1mvCHTr0gHtxWRu/4EAG8/v5fUfgk6qq1S6orRlqaqLzX9W0R6AX/stBJdAja/nt+wXD98sQYOpdSV4kL6j1bjzZlxRaoqraPwcDniXwvXOb2VUleatlzj+AeNo9HawFjgr51ZqJ5s0xuHwcCSeyZQVlStM/Yppa44bTnj+HmT5Qhw2BhT0Enl6dEqS2rZue4oY+b0YcS0jPO/QCmlLkPnvfnAH+wwF29k3BQg1NmF6qk2ve6dbUy7YUh3F0UppbpNW2YAvB14H28U29uB90TkvMOqX24qimvZ9fYxxs7tS1JabHcXRymluk1bmqq+BcwwxhQCiEg6sAL4W2cWrKfZ9NohED3bUEqptoyTYdUHDd/pNr7uslF+qobd7xxn3Lx+Omy6UuqK15YzjtdF5A3gOf/vO4DXOq9IPc+m1w4hljBNh01XSqk23QD4dRH5CHAV3sRMjxljXu70kvUQZUU17F5/ggnz+5OQomcbSinVYuAQkRFApjHmHWPMS8BLfvo1IjLcGLO/qwrZnbJfO4RlC9OW6tmGUkpB69cqfgVUNJNe7f/vsld6spo9G04w4er+xCdHd3dxlFKqR2gtcAwxxmw7O9EYk403//hlL/tfh7BtYcrSQd1dFKWU6jFaCxytNehf9jcylJyoIu9979pGfC8921BKqXqtBY6NInLv2Ykicg+wqfOK1DNs/Och7KDFlCV6bUMppZpqrVfVg8DLIvIJGgPFdCAK+HBnF6w7FR+vYm/2SaYsHkRcUlR3F0cppXqUFgOHMeYkMFdErgUm+Mn/NMas6pKSdaON/zxIMMpmyhK9tqGUUmdry30cq4HVXVCWHuH00Ur2bSpk6tLBxCbo2YZSSp3tiho6pC3WPZ+HZQv9RiR3d1GUUqpH0sDRRO6G4xzNK8WNGF7/3XZOHCjr7iIppVSPo4GjiZIT1Q3L9XOJK6WUOpMGjiaGTkwjELQQS+cSV0qplrRldNwrRp9hvbjlP6ZwNK9E5xJXSqkWaOA4S59hvTRgKKVUK7SpSimlVLto4FBKKdUuGjiUUkq1iwYOpZRS7dJpgUNEnhCRQhHZ0SStt4gsF5G9/nOKny4i8j8isk9EtonI1CavudvPv1dE7u6s8iqllGqbzjzjeAq4/qy0h4CVxpiRwEr/b4AbgJH+4z7gUfACDfBdYBYwE/hufbBRSinVPTotcBhj3gKKz0q+BXjaX34a+FCT9GeMZwOQLCJ9gaXAcmNMsTGmBFjOucFIKaVUF+rqaxyZxpjjAP5zhp/eHzjSJF+Bn9ZS+jlE5D4RyRaR7KKiog4vuFJKKU9PuTguzaSZVtLPTTTmMWPMdGPM9PT09A4tnFJKqUZdHThO+k1Q+M+FfnoBMLBJvgHAsVbSlVJKdZOuDhyvAvU9o+4GXmmSfpffu2o2UOY3Zb0BLBGRFP+i+BI/TSmlVDfptLGqROQ5YAGQJiIFeL2jfgL8VUTuAfKB2/zs/wJuBPYB1cCnAYwxxSLyA2Cjn+/7xpizL7grpZTqQmJMs5cMLmnTp0832dnZ3V0MpZS6pIjIJmPM9PPl6ykXx5VSSl0iNHAopZRqFw0cSiml2kUDh1JKqXbRwKGUUqpdNHAopZRqFw0cSiml2kUDh1JKqXbRwKGUUqpdNHAopZRqFw0cSiml2kUDh1JKqXbRwKGUUqpdNHAopZRqFw0cSinVBtVbtnDqd49RvWVLdxel23XaRE5KKXU5cEMhKlas4Pj/9xAmEkGiohj01JPETZnS3UXrNho4lFJXtOrNW6hYtYqofn2R2DjCBQWECwoIHS0gXHCUyMmT0GTCO1NXR9Evfkm/n/2UYN++3Vjy7qOBQynVqXIKc8g+mc30zOlMzph80fk6gltVRdX69ZS+9BKVq1af+U8RApmZRA0YQPzs2QQHDMA4EYr/8AQmEgGgOjubfQsXkbhwISmf+ARxs2YiIp1a5p5EA4dSXagrd46dKacwh1X5qxjdezTDeg0j7IYJOSFCboiIG/GWnRD7Svay/aU/0LfI4c2hAeZffx9Deg3BtmxssbHEIiABDpUf4pHNj+C4DlF2FL9f8vsOf39C+flUrllL5dq1VL//PiYcRoLBxgyWRe+77iL9K/+BFRV1zusTrrmG6vc3EjdzBoH0DEqf/wulf32BiuXLiR45gpRPfIJeH/wgVnx8h5a7J9I5x5XqIi/mvcj31n8PgyHajubxJY9fcsEj7IZ5fNvjPLr1UQzN7zuCYcOEw4Zp+wwz9xiSq8EArsBTi4TlUy1cq+Wjc0G4J+sevjz1yxdV1uqN2ZS+8gpuTQ11u3YROngQgKihQ0mYP5+EBfMR2yb/3vsagsigJ59o17ULt7aW8n+9Rsmf/kTtrl1YiYnEX3UVgcwMkpYuveSug7R1znENHEp1srAT5tGtj/L49sfP2NkuGLCAX177SwJW55/4b131V469vZx+Vy1m0nW3t/v1ZXVlvJD3As/lPkdhdWFDuiDcOOxGbkqcQ+z7u4levw1r806kLgSxMYTTk7HzT2DhBQ8BSOmFtWAOXDsXd9JYXFvILc7lR+/9iLAbBiAgAT488sN8avynGJQ0qM3lNK5LzZYtnH7ySSpXrGxIj8nKotcHP0jCgvlEDTpzfdVbtjScSbS2o2/tbNEYQ01ODkW//g3V77zTkB47ZQrxc+cSM348MePHEcjI6NFNWho4NHCoHmBP8R6+9fa32FOyh6v7X03Ze+8yPD/MzkFC3gBhWK9hfG3617h6wNUdut2IG+Fw+WH2FO/hyEt/Zu4Tm7BccGzY9Y0Pc/WH7qdffL/z7sQOlh3kT7v+xKv7X6XWqWVW31lc1f8q3njlV8zeESY6IlxdMxBr7yEAgv37k7BgAQnXXkvczBnU7tzJoU99quGIPv1zn6cubw+Va9Ziamqwe/cmcdEikq5fyr6qfI6tX0nM9GmsSynk7/v+jmMcFg1axGeyPsP41PEtlrN2Tx7ly5ZR/s9/Ej52DAIB8K9HYNukP/AAaf9+3wW9l9XhapbtX8aP3/8xERMhIAG+NOVLzB84n/4J/YkJxDTkPfW7xyh65BFwXW/TvXvjlJY2/p2WRsz4ccSOH0/M+PEcKD3AsR3v0+/qCwvoHU0DhwYO1YXOPmoN1VbztxWP8O665xh+OsiC8DDi95/AOXXKO+ewbUq++Sn+T+xq8ivymddvHl+d/lVGpoxs13ZzCnNYV7CO3rG9cVyHvJI88kryqDywl+k7Q8zd7TK4qMnRPuAIbB8i5I6Jp252FoPHzCArLYsJqRM4VH6IjSc2EhOIYf2x9aw7uo6gFeSmwTfwcWs26bknKV+xkpqcHARvvdGjR9Prpg+QuGABUSNGnBOMmjuid2tqqHxrHRVvvE7FmrWY6urGF9g2KXfcTmTSGN4I5fBc2UpOBqqY3W8On5nwGeJyj3hnT+Nm0L9YKF+2jLq8PLBt4ufNpddNNxFIT+fI57/QpiaopmcS41PHk1eax85TO9lxagc7Tu9gf+l+XOO2+BlkxGUwMHEggxIHMe64zYTv/w2JOBAIEPnVw0SG9Ye9h5A9B7D2HMLeewg7/zjievteAxgB94MLGfahjxMzYQJ2UlK7vgcdRQOHBg7VgrY2TbRV+cpVHHvwQa/HjQhkpOEWFmLV72sCNtFDh4EIdXv3ntG1M2bKFHKnZ/CL5A0UBmu4deSt3D/lfnrH9D5nO2E3zKGyQ+wp2UNeSR7ZJ7LZfmp7w//TygyL9sUxb7ch80illzhxLKHRg+Hl17EdcC2omTeJqP1HiTl6CoAjabBphLBphHc/8NgjhtwBEBMdz8eqJzA638HJ2YHr79ztlBSckhJv/ZZF+pe/fMFH8+AFkePf/g7ly5a1mCcSG8XxXi4VwQijC8AyjYEwdvJkkj54E0nXX08gNbXhNef7nMvqynjj0BvemYQbQRAssXCMA0BydDIT0iYwIW0CcYE4fpPzGyJuhIAV4Bszv0FsIJb8inyOVBxpeJyqOcXIAsP4fMPOQcLeAc2f0UWFDZ9c4bI4x5zZjFf//6FDiZ2YRczEicROnIhbW0vN5i0d9p1tiQaOHhI42rqT6uidWWe4FMp4PhVr36Lgi1/0mjFsm4yvf53EhQsJ9u2D2PYZeZtr03arq6nduZOarVup2bqNmm3bvH7+PgMcSxO2jI1m5txbmTXvNqKHDEGioqjesoX8T3/GOwoOBOj14Q9Tnb2R0L79EAhwPKsPzw85we4x8dxpzyZl11FKxw/kyOBY8kry2F+6v+EaQJwToL+TRN/cU8zONWSUGQZ5cYCYrCySbryRpOuXNtxn0Nw1jtChQ1SsWUPZqpXUbtqCOM4Zl7vrd2TRI0cQN2OG95g+nVBBQWM9LuCCcnPOeG+CQQb85tcEevcmVODdSxEuKKCuIJ9TmzcQWxFGABdYNlP4+/W9GJY8jJHJIxmePJzhycMZkTyCY5XHyD6ZzaiUUcQGYjlQeoD9Zfsbnk/VnDqnHFMzpnLn2DuZkDqB/gn9zzh7akuPuP/N+V9+t/V3uLhYWNw8/GZuHHYjtthn9CSzLZuCd1eS+Y1HCTgQseFnH7VIie3NDTUjGH3CwuzKwyk6q4yBAH0efpjkj37kzB5hHUQDRzcHDqeykqJHHqHkT882HmFGR2PZtndU2uRhHAdTVeXlCQTo9+Mfk3TTBy7qItqFBKzYSZNwiouJFBYSKSoiUlRE2F+u27uPmk2bvLrYNkk33kDM2HEEUntj9071nlNTCaSkULNzZ4cGmIsJWMYYQvv2UbF6DZWrV1PT0nARwQCB/v2J9M+gOjOJg4m1ZB/dQEaJS220xcTgEPodriQmvwjx26vp34forAlEp2dS9pfncSMRIja88sAUPv9vvyIjLuO8dTHGUJebS9k/llG+bBmRwkLqoiwCYRcxXhNG7tAgCVEJJNfaxFVFCFbUQG3dGet1AfeWRYz+4n8SNXBgu94jAKeigt0PPYi18t2GnbJZNI8x3/8Zgd7nnv10xkFEW9a5ddVfMQ98t2Fnm/3NmzgxrBf7S/ezv3Q/JXUlrW4jPhjP8F7DGZY8jOG9hoPAr7f8mogbIWgFL7obcE5hDve+eS9hN9ym9dUH9Mx511E4PIW/7/077x57F4NhVuZMbu19HeOe30TlP19raBoUwIqL8wL5nNnEz5lD9MiRiGVddCcIDRzdFDjCR49S/Mc/UfrCC7j1wQBAhNgpU4jNygIMxhi/cdNQs307tVu3nrGeqCFDSFzs3WAUM3EiYp1/WLHIqVPUbNtO+fI3KX/lVe+CnH8zkxUXB5YgYoFtgyWYmlpChw41BjbLariI15SdnAy2jXP6dGNiC3nPIELczJlEjxhBID3NCyypaQTSUgmkphI6epSaTZuJnTyZ6DGjMaGQ96irw62rw9SFqN21i8Kf/tQb6iEYpN8vf0HCVVdhRUefs7mGHc/UqRgnQsWqVVSuXkP4yBEAYsaNo2JwGubNt7D9C8XLP9ifGgkTc6KU9NNhMksMfUogJnzmumuCkNdf2Nev/lmoiGsM7PXNE3uGBPjmPU9f0M7HOA7V77/Pzh88RMKBwoYdRSQhhsTho7CTkwkkp2CneI+a7duoWLkKMQZjWWRcZJNR9ZYtZ1zIHvLUUz3yzLK1nePpmtPsL93PM7ueYW3BWsDr+XXL8Fu4f8r9ZMZlnnNA1tH31lzs+k5UneCVfa/w8r6XOVp5lKwTUfznH6sJON53NveWiaSWG5J3HCH+eCkAdYkxFPWPo09eMWK8oCr/8712Bw8NHF0cOGpycjj91NNUvPkmWBZJ119P3OzZnPzhD897Sn92E0byxz9OaM8eqt5/HyIRAhkZJCy8jsSFi7Cio6jevIXYiVlIIEDNtu3UbN9OzbatRI4d91YockY7evSoUUQNHwauAdfFuC64LqFDhxr6tgPEzZxJ4tIlBNLTCWZkEEhPx05Pxzq7mSUYZNATTxA9aiTO6dNEThfjFHvPFW+8TtW76xvWaaekYCIR3IqKDn2/JS6OQHJyw07UGEP1hg3gOI15oqKImzMbuWomOSNtVtVsZW3BWobkhxraoCtG9SUrPYvMuEz6xPehT3wfMmMzCP3vU8Q//yYW3sVk555bGXD/g5SHyqkIVVAeKqe8zltemb+SDcc3YDDYYvPFKV/ks1mfveC6nX1U3dIO4JzPpIOajC715kho/5F/T+Qal+wT2fz3xv/G2b77nOsmllhkVFhkHYYJB10m7wkRG/Je6wgcufMqbvjO79u1TQ0cnRw4qrdsoXrDexigau1aanJysJKSSLn9NlI+8YmGtuWLucbhlJVR+dZbVCxfQeW6dZiammZfGxwwwLuQljWR2EkTMaEQRz73+fYFrDbseNpSl5bW6dbV+UHmNJGiU95QDytXegFOxLsh69prkegorOhoJCoKiYomlJ/feMZh26TcfTd2QgJOaSlOSQmR0hKcklJChw/jlJU1ns4vnc/bH5/A6lPvNlxAzozLZHzqeNYdXYdr3FZ3KO05+u6MnVRbmxwulx19Z7ic7tL/7Jufbfh+/XbRb5maORVLzmyF2LryeXjgv7BdPeO4IBcTOFr6IRrHIXLqNJETx6lcv4FTv/51Qz9xOzOTtHvvJfnDH+q04Qbc2lqOf+e7lL/6qpcgQq9bbiHjP79+UW3QnbHj2bzyOU6+varVvuntCVptKeOmlX/G/vIPGo7Sv3+nzb4BFllpWVwz4BrmD5zP6JTRiEibdyjteW8ul52U6pna+v3SaxwX4UIDR+W6dRR84X6vW6VlETdzJqaujvCJ40QKixpvKGrKskh/4Eukfe5zHVDy1nVG00R7nP3lrY3UcqDsAPtL97OvdB/7S/ez8/TOht4qlljcMeoObhx2I2NTxxJtn3ld4mKDVkltCW8VvMXqI6tZW7CWofnhhtP5wfMW861Z3yItNq1D6q7UlaCtgUMHOWyiYvVqTNi/Kuo41O7aRczo0cTPmEEgsw/Bvn0I9OmDU1bGie/+V8MF27hZs7qkfHFTpjDoySe6vGnCGMPyw8t5aN1DXn93EdJi0yiqLmoYQiNgBRiSNISU6BRO15zGYHCNy3N7nuO5Pc8RtIKMTR3LpPRJTE6fzKT0SRzvL2TPtZieKbR2jN40YCVHJ7PmyBpWH1lNTlEOrnHJiMtg/oD5vMVbHBjoNUF9Z9zdGjSU6iR6xtFE1XvvceTe+xona7nI5pNLVW2kll2nd5FTlMPWwq3k65TFfgAAEk1JREFUFOVQXFt8Rp4RySNYMnhJQ5/5gUkDCVrBc9r7fz7/50RMhK1FW9lauJWdp3dS55zZldQSi2mZ0+gb35fYQOwZj+KaYp7NfZaI653t1Qeq0SmjuXbQtSwYuIBxvce1qwlKKdU8barq4Gscl6v64bHjgnGU1ZWRU5hDbnEuEePtqAclDmJS+iTSYtN4dvezOMY57wXg1nbgYSfMnpI9PJrzKG8dfashPSU6hZhADDWRGmoiNecEl3rzB8znm7O+Sb+Efh30Diil6mng6CF3jrdVR0920zTfgMQBHKs8xrHKYxytPOo9Vx3lQOkBjlcdb3hNlBVFVnpWQ1PSxPSJpMamNrvOiz2iP19PJMd1qHVqyT6RzVfWfoWIGyHK6px5GpRSnsvuGoeIXA88AtjA48aYn3TGds63czTGUBWuYv32Z9hxZB1zhy5l5sS7W7zLu7n1RdwIJbUlnK49zamaU2w5uYUndjyBYxxssbl5+M30ie9zzrpOVJ3g1f2v4hgHSyyuG3QdSVFJDRPo1Dl1hJwQxTXF7CnZ0+J8CcnRyfRL6Ed8sLEHmIXFfRPv498n/XuL703M4VOM33WAmHFD4NybosF1oLaM/Rtfo3j/JhIn3MiYmYuaXdfkjMn8fsnvW3yvbcsm3opn/sD5/GHJH9oWsI68D4fWwZCrYeDMlvMp1dQl8L3ZdLiEDQdOM3tYKtMGp3R3cS6NMw4RsYE8YDFQAGwE7jTG7Gou/4Wecbxz9B2+tPKLREwEWywWZs7CNoaSuhJKQuUUhyspiVQRPmukTAES7GgS7FjiA7EkBhOIj0ogbAwbT23FNQYRoV98H6rD1ZSGylvcqbdHlBUk3k4gaAWIsoJEWVEEJUhpuJSTdUUN+Wb3nsrN/a6jb0wa/WPSSAjGYgvsLN/L57J/6A8VbfP/xj7AmOg+REI1OKFanFANTrgWJ1RLzfE9jCp4ERsHF4sjCRMJ2BbBcAXRkXJinEpi3aozymcMlNspVMb2pzY2nUhcJiT0wUrqQzC5H2WnjlFbsJ2oYXPoO/5qjNi4VgBDAGMFMBLAWBYF29YQ2vcWMUNn0X/UNKxwJRKuwgpXIaFqrHAVUad2kLTpN2AcEJvy6Q8QSR+HCcRiomIhGAeBWAjGUrAnh+pD7xM9cgGDpywEaf6u/MM5a6jeu4aE0QsYMXUhAVuwLSFoW1iCd7DguuCE2JO9nLLctSSPuopRk6/GcSKEIxEc1yEcdog4YSKOy9Gd7xDK30TU8KsYNGkBdjAGOxhDMBjEti2CloVlCbkbV1CyaxUpY69j5PSFhB0XxzVEHEPEdYlEIkQiYY7krKLuwDtEj5jPoCmLCNje6wOWYFmCLV6ZD2xeRVnualLGXceYGc0Hc6Bxu+fJ1x5t3em1tG3XNYRdl7BjiDguezetombvGhJHX8voGQsJWBZBWxoP3lwH3Ah7Nq6gYvdyeg+ZzLDho6C6GGpKoKbYXy6G0/shfz0Y1/seDF8IaSMhtjfEpfjPvSE2hX17d1O8P5teY69l9PRFIDZY/hBCrdXDiUCkFpwQRGox4Voi4VrcUC35O9+h6tBmogZOJn3YFCL+5xx2DI5xiTiGA6eqePfddYzmEDmMZuHiDzBmYAbB6HiiYuOIjo4lOhggKmCxd9PKi/r8LqumKhGZA/yXMWap//c3AIwxP24u/4UGjh+++m88X9I49EfQdcl0HHo7LimuS4rjkOK47A0GeScuBiOCGMP02jpGhcJUWEKVZVFpWVRawlE7QKltNdzJPSwcZlptHamOS5rjkOo/Cm2bb6WnEhEhaAy/P1HIpLrQOeXbGh3FvX0yCDfJN7mZfDltzFefNzsmhum1tS3mOZsxUGR6cZC+VEkC1VYCtYFEagOJDK3bw2xnM7YYXAO5DKHEJJJOMRlSSrJUnX8DTbhNRkHtrPlvIsYigk2IAGECRLARDGk03lB4il6AECBCEIcgEYJEsKVjfj+uEcIEqCOAQUikuqHeFcQCEMTBxiGAi9XCdsPGJkyAMPXPASzjki6lDXU5TiphohDxRmYVDBaGICFSTWO+EumFI+c2SsgZ+4zGZWnmYEiMwfXTBaif+E/Oeo2NQ4JpHFq9nDjCBL1RefxcBsEmQioVF/TenPE+EaCMBARD7yafcznxBIxDvNSedx31HAQXGwcLA8SYxt+RI0KgAw4Sz6fWBAljk0AtBqgjisM3Pdfu4HG5NVX1B440+bsAOKMPrIjcB9wHMGhQ22cMa2qx1YuXXUNEIGgMj8eNZ/LUeyEqAaITIToBohL55T+fZGPVU0QwBIwhNXIrqQOvJdOpJhipJuBUE3SqqSn8O79KPUkECBjDx8v6kJ52HWJZWCJYlkW1ZZGRv4bHjm9mc2w0U2vqIDiDzaMW+Ue13pGtALJvBb87vrEhn0TNYtv4pU1+XP7PMO8Nfnd8Q0O+cHAub4+5wRtxxIBjBBeIP/A6s6pWM7kuhGOEtYk3UDfh41hRsQSiYrD950B0LOWHNjN3wxcIEiFMgBM3PM6MWYuxrHOPtkLL7iRovHzWTf+XeTMWURt2KKsJk1deTvXpY1Sv+jmzSpdhi8Exwvb4OThD52MZF8uEsYyDZSIEDr/DyJocLPHKvSNhDuFRN+EE4ojUP+w4DuRu5ZPH/w8BHCLY/LHPQwwePQnbqcWO1GE5NdhODTF5rzK58u2G7e6JnYLbfxriRrBMGNsNIyZC1MmtUFfWMHpLVXQGtWkTCPu7qAgBwhIgQoDEok1MqtvcUMYtMTOpGLAAsWwsy8ayLSzLJurgCqZUrmvY9o74WYT7zwEnhDghxPWeE4q2kBjKRcT7vE5GDaEqYwpi2xgriFgBsAIEjr7P2Orshu3mxU7G6TcVccOIE0bcMLgRYk9th1BpQ13CwSSqkkZ43we8oOUaoVflXlIjjflO22mcjh8F/vfPG2Cv6Z7f/6tpRPeX64/+i6tCnKps3JH2Toimd7w3n7dBwC9D77JdjI7swaqvc3AAlSnjsQUsMVgCtkD06Z2k1lU0vjfRQ6hKn+x9HsZqeE45tYlJocbPZGX0InIH3UFNoBfVdi/CdiwiwqDqHXx635exTRhXgrww8hccTcwi4IaJdSuIi5QR55Qx+NALXFWzpvH7Gj2FkrRpiOuAcRDjIMYltSSHseFdDfXYFZzAqbTZuHYUrh2NafJIzF/BnKpVDevckLQUM/4j2JZFwMJ7toXYPS8z7Og/GvIdzLiOqv5XY8I1EK7BhGuRSC1xJzYyIrQbSyBoIpTsWgUddNZ4tkslcDR3rHlGGDfGPAY8Bt4Zx4VsZNaku/nDc6+QHWUxPeQy+c6vNdvmec2se1j9p2KSY7ZSWjuJj/3b15s9Bc/dOI7fLL+LnNgAk2si9Fr8SLNHALkbpzN42Z1MrKskTIDDi7/SQr6ss/I92EK+0Qxetr5Jvi8xo9l8wwkte7thJ585/7MtH6GMHU5uWkrDafDEFvKNmbGIXJ4753Q5JmgTE7TJTIqBARnkhj5FaNkbDduOufarLdRlBXVNAlH0gq8yqZl8yUOn8qnHbaaZnWyS8Xz9xrta+EyGEVr2XmNgW/gtxrVhu3WLf8LYFup8dt6ERf/J9GbXOZ7Qsg2Ndbn2683W5ez1OUt+yOQ25JOFDzOhDflql/6c8W3I517/M+Zc5I5n0+ESHnx8A+GISzBg8eyds1v4XM7a9tIfM7Ut783itr03gxZ/jiXN1iULjgyHQ+uwh1zNZ1u4xpG7MZPQsncav6+Lv8W1bdhu1JL/4roWvzejCC1b15A39Zp7m//9DRuA+9SbuE4YCQQZcfNDze6Xzt52yrjrmt1uR9CmqrO18ULZxbbbXmr5OkNHl7G7PpPOWGdPz9cePf230lbd+b1p637pYut8uV3jCOBdHF8IHMW7OP5xY8zO5vJfit1xlVKqu11W1ziMMRER+SLwBl533CdaChpKKaU61yUROACMMf8C/tXd5VBKqSvd+aeVU0oppZrQwKGUUqpdNHAopZRqFw0cSiml2uWS6I7bXiJSBBzu7nI0kQac6u5CdJDLpS6XSz1A69ITXar1GGyMST9fpssycPQ0IpLdlr7Rl4LLpS6XSz1A69ITXS71aIk2VSmllGoXDRxKKaXaRQNH13isuwvQgS6Xulwu9QCtS090udSjWXqNQymlVLvoGYdSSql20cChlFKqXTRwXAAReUJECkVkR5O0SSKyXkS2i8g/RCTJT48SkSf99K0isqDJa6b56ftE5H9EOmty1C6pyxoR2SMiOf4jo4vrMVBEVovIbhHZKSJf9tN7i8hyEdnrP6f46eK/5/tEZJuITG2yrrv9/HtF5O6urEcn1MVp8pm8egnUZYz/3asTka+dta7r/e/YPhF56BKvyyH/d5QjIpfeHBDGGH208wFcA0wFdjRJ2wjM95c/A/zAX74feNJfzgA2AZb/9/vAHLwZDl8DbriE67IGmN6Nn0lfYKq/nIg3f8s44GfAQ376Q8BP/eUb/fdcgNnAe356b+CA/5ziL6dcinXx/1fZXZ/JBdYlA5gB/Aj4WpP12MB+YBgQBWwFxl2KdfH/dwhI687P5mIeesZxAYwxbwHFZyWPBt7yl5cDH/WXxwEr/dcVAqXAdBHpCyQZY9Yb75v0DPChzi772TqiLl1QzPMyxhw3xmz2lyuA3Xhz1d8CPO1ne5rG9/gW4Bnj2QAk+5/JUmC5MabYGFOCV//ru7AqHVmXbtfeuhhjCo0xG4HwWauaCewzxhwwxoSAv/jr6DIdWJdLngaOjrMDuNlfvg0Y6C9vBW4RkYCIDAWm+f/rDxQ0eX2Bn9YTtLcu9Z70T72/3R3NbvVEZAgwBXgPyDTGHAfvh493FAjee32kycvq3/+W0rvFRdYFIEZEskVkg4h0+YFJU22sS0suxc+lNQZ4U0Q2ich9nVXOzqKBo+N8BrhfRDbhncaG/PQn8L7k2cCvgHeBCF6zwtl6St/o9tYF4BPGmCzgav/xyS4tsU9EEoAXgQeNMeWtZW0mzbSS3uU6oC4Ag4w39MXHgV+JyPAOLmabtKMuLa6imbSe/rm0Zp4xZipwA95v7ZoOK2AX0MDRQYwxucaYJcaYacBzeO2xGGMixpj/MMZMNsbcAiQDe/F2wAOarGIAcKyry92cC6gLxpij/nMF8Ge8poUuJSJBvB/0s8aYl/zkk/XNNv5zoZ9ewJlnS/Xvf0vpXaqD6oIxpv75AN51qCmdXviztLMuLbkUP5cWNflcCoGX6Ybfy8XQwNFB6nsRiYgFPAz81v87TkTi/eXFQMQYs8s/pa0Qkdl+s85dwCvdU/oztbcuftNVmp8eBG7Ca+7qyjIL8AdgtzHmF03+9SpQ3zPqbhrf41eBu/weSbOBMv8zeQNYIiIpfu+YJX5al+mouvh1iPbXmQbMA3Z1SSV8F1CXlmwERorIUBGJAj7mr6PLdFRdRCReRBLrl/G+Y136e7lo3X11/lJ84B2FH8e76FUA3AN8Ga+XRR7wExrvyh8C7MG7kLYCb9ji+vVMx/vC7Ad+Xf+aS60uQDxeD6ttwE7gEcDu4npchdd0sQ3I8R83Aql4F/T3+s+9/fwC/MZ/77fTpEcYXlPdPv/x6W74TDqkLsBc/++t/vM9l0Bd+vjfw3K8zhcFeJ1I8F+X59fzW5dqXfB6hm31Hzu7oy4X+9AhR5RSSrWLNlUppZRqFw0cSiml2kUDh1JKqXbRwKGUUqpdNHAopZRqFw0cSl0k//6Jt0XkhiZpt4vI691ZLqU6i3bHVaoDiMgE4AW8O7NtvD7+1xtj9l/EOgPGmMj5cyrVtTRwKNVBRORnQBXeDZEVxpgfiDefx/14Q4G/C3zRGOOKyGN4w9nHAs8bY77vr6MA+B3eiLy/Msa80A1VUapVge4ugFKXke8Bm/EGhZzun4V8GJhrjIn4weJjeGN5PWSMKRaRALBaRP5mjKkfDqTKGDOvOyqgVFto4FCqgxhjqkTkebzJk+pEZBHeRD7Z/ijzsTQODX6niNyD9xvshzfXSX3geL5rS65U+2jgUKpjuf4DvDGknjDGfLtpBhEZiTce2ExjTKmI/AmIaZKlqktKqtQF0l5VSnWeFcDtTUYOThWRQXgD3VUA5U1mHVTqkqFnHEp1EmPMdhH5HrDCH6I+DHwObyKsXXgjIx8A3um+UirVftqrSimlVLtoU5VSSql20cChlFKqXTRwKKWUahcNHEoppdpFA4dSSql20cChlFKqXTRwKKWUapf/H2Dz/F+RchuAAAAAAElFTkSuQmCC\n",
          "text/plain": "<Figure size 432x288 with 1 Axes>"
         },
         "metadata": {
          "needs_background": "light"
         },
         "output_type": "display_data"
        }
       ]
      }
     },
     "5436ec3255454ffd8d49d085e69cd58a": {
      "model_module": "bqplot",
      "model_module_version": "^0.4.1",
      "model_name": "LinearScaleModel",
      "state": {
       "_model_module_version": "^0.4.1",
       "_view_module_version": "^0.4.1",
       "stabilized": false
      }
     },
     "54d668e868274525aa083cba062375e3": {
      "model_module": "@jupyter-widgets/controls",
      "model_module_version": "1.4.0",
      "model_name": "LabelModel",
      "state": {
       "layout": "IPY_MODEL_a16681c0feb242e0945a7471fc98b4ff",
       "style": "IPY_MODEL_11fbf417e7d9403395f42ee449459c12",
       "value": "Total counts for range of Age: "
      }
     },
     "56a83665f318477faf18fe11419e5ab3": {
      "model_module": "@jupyter-widgets/base",
      "model_module_version": "1.1.0",
      "model_name": "LayoutModel",
      "state": {}
     },
     "56af4576efba4641805d37c680be8bbf": {
      "model_module": "bqplot",
      "model_module_version": "^0.4.1",
      "model_name": "FigureModel",
      "state": {
       "_dom_classes": [],
       "_model_module_version": "^0.4.1",
       "_view_module_version": "^0.4.1",
       "axes": [
        "IPY_MODEL_376f4ba89cc14514b7676d5752d45bbb",
        "IPY_MODEL_f00a7fc6d16b4532931877bacbead99f"
       ],
       "interaction": "IPY_MODEL_d7c70db42055442a8a8a862d886b041b",
       "layout": "IPY_MODEL_f62f2ce737504e1da327f8ebcc29faad",
       "marks": [
        "IPY_MODEL_09c3c1a5866b495f937301406bd75c75"
       ],
       "scale_x": "IPY_MODEL_8e5879268a3c448f8a10efca9123066b",
       "scale_y": "IPY_MODEL_97b5959e30a042119223585920cac0d3"
      }
     },
     "574ad06553064e1f877a9ebed586e720": {
      "model_module": "@jupyter-widgets/controls",
      "model_module_version": "1.4.0",
      "model_name": "DropdownModel",
      "state": {
       "_options_labels": [
        "ALL",
        "WHITE",
        "BLACK",
        "ASIAN",
        "HISPANIC",
        "AMERICAN INDIAN/ALASKAN",
        "UNKNOWN"
       ],
       "description": "selector",
       "index": 0,
       "layout": "IPY_MODEL_fc7e5d8e32e147038b4d8971e2001720",
       "style": "IPY_MODEL_512b2869e0164031a81a1ed8cb28ca3a"
      }
     },
     "5770d8da0e054533ae38018193f9286e": {
      "model_module": "@jupyter-widgets/controls",
      "model_module_version": "1.4.0",
      "model_name": "DescriptionStyleModel",
      "state": {
       "description_width": ""
      }
     },
     "57d3b5cbc4214f788b247f0f1eeb2400": {
      "model_module": "bqplot",
      "model_module_version": "^0.4.1",
      "model_name": "FastIntervalSelectorModel",
      "state": {
       "_model_module_version": "^0.4.1",
       "_view_module_version": "^0.4.1",
       "marks": [
        "IPY_MODEL_40a0ce8d855e43c590641c0ca8a7a9a0"
       ],
       "scale": "IPY_MODEL_b35833a438c9472fb32fd2fbf8eb649a",
       "selected": {
        "type": "object",
        "values": [
         51.605545343137244,
         53.65456495098039
        ]
       }
      }
     },
     "597a03490d0f48ffbe0f8d12688fb3c3": {
      "model_module": "@jupyter-widgets/base",
      "model_module_version": "1.1.0",
      "model_name": "LayoutModel",
      "state": {}
     },
     "59d86b982f6c4c2793e130ae66949cff": {
      "model_module": "bqplot",
      "model_module_version": "^0.4.1",
      "model_name": "AxisModel",
      "state": {
       "_model_module_version": "^0.4.1",
       "_view_module_version": "^0.4.1",
       "label": "Age",
       "scale": "IPY_MODEL_d6b3a70c9e4743fb8a4377d6c6385e34",
       "side": "bottom",
       "tick_values": {
        "type": null,
        "values": null
       }
      }
     },
     "5ad3afda6c6f4faab1d1b2d169464b5c": {
      "model_module": "bqplot",
      "model_module_version": "^0.4.1",
      "model_name": "ScatterModel",
      "state": {
       "_model_module_version": "^0.4.1",
       "_view_module_version": "^0.4.1",
       "color": {
        "type": null,
        "values": null
       },
       "colors": [
        "steelblue"
       ],
       "display_legend": false,
       "names": {
        "type": null,
        "values": null
       },
       "opacity": {
        "type": null,
        "values": null
       },
       "rotation": {
        "type": null,
        "values": null
       },
       "scales": {
        "x": "IPY_MODEL_ad7303e9d1dd49299860191150335d4e",
        "y": "IPY_MODEL_74817d39abeb4b098cc46a98b0536301"
       },
       "scales_metadata": {
        "color": {
         "dimension": "color"
        },
        "opacity": {
         "dimension": "opacity"
        },
        "rotation": {
         "dimension": "rotation"
        },
        "size": {
         "dimension": "size"
        },
        "skew": {
         "dimension": "skew"
        },
        "x": {
         "dimension": "x",
         "orientation": "horizontal"
        },
        "y": {
         "dimension": "y",
         "orientation": "vertical"
        }
       },
       "selected": [
        0,
        1,
        2,
        3,
        4,
        5,
        6,
        7,
        8,
        9,
        10,
        11,
        12,
        13,
        14,
        15,
        16,
        17,
        18,
        19,
        20,
        21,
        22,
        23,
        24,
        25,
        26,
        27,
        28,
        29,
        30,
        31,
        32,
        33,
        34,
        35,
        36,
        37,
        38,
        39,
        40,
        41,
        42,
        43,
        44,
        45,
        46,
        47,
        48,
        49,
        50
       ],
       "size": {
        "type": null,
        "values": null
       },
       "skew": {
        "type": null,
        "values": null
       },
       "x": {
        "type": "float",
        "values": [
         1,
         3,
         5,
         6,
         7,
         8,
         9,
         10,
         11,
         12,
         13,
         14,
         15,
         16,
         17,
         18,
         19,
         20,
         21,
         22,
         23,
         24,
         25,
         26,
         27,
         28,
         29,
         30,
         31,
         32,
         33,
         34,
         35,
         36,
         37,
         38,
         39,
         40,
         41,
         42,
         43,
         44,
         45,
         46,
         47,
         48,
         49,
         50,
         51,
         52,
         53,
         54,
         55,
         56,
         57,
         58,
         59,
         60,
         61,
         62,
         63,
         64,
         65,
         66,
         67,
         68,
         69,
         70,
         71,
         72,
         73,
         74,
         75,
         76,
         77,
         78,
         79,
         80,
         81,
         82,
         83,
         84,
         85,
         86,
         87,
         88,
         89,
         90,
         91,
         92,
         93,
         94,
         95,
         96
        ]
       },
       "y": {
        "type": "float",
        "values": [
         4,
         4,
         1,
         1,
         10,
         32,
         67,
         173,
         456,
         823,
         1371,
         2092,
         2791,
         4946,
         6186,
         9370,
         11655,
         12835,
         12069,
         10563,
         9068,
         8280,
         7306,
         6786,
         6344,
         5995,
         5411,
         5121,
         4759,
         4233,
         4056,
         3873,
         3695,
         3580,
         3311,
         3131,
         2818,
         2687,
         2554,
         2486,
         2244,
         1992,
         2092,
         1835,
         1706,
         1525,
         1368,
         1393,
         1359,
         1189,
         1159,
         1013,
         1004,
         906,
         825,
         725,
         660,
         631,
         585,
         501,
         438,
         392,
         388,
         374,
         288,
         244,
         245,
         218,
         195,
         187,
         202,
         170,
         170,
         165,
         129,
         131,
         124,
         119,
         106,
         94,
         88,
         83,
         57,
         49,
         39,
         28,
         23,
         19,
         10,
         11,
         7,
         4,
         1,
         4
        ]
       }
      }
     },
     "5af8abeca53c493f999bded8465bb762": {
      "model_module": "bqplot",
      "model_module_version": "^0.4.1",
      "model_name": "LinearScaleModel",
      "state": {
       "_model_module_version": "^0.4.1",
       "_view_module_version": "^0.4.1",
       "stabilized": false
      }
     },
     "5ca692e6e492404caa1a651675797d78": {
      "model_module": "bqplot",
      "model_module_version": "^0.4.1",
      "model_name": "LinearScaleModel",
      "state": {
       "_model_module_version": "^0.4.1",
       "_view_module_version": "^0.4.1",
       "stabilized": false
      }
     },
     "5ca952fb06fc4e94af0ffe5acda3e4bf": {
      "model_module": "@jupyter-widgets/controls",
      "model_module_version": "1.4.0",
      "model_name": "DescriptionStyleModel",
      "state": {
       "description_width": ""
      }
     },
     "5ceb1e55577a40ff9b42eb8e0d795147": {
      "model_module": "bqplot",
      "model_module_version": "^0.4.1",
      "model_name": "ScatterModel",
      "state": {
       "_model_module_version": "^0.4.1",
       "_view_module_version": "^0.4.1",
       "color": {
        "type": null,
        "values": null
       },
       "colors": [
        "steelblue"
       ],
       "display_legend": false,
       "names": {
        "type": null,
        "values": null
       },
       "opacity": {
        "type": null,
        "values": null
       },
       "rotation": {
        "type": null,
        "values": null
       },
       "scales": {
        "x": "IPY_MODEL_d57a1bc7b6ff485bb120a393bda42293",
        "y": "IPY_MODEL_722261696ff941c6a4478ed55fcbe336"
       },
       "scales_metadata": {
        "color": {
         "dimension": "color"
        },
        "opacity": {
         "dimension": "opacity"
        },
        "rotation": {
         "dimension": "rotation"
        },
        "size": {
         "dimension": "size"
        },
        "skew": {
         "dimension": "skew"
        },
        "x": {
         "dimension": "x",
         "orientation": "horizontal"
        },
        "y": {
         "dimension": "y",
         "orientation": "vertical"
        }
       },
       "size": {
        "type": null,
        "values": null
       },
       "skew": {
        "type": null,
        "values": null
       },
       "x": {
        "type": "float",
        "values": [
         1,
         3,
         5,
         6,
         7,
         8,
         9,
         10,
         11,
         12,
         13,
         14,
         15,
         16,
         17,
         18,
         19,
         20,
         21,
         22,
         23,
         24,
         25,
         26,
         27,
         28,
         29,
         30,
         31,
         32,
         33,
         34,
         35,
         36,
         37,
         38,
         39,
         40,
         41,
         42,
         43,
         44,
         45,
         46,
         47,
         48,
         49,
         50,
         51,
         52,
         53,
         54,
         55,
         56,
         57,
         58,
         59,
         60,
         61,
         62,
         63,
         64,
         65,
         66,
         67,
         68,
         69,
         70,
         71,
         72,
         73,
         74,
         75,
         76,
         77,
         78,
         79,
         80,
         81,
         82,
         83,
         84,
         85,
         86,
         87,
         88,
         89,
         90,
         91,
         92,
         93,
         94,
         95,
         96
        ]
       },
       "y": {
        "type": "float",
        "values": [
         4,
         4,
         1,
         1,
         10,
         32,
         67,
         173,
         456,
         823,
         1371,
         2092,
         2791,
         4946,
         6186,
         9370,
         11655,
         12835,
         12069,
         10563,
         9068,
         8280,
         7306,
         6786,
         6344,
         5995,
         5411,
         5121,
         4759,
         4233,
         4056,
         3873,
         3695,
         3580,
         3311,
         3131,
         2818,
         2687,
         2554,
         2486,
         2244,
         1992,
         2092,
         1835,
         1706,
         1525,
         1368,
         1393,
         1359,
         1189,
         1159,
         1013,
         1004,
         906,
         825,
         725,
         660,
         631,
         585,
         501,
         438,
         392,
         388,
         374,
         288,
         244,
         245,
         218,
         195,
         187,
         202,
         170,
         170,
         165,
         129,
         131,
         124,
         119,
         106,
         94,
         88,
         83,
         57,
         49,
         39,
         28,
         23,
         19,
         10,
         11,
         7,
         4,
         1,
         4
        ]
       }
      }
     },
     "5d48015d35824316bfaa9093441091dc": {
      "model_module": "@jupyter-widgets/base",
      "model_module_version": "1.1.0",
      "model_name": "LayoutModel",
      "state": {
       "min_width": "125px"
      }
     },
     "5d4b66351e0e4d259f2ba910b770ff2f": {
      "model_module": "@jupyter-widgets/controls",
      "model_module_version": "1.4.0",
      "model_name": "LabelModel",
      "state": {
       "layout": "IPY_MODEL_a12e6a6983404ee78166b69786e4af3f",
       "style": "IPY_MODEL_0c385f6698724e93a702df2ca1f7154d",
       "value": "Total Counts: 200420"
      }
     },
     "5d87de069c2142389419c02c89e0c155": {
      "model_module": "bqplot",
      "model_module_version": "^0.4.1",
      "model_name": "AxisModel",
      "state": {
       "_model_module_version": "^0.4.1",
       "_view_module_version": "^0.4.1",
       "label": "Count",
       "orientation": "vertical",
       "scale": "IPY_MODEL_b79516f9e45b4213a8222554d51e85a6",
       "side": "left",
       "tick_values": {
        "type": null,
        "values": null
       }
      }
     },
     "5efa8a74a58143f3a022b1a952704c89": {
      "model_module": "@jupyter-widgets/base",
      "model_module_version": "1.1.0",
      "model_name": "LayoutModel",
      "state": {}
     },
     "5f081df947664ed383ad7df042c0226f": {
      "model_module": "bqplot",
      "model_module_version": "^0.4.1",
      "model_name": "AxisModel",
      "state": {
       "_model_module_version": "^0.4.1",
       "_view_module_version": "^0.4.1",
       "label": "Count",
       "orientation": "vertical",
       "scale": "IPY_MODEL_1fa31a660bb74e65b08508090f8b6469",
       "side": "left",
       "tick_values": {
        "type": null,
        "values": null
       }
      }
     },
     "608033df9ccf4ac5809de0fc06414760": {
      "model_module": "@jupyter-widgets/base",
      "model_module_version": "1.1.0",
      "model_name": "LayoutModel",
      "state": {}
     },
     "649894d1fba04539b73a709e35db66e9": {
      "model_module": "@jupyter-widgets/base",
      "model_module_version": "1.1.0",
      "model_name": "LayoutModel",
      "state": {
       "min_width": "125px"
      }
     },
     "65e2a72c1e374413a359bb941f14d07b": {
      "model_module": "@jupyter-widgets/controls",
      "model_module_version": "1.4.0",
      "model_name": "DescriptionStyleModel",
      "state": {
       "description_width": ""
      }
     },
     "67ced77f6491451cacb62c40a17bad5d": {
      "model_module": "@jupyter-widgets/base",
      "model_module_version": "1.1.0",
      "model_name": "LayoutModel",
      "state": {
       "min_width": "125px"
      }
     },
     "6808fdd4451a4838a24944f666f3f766": {
      "model_module": "bqplot",
      "model_module_version": "^0.4.1",
      "model_name": "LinearScaleModel",
      "state": {
       "_model_module_version": "^0.4.1",
       "_view_module_version": "^0.4.1",
       "allow_padding": false,
       "max": 1,
       "min": 0,
       "stabilized": false
      }
     },
     "6844aa4a7b8847d380b3a12caa45e68e": {
      "model_module": "bqplot",
      "model_module_version": "^0.4.1",
      "model_name": "AxisModel",
      "state": {
       "_model_module_version": "^0.4.1",
       "_view_module_version": "^0.4.1",
       "label": "Year Acquired",
       "orientation": "vertical",
       "scale": "IPY_MODEL_5436ec3255454ffd8d49d085e69cd58a",
       "side": "left",
       "tick_values": {
        "type": null,
        "values": null
       }
      }
     },
     "6cbe97fdf80447848f4407f332a21098": {
      "model_module": "bqplot",
      "model_module_version": "^0.4.1",
      "model_name": "AxisModel",
      "state": {
       "_model_module_version": "^0.4.1",
       "_view_module_version": "^0.4.1",
       "label": "Count",
       "orientation": "vertical",
       "scale": "IPY_MODEL_5ca692e6e492404caa1a651675797d78",
       "side": "left",
       "tick_values": {
        "type": null,
        "values": null
       }
      }
     },
     "6df1a794585b4f4f9725dec133048c82": {
      "model_module": "bqplot",
      "model_module_version": "^0.4.1",
      "model_name": "LinearScaleModel",
      "state": {
       "_model_module_version": "^0.4.1",
       "_view_module_version": "^0.4.1",
       "stabilized": false
      }
     },
     "6ee01b91ce4f419092a26f6486979c81": {
      "model_module": "bqplot",
      "model_module_version": "^0.4.1",
      "model_name": "LinearScaleModel",
      "state": {
       "_model_module_version": "^0.4.1",
       "_view_module_version": "^0.4.1",
       "stabilized": false
      }
     },
     "6ff5e615012541be8eed5e361103da3b": {
      "model_module": "@jupyter-widgets/controls",
      "model_module_version": "1.4.0",
      "model_name": "DescriptionStyleModel",
      "state": {
       "description_width": ""
      }
     },
     "703efea327a545e18e010a8a30f31e83": {
      "model_module": "bqplot",
      "model_module_version": "^0.4.1",
      "model_name": "LinearScaleModel",
      "state": {
       "_model_module_version": "^0.4.1",
       "_view_module_version": "^0.4.1",
       "allow_padding": false,
       "max": 1,
       "min": 0,
       "stabilized": false
      }
     },
     "714bb4b00e3d42d18f65ad15b51da5e4": {
      "model_module": "bqplot",
      "model_module_version": "^0.4.1",
      "model_name": "AxisModel",
      "state": {
       "_model_module_version": "^0.4.1",
       "_view_module_version": "^0.4.1",
       "label": "Count",
       "orientation": "vertical",
       "scale": "IPY_MODEL_b48eb25e30b541f3a422ac40dc1d87dc",
       "side": "left",
       "tick_values": {
        "type": null,
        "values": null
       }
      }
     },
     "722261696ff941c6a4478ed55fcbe336": {
      "model_module": "bqplot",
      "model_module_version": "^0.4.1",
      "model_name": "LinearScaleModel",
      "state": {
       "_model_module_version": "^0.4.1",
       "_view_module_version": "^0.4.1",
       "stabilized": false
      }
     },
     "728b6201ba9a4f198aa81624887b5cf0": {
      "model_module": "@jupyter-widgets/controls",
      "model_module_version": "1.4.0",
      "model_name": "DropdownModel",
      "state": {
       "_options_labels": [
        "ALL",
        "WHITE",
        "BLACK",
        "ASIAN",
        "HISPANIC",
        "AMERICAN INDIAN/ALASKAN",
        "UNKNOWN"
       ],
       "description": "selector",
       "index": 0,
       "layout": "IPY_MODEL_c0c55d3cc5194dcaa4d4189c9a189d31",
       "style": "IPY_MODEL_9babf802c5df4215a3dcf2a48664f3ab"
      }
     },
     "729b894d4333456e9d0917712b2483ea": {
      "model_module": "@jupyter-widgets/base",
      "model_module_version": "1.1.0",
      "model_name": "LayoutModel",
      "state": {}
     },
     "74123abe5e214d579ee794526fde0efe": {
      "model_module": "@jupyter-widgets/base",
      "model_module_version": "1.1.0",
      "model_name": "LayoutModel",
      "state": {}
     },
     "741f7da663bd44d0a034b5b4a279ac8b": {
      "model_module": "@jupyter-widgets/controls",
      "model_module_version": "1.4.0",
      "model_name": "DescriptionStyleModel",
      "state": {
       "description_width": ""
      }
     },
     "74817d39abeb4b098cc46a98b0536301": {
      "model_module": "bqplot",
      "model_module_version": "^0.4.1",
      "model_name": "LinearScaleModel",
      "state": {
       "_model_module_version": "^0.4.1",
       "_view_module_version": "^0.4.1",
       "stabilized": false
      }
     },
     "74be5e562e6048728b60ad1c007eaa2e": {
      "model_module": "bqplot",
      "model_module_version": "^0.4.1",
      "model_name": "LinearScaleModel",
      "state": {
       "_model_module_version": "^0.4.1",
       "_view_module_version": "^0.4.1",
       "stabilized": false
      }
     },
     "760b7983a56d41f98b469754cc0d2d8a": {
      "model_module": "bqplot",
      "model_module_version": "^0.4.1",
      "model_name": "LinearScaleModel",
      "state": {
       "_model_module_version": "^0.4.1",
       "_view_module_version": "^0.4.1",
       "allow_padding": false,
       "max": 1,
       "min": 0,
       "stabilized": false
      }
     },
     "762a5a865de14455b46c0d0fdd5b5295": {
      "model_module": "bqplot",
      "model_module_version": "^0.4.1",
      "model_name": "FastIntervalSelectorModel",
      "state": {
       "_model_module_version": "^0.4.1",
       "_view_module_version": "^0.4.1",
       "marks": [
        "IPY_MODEL_39432560dc6341f3bbb30c42f2a98030"
       ],
       "scale": "IPY_MODEL_43d219a6ba8146138253a23cb442ead8",
       "selected": {
        "type": null,
        "values": null
       }
      }
     },
     "776dde65b9d94da1b4f37fc5d0a2fdd9": {
      "model_module": "@jupyter-widgets/base",
      "model_module_version": "1.1.0",
      "model_name": "LayoutModel",
      "state": {
       "min_width": "125px"
      }
     },
     "78307cc35d7145ed8a2efef55be23ef5": {
      "model_module": "bqplot",
      "model_module_version": "^0.4.1",
      "model_name": "LinearScaleModel",
      "state": {
       "_model_module_version": "^0.4.1",
       "_view_module_version": "^0.4.1",
       "allow_padding": false,
       "max": 1,
       "min": 0,
       "stabilized": false
      }
     },
     "787ab81e81fb48f78bf86d8836e919ba": {
      "model_module": "bqplot",
      "model_module_version": "^0.4.1",
      "model_name": "FigureModel",
      "state": {
       "_dom_classes": [],
       "_model_module_version": "^0.4.1",
       "_view_module_version": "^0.4.1",
       "axes": [
        "IPY_MODEL_35b69bf8ab344689b5820aea136875c7",
        "IPY_MODEL_04568d0080c34379adc464c6ed8b22cf"
       ],
       "interaction": "IPY_MODEL_dfb34198015a42bc957d1993aee48c42",
       "layout": "IPY_MODEL_2158cd160ce64faf9cb30f27cd4972f2",
       "marks": [
        "IPY_MODEL_eed234acf99648b481b6a50dce79be5b"
       ],
       "scale_x": "IPY_MODEL_9e197e58ec4848ca8eb0f37f4f970527",
       "scale_y": "IPY_MODEL_0f8034eda30b46cdb94dc4fb17b82eba"
      }
     },
     "78971aed0f0e45b5b8e38cfb73f85fc7": {
      "model_module": "bqplot",
      "model_module_version": "^0.4.1",
      "model_name": "LinearScaleModel",
      "state": {
       "_model_module_version": "^0.4.1",
       "_view_module_version": "^0.4.1",
       "allow_padding": false,
       "max": 1,
       "min": 0,
       "stabilized": false
      }
     },
     "78a44e9f3df04feda061ffa5599f41bf": {
      "model_module": "@jupyter-widgets/controls",
      "model_module_version": "1.4.0",
      "model_name": "DescriptionStyleModel",
      "state": {
       "description_width": ""
      }
     },
     "79ad896b465e48fa9e7c864b648518a9": {
      "model_module": "bqplot",
      "model_module_version": "^0.4.1",
      "model_name": "FastIntervalSelectorModel",
      "state": {
       "_model_module_version": "^0.4.1",
       "_view_module_version": "^0.4.1",
       "marks": [
        "IPY_MODEL_40a0ce8d855e43c590641c0ca8a7a9a0"
       ],
       "scale": "IPY_MODEL_b35833a438c9472fb32fd2fbf8eb649a",
       "selected": {
        "type": "object",
        "values": [
         10.90456495098039,
         42.943780637254896
        ]
       }
      }
     },
     "7a27320c622b40c2844b743bcee4d0a5": {
      "model_module": "@jupyter-widgets/controls",
      "model_module_version": "1.4.0",
      "model_name": "DescriptionStyleModel",
      "state": {
       "description_width": ""
      }
     },
     "7a3537bf4644417391a47c412e6c48e3": {
      "model_module": "@jupyter-widgets/base",
      "model_module_version": "1.1.0",
      "model_name": "LayoutModel",
      "state": {}
     },
     "7ac2d84206074411834ecd6f5930f835": {
      "model_module": "bqplot",
      "model_module_version": "^0.4.1",
      "model_name": "LinearScaleModel",
      "state": {
       "_model_module_version": "^0.4.1",
       "_view_module_version": "^0.4.1",
       "allow_padding": false,
       "max": 1,
       "min": 0,
       "stabilized": false
      }
     },
     "7af212d5ee3d4b0480b9e7a8dc63fe7c": {
      "model_module": "bqplot",
      "model_module_version": "^0.4.1",
      "model_name": "LinearScaleModel",
      "state": {
       "_model_module_version": "^0.4.1",
       "_view_module_version": "^0.4.1",
       "stabilized": false
      }
     },
     "7af6c68aba2046d7822c478f2c247c87": {
      "model_module": "bqplot",
      "model_module_version": "^0.4.1",
      "model_name": "LinearScaleModel",
      "state": {
       "_model_module_version": "^0.4.1",
       "_view_module_version": "^0.4.1",
       "allow_padding": false,
       "max": 1,
       "min": 0,
       "stabilized": false
      }
     },
     "7b72ef76c75c42af830071b1f9ac2b57": {
      "model_module": "bqplot",
      "model_module_version": "^0.4.1",
      "model_name": "FastIntervalSelectorModel",
      "state": {
       "_model_module_version": "^0.4.1",
       "_view_module_version": "^0.4.1",
       "marks": [
        "IPY_MODEL_cafcfc41663f4973bdaff938c51eaf57"
       ],
       "scale": "IPY_MODEL_9113bc6541a2420f88f67debd87699e3",
       "selected": {
        "type": "object",
        "values": [
         16.399662990196077,
         18.07613357843137
        ]
       }
      }
     },
     "7bed33fda8cc4f1d9d2db4c6528615e1": {
      "model_module": "bqplot",
      "model_module_version": "^0.4.1",
      "model_name": "FigureModel",
      "state": {
       "_dom_classes": [],
       "_model_module_version": "^0.4.1",
       "_view_module_version": "^0.4.1",
       "axes": [
        "IPY_MODEL_889901288e3441fa8315730916939bb5",
        "IPY_MODEL_c4639547b8d3424dab03471178c89dba"
       ],
       "interaction": "IPY_MODEL_4a2f3fd3cdd94aae99e869a63bfd784b",
       "layout": "IPY_MODEL_356145bf90184e17aafb4ee852ae67d9",
       "marks": [
        "IPY_MODEL_d182cc3dc3cd4579a47d80d0ba2fabce"
       ],
       "scale_x": "IPY_MODEL_ace5b1d3fc2040b0a7051b7b3f61fe24",
       "scale_y": "IPY_MODEL_a4ec4e1c98f94673a4d473867125c99b"
      }
     },
     "7c11fd9de1a844b8936d85fe8caf3ca1": {
      "model_module": "bqplot",
      "model_module_version": "^0.4.1",
      "model_name": "LinearScaleModel",
      "state": {
       "_model_module_version": "^0.4.1",
       "_view_module_version": "^0.4.1",
       "allow_padding": false,
       "max": 1,
       "min": 0,
       "stabilized": false
      }
     },
     "7c92bd9ee80f4e31a0877d385d7200f3": {
      "model_module": "bqplot",
      "model_module_version": "^0.4.1",
      "model_name": "FastIntervalSelectorModel",
      "state": {
       "_model_module_version": "^0.4.1",
       "_view_module_version": "^0.4.1",
       "marks": [
        "IPY_MODEL_d182cc3dc3cd4579a47d80d0ba2fabce"
       ],
       "scale": "IPY_MODEL_6ee01b91ce4f419092a26f6486979c81",
       "selected": {
        "type": null,
        "values": null
       }
      }
     },
     "7ca560485fdd44d1bb9e634c7b301085": {
      "model_module": "@jupyter-widgets/base",
      "model_module_version": "1.1.0",
      "model_name": "LayoutModel",
      "state": {}
     },
     "7ddc262d265b4da291d68febb7f8c34e": {
      "model_module": "@jupyter-widgets/base",
      "model_module_version": "1.1.0",
      "model_name": "LayoutModel",
      "state": {}
     },
     "7eb56114dfeb4303a1098a0d18f7034e": {
      "model_module": "@jupyter-widgets/controls",
      "model_module_version": "1.4.0",
      "model_name": "LabelModel",
      "state": {
       "layout": "IPY_MODEL_4e7fe66bd91a43c6bcf47014cda441ff",
       "style": "IPY_MODEL_ddcf754cc6514371baa4cf52d5295b1e",
       "value": "Total counts for range of Age: "
      }
     },
     "7f73df728fe34364949866047e84096a": {
      "model_module": "@jupyter-widgets/base",
      "model_module_version": "1.1.0",
      "model_name": "LayoutModel",
      "state": {}
     },
     "801175340dbb4481a44cfd26dfc6196c": {
      "model_module": "bqplot",
      "model_module_version": "^0.4.1",
      "model_name": "AxisModel",
      "state": {
       "_model_module_version": "^0.4.1",
       "_view_module_version": "^0.4.1",
       "label": "Age",
       "scale": "IPY_MODEL_934487dd948846138907a14d06cc3f65",
       "side": "bottom",
       "tick_values": {
        "type": null,
        "values": null
       }
      }
     },
     "8019635becba478aa5a4f78d4d3d9eb1": {
      "model_module": "@jupyter-widgets/base",
      "model_module_version": "1.1.0",
      "model_name": "LayoutModel",
      "state": {}
     },
     "819363b9c6044990ae14a5f0fe7959e6": {
      "model_module": "@jupyter-widgets/base",
      "model_module_version": "1.1.0",
      "model_name": "LayoutModel",
      "state": {}
     },
     "81b6f0b9fa184f26b5077d7669271455": {
      "model_module": "@jupyter-widgets/base",
      "model_module_version": "1.1.0",
      "model_name": "LayoutModel",
      "state": {}
     },
     "83c2640e94354de8a1ab23bc93bd4e72": {
      "model_module": "@jupyter-widgets/output",
      "model_module_version": "1.0.0",
      "model_name": "OutputModel",
      "state": {
       "layout": "IPY_MODEL_5efa8a74a58143f3a022b1a952704c89",
       "outputs": [
        {
         "data": {
          "image/png": "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\n",
          "text/plain": "<Figure size 432x288 with 1 Axes>"
         },
         "metadata": {
          "needs_background": "light"
         },
         "output_type": "display_data"
        }
       ]
      }
     },
     "86a839152c3549f581a1b19fed9050eb": {
      "model_module": "bqplot",
      "model_module_version": "^0.4.1",
      "model_name": "ScatterModel",
      "state": {
       "_model_module_version": "^0.4.1",
       "_view_module_version": "^0.4.1",
       "color": {
        "type": null,
        "values": null
       },
       "colors": [
        "steelblue"
       ],
       "display_legend": false,
       "names": {
        "type": null,
        "values": null
       },
       "opacity": {
        "type": null,
        "values": null
       },
       "rotation": {
        "type": null,
        "values": null
       },
       "scales": {
        "x": "IPY_MODEL_934487dd948846138907a14d06cc3f65",
        "y": "IPY_MODEL_e8238731c3f64c929c9b188bbea08d63"
       },
       "scales_metadata": {
        "color": {
         "dimension": "color"
        },
        "opacity": {
         "dimension": "opacity"
        },
        "rotation": {
         "dimension": "rotation"
        },
        "size": {
         "dimension": "size"
        },
        "skew": {
         "dimension": "skew"
        },
        "x": {
         "dimension": "x",
         "orientation": "horizontal"
        },
        "y": {
         "dimension": "y",
         "orientation": "vertical"
        }
       },
       "selected": [
        0,
        1,
        2,
        3,
        4,
        5,
        6,
        7,
        8,
        9,
        10,
        11,
        12,
        13,
        14,
        15,
        16,
        17,
        18,
        19,
        20,
        21,
        22,
        23,
        24,
        25,
        26,
        27,
        28,
        29,
        30,
        31,
        32,
        33,
        34,
        35,
        36,
        37,
        38,
        39,
        40,
        41,
        42,
        43,
        44,
        45,
        46,
        47,
        48,
        49,
        50,
        51,
        52,
        53,
        54,
        55
       ],
       "size": {
        "type": null,
        "values": null
       },
       "skew": {
        "type": null,
        "values": null
       },
       "x": {
        "type": "float",
        "values": [
         1,
         3,
         5,
         6,
         7,
         8,
         9,
         10,
         11,
         12,
         13,
         14,
         15,
         16,
         17,
         18,
         19,
         20,
         21,
         22,
         23,
         24,
         25,
         26,
         27,
         28,
         29,
         30,
         31,
         32,
         33,
         34,
         35,
         36,
         37,
         38,
         39,
         40,
         41,
         42,
         43,
         44,
         45,
         46,
         47,
         48,
         49,
         50,
         51,
         52,
         53,
         54,
         55,
         56,
         57,
         58,
         59,
         60,
         61,
         62,
         63,
         64,
         65,
         66,
         67,
         68,
         69,
         70,
         71,
         72,
         73,
         74,
         75,
         76,
         77,
         78,
         79,
         80,
         81,
         82,
         83,
         84,
         85,
         86,
         87,
         88,
         89,
         90,
         91,
         92,
         93,
         94,
         95,
         96
        ]
       },
       "y": {
        "type": "float",
        "values": [
         4,
         4,
         1,
         1,
         10,
         32,
         67,
         173,
         456,
         823,
         1371,
         2092,
         2791,
         4946,
         6186,
         9370,
         11655,
         12835,
         12069,
         10563,
         9068,
         8280,
         7306,
         6786,
         6344,
         5995,
         5411,
         5121,
         4759,
         4233,
         4056,
         3873,
         3695,
         3580,
         3311,
         3131,
         2818,
         2687,
         2554,
         2486,
         2244,
         1992,
         2092,
         1835,
         1706,
         1525,
         1368,
         1393,
         1359,
         1189,
         1159,
         1013,
         1004,
         906,
         825,
         725,
         660,
         631,
         585,
         501,
         438,
         392,
         388,
         374,
         288,
         244,
         245,
         218,
         195,
         187,
         202,
         170,
         170,
         165,
         129,
         131,
         124,
         119,
         106,
         94,
         88,
         83,
         57,
         49,
         39,
         28,
         23,
         19,
         10,
         11,
         7,
         4,
         1,
         4
        ]
       }
      }
     },
     "8753a92698254f0880b972b4c9fdd04d": {
      "model_module": "@jupyter-widgets/controls",
      "model_module_version": "1.4.0",
      "model_name": "LabelModel",
      "state": {
       "layout": "IPY_MODEL_a09eead3a7bd415285b251c419738fde",
       "style": "IPY_MODEL_fb5e4de789cb4cdba83f82e074427095",
       "value": "Total square footage: "
      }
     },
     "87afc93b31044b2ea3323ae68c33b514": {
      "model_module": "@jupyter-widgets/base",
      "model_module_version": "1.1.0",
      "model_name": "LayoutModel",
      "state": {}
     },
     "87c027620963489c8556d545f38146da": {
      "model_module": "bqplot",
      "model_module_version": "^0.4.1",
      "model_name": "FigureModel",
      "state": {
       "_dom_classes": [],
       "_model_module_version": "^0.4.1",
       "_view_module_version": "^0.4.1",
       "axes": [
        "IPY_MODEL_889901288e3441fa8315730916939bb5",
        "IPY_MODEL_c4639547b8d3424dab03471178c89dba"
       ],
       "interaction": "IPY_MODEL_2186ea2ec8624a1ba94670d0b0b928ec",
       "layout": "IPY_MODEL_c311584531b944d3afec6b1f33dba679",
       "marks": [
        "IPY_MODEL_d182cc3dc3cd4579a47d80d0ba2fabce"
       ],
       "scale_x": "IPY_MODEL_43f9339ee2b34a9a9d04fd9e5606b341",
       "scale_y": "IPY_MODEL_1842f7246dde4fa996fbd15d1353204c"
      }
     },
     "881151a6adc24943ac8ce73cad40ffc2": {
      "model_module": "@jupyter-widgets/base",
      "model_module_version": "1.1.0",
      "model_name": "LayoutModel",
      "state": {}
     },
     "88951863fa7e42b6978b7a4425a61b12": {
      "model_module": "@jupyter-widgets/controls",
      "model_module_version": "1.4.0",
      "model_name": "DescriptionStyleModel",
      "state": {
       "description_width": ""
      }
     },
     "889901288e3441fa8315730916939bb5": {
      "model_module": "bqplot",
      "model_module_version": "^0.4.1",
      "model_name": "AxisModel",
      "state": {
       "_model_module_version": "^0.4.1",
       "_view_module_version": "^0.4.1",
       "label": "Age",
       "scale": "IPY_MODEL_6ee01b91ce4f419092a26f6486979c81",
       "side": "bottom",
       "tick_values": {
        "type": null,
        "values": null
       }
      }
     },
     "88d9b5488aab449bbded45abea0455b7": {
      "model_module": "bqplot",
      "model_module_version": "^0.4.1",
      "model_name": "LinearScaleModel",
      "state": {
       "_model_module_version": "^0.4.1",
       "_view_module_version": "^0.4.1",
       "allow_padding": false,
       "max": 1,
       "min": 0,
       "stabilized": false
      }
     },
     "8a198a5cad964dfdb6a2d63cb1f59d11": {
      "model_module": "@jupyter-widgets/controls",
      "model_module_version": "1.4.0",
      "model_name": "DescriptionStyleModel",
      "state": {
       "description_width": ""
      }
     },
     "8be0162aa58448109c9ca99374ebff13": {
      "model_module": "bqplot",
      "model_module_version": "^0.4.1",
      "model_name": "AxisModel",
      "state": {
       "_model_module_version": "^0.4.1",
       "_view_module_version": "^0.4.1",
       "label": "Count",
       "orientation": "vertical",
       "scale": "IPY_MODEL_74817d39abeb4b098cc46a98b0536301",
       "side": "left",
       "tick_values": {
        "type": null,
        "values": null
       }
      }
     },
     "8cf16e66dd094da5b1c480677d0dfcf4": {
      "model_module": "bqplot",
      "model_module_version": "^0.4.1",
      "model_name": "AxisModel",
      "state": {
       "_model_module_version": "^0.4.1",
       "_view_module_version": "^0.4.1",
       "label": "Age",
       "scale": "IPY_MODEL_74be5e562e6048728b60ad1c007eaa2e",
       "side": "bottom",
       "tick_values": {
        "type": null,
        "values": null
       }
      }
     },
     "8daa691897014d36831e8c38c9213eb1": {
      "model_module": "bqplot",
      "model_module_version": "^0.4.1",
      "model_name": "LinearScaleModel",
      "state": {
       "_model_module_version": "^0.4.1",
       "_view_module_version": "^0.4.1",
       "stabilized": false
      }
     },
     "8e04f88a28324f9faa27f656ff73d5d1": {
      "model_module": "bqplot",
      "model_module_version": "^0.4.1",
      "model_name": "FigureModel",
      "state": {
       "_dom_classes": [],
       "_model_module_version": "^0.4.1",
       "_view_module_version": "^0.4.1",
       "axes": [
        "IPY_MODEL_e2658d11202b44d6a536cca3df41fcfc",
        "IPY_MODEL_4f1239479d594dfa9f91bff704e479b2"
       ],
       "interaction": "IPY_MODEL_ab7f6400bb5b438d99e8639a1ea32aa3",
       "layout": "IPY_MODEL_9c5bddc52e004da695c0f62a38662ca4",
       "marks": [
        "IPY_MODEL_e6b8074ae0b8468eb5215fda5397e57c"
       ],
       "scale_x": "IPY_MODEL_d81cef01c1af4d37b12adcafb6122229",
       "scale_y": "IPY_MODEL_aae41c90a86d463393b887f026c85f74"
      }
     },
     "8e26e4ecdb9149ffb2e51d93e609241e": {
      "model_module": "bqplot",
      "model_module_version": "^0.4.1",
      "model_name": "ScatterModel",
      "state": {
       "_model_module_version": "^0.4.1",
       "_view_module_version": "^0.4.1",
       "color": {
        "type": null,
        "values": null
       },
       "colors": [
        "steelblue"
       ],
       "display_legend": false,
       "names": {
        "type": null,
        "values": null
       },
       "opacity": {
        "type": null,
        "values": null
       },
       "rotation": {
        "type": null,
        "values": null
       },
       "scales": {
        "x": "IPY_MODEL_b0234a649cec4a009d8a1fe7efa552ec",
        "y": "IPY_MODEL_2a73f2e84d1a4c3099efa23e5bf78324"
       },
       "scales_metadata": {
        "color": {
         "dimension": "color"
        },
        "opacity": {
         "dimension": "opacity"
        },
        "rotation": {
         "dimension": "rotation"
        },
        "size": {
         "dimension": "size"
        },
        "skew": {
         "dimension": "skew"
        },
        "x": {
         "dimension": "x",
         "orientation": "horizontal"
        },
        "y": {
         "dimension": "y",
         "orientation": "vertical"
        }
       },
       "selected": [],
       "size": {
        "type": null,
        "values": null
       },
       "skew": {
        "type": null,
        "values": null
       },
       "x": {
        "type": "float",
        "values": [
         1,
         3,
         5,
         6,
         7,
         8,
         9,
         10,
         11,
         12,
         13,
         14,
         15,
         16,
         17,
         18,
         19,
         20,
         21,
         22,
         23,
         24,
         25,
         26,
         27,
         28,
         29,
         30,
         31,
         32,
         33,
         34,
         35,
         36,
         37,
         38,
         39,
         40,
         41,
         42,
         43,
         44,
         45,
         46,
         47,
         48,
         49,
         50,
         51,
         52,
         53,
         54,
         55,
         56,
         57,
         58,
         59,
         60,
         61,
         62,
         63,
         64,
         65,
         66,
         67,
         68,
         69,
         70,
         71,
         72,
         73,
         74,
         75,
         76,
         77,
         78,
         79,
         80,
         81,
         82,
         83,
         84,
         85,
         86,
         87,
         88,
         89,
         90,
         91,
         92,
         93,
         94,
         95,
         96
        ]
       },
       "y": {
        "type": "float",
        "values": [
         4,
         4,
         1,
         1,
         10,
         32,
         67,
         173,
         456,
         823,
         1371,
         2092,
         2791,
         4946,
         6186,
         9370,
         11655,
         12835,
         12069,
         10563,
         9068,
         8280,
         7306,
         6786,
         6344,
         5995,
         5411,
         5121,
         4759,
         4233,
         4056,
         3873,
         3695,
         3580,
         3311,
         3131,
         2818,
         2687,
         2554,
         2486,
         2244,
         1992,
         2092,
         1835,
         1706,
         1525,
         1368,
         1393,
         1359,
         1189,
         1159,
         1013,
         1004,
         906,
         825,
         725,
         660,
         631,
         585,
         501,
         438,
         392,
         388,
         374,
         288,
         244,
         245,
         218,
         195,
         187,
         202,
         170,
         170,
         165,
         129,
         131,
         124,
         119,
         106,
         94,
         88,
         83,
         57,
         49,
         39,
         28,
         23,
         19,
         10,
         11,
         7,
         4,
         1,
         4
        ]
       }
      }
     },
     "8e5879268a3c448f8a10efca9123066b": {
      "model_module": "bqplot",
      "model_module_version": "^0.4.1",
      "model_name": "LinearScaleModel",
      "state": {
       "_model_module_version": "^0.4.1",
       "_view_module_version": "^0.4.1",
       "allow_padding": false,
       "max": 1,
       "min": 0,
       "stabilized": false
      }
     },
     "9113bc6541a2420f88f67debd87699e3": {
      "model_module": "bqplot",
      "model_module_version": "^0.4.1",
      "model_name": "LinearScaleModel",
      "state": {
       "_model_module_version": "^0.4.1",
       "_view_module_version": "^0.4.1",
       "stabilized": false
      }
     },
     "9185fb36789e4a4ab0d0e4e17ed8d91d": {
      "model_module": "@jupyter-widgets/controls",
      "model_module_version": "1.4.0",
      "model_name": "LabelModel",
      "state": {
       "layout": "IPY_MODEL_ba3ea7ece3ca4f13bc809e018f6da9d4",
       "style": "IPY_MODEL_6ff5e615012541be8eed5e361103da3b",
       "value": "Total counts for range of Age: "
      }
     },
     "92ecc92137d24899b7e690c3b33d149a": {
      "model_module": "bqplot",
      "model_module_version": "^0.4.1",
      "model_name": "LinearScaleModel",
      "state": {
       "_model_module_version": "^0.4.1",
       "_view_module_version": "^0.4.1",
       "allow_padding": false,
       "max": 1,
       "min": 0,
       "stabilized": false
      }
     },
     "934487dd948846138907a14d06cc3f65": {
      "model_module": "bqplot",
      "model_module_version": "^0.4.1",
      "model_name": "LinearScaleModel",
      "state": {
       "_model_module_version": "^0.4.1",
       "_view_module_version": "^0.4.1",
       "stabilized": false
      }
     },
     "93b938e4b1d84baeb3ff69365d84c02f": {
      "model_module": "@jupyter-widgets/controls",
      "model_module_version": "1.4.0",
      "model_name": "LabelModel",
      "state": {
       "layout": "IPY_MODEL_c403f46ce83d42f293c762d435bec43b",
       "style": "IPY_MODEL_50addd55d53b4eb7a5fd0f478a2675f1",
       "value": "Total Counts: 2678"
      }
     },
     "9468ccab57a34289b3c5d8dd7e0a7568": {
      "model_module": "bqplot",
      "model_module_version": "^0.4.1",
      "model_name": "LinearScaleModel",
      "state": {
       "_model_module_version": "^0.4.1",
       "_view_module_version": "^0.4.1",
       "stabilized": false
      }
     },
     "94fe766393754fb0828498e52bd1883b": {
      "model_module": "@jupyter-widgets/controls",
      "model_module_version": "1.4.0",
      "model_name": "LabelModel",
      "state": {
       "layout": "IPY_MODEL_ebbc9c44a17947c4b808448d90e44de6",
       "style": "IPY_MODEL_65e2a72c1e374413a359bb941f14d07b",
       "value": "Total counts for range of Age: "
      }
     },
     "96d61c3af51b46f79e6ce578bcc55526": {
      "model_module": "bqplot",
      "model_module_version": "^0.4.1",
      "model_name": "LinearScaleModel",
      "state": {
       "_model_module_version": "^0.4.1",
       "_view_module_version": "^0.4.1",
       "stabilized": false
      }
     },
     "96e34debe7f24c2f8fc949ba28bb09eb": {
      "model_module": "@jupyter-widgets/controls",
      "model_module_version": "1.4.0",
      "model_name": "LabelModel",
      "state": {
       "layout": "IPY_MODEL_e2866b95612e42a0b043cc68573fcf99",
       "style": "IPY_MODEL_0e8617a9d9534f6cbc41f28a62b6c9c2",
       "value": "Total square footage: "
      }
     },
     "971cbe9453274a8cb36a36bf800f811c": {
      "model_module": "@jupyter-widgets/base",
      "model_module_version": "1.1.0",
      "model_name": "LayoutModel",
      "state": {}
     },
     "9755ee4b42c14937a0f981a931177b58": {
      "model_module": "@jupyter-widgets/base",
      "model_module_version": "1.1.0",
      "model_name": "LayoutModel",
      "state": {}
     },
     "97b5959e30a042119223585920cac0d3": {
      "model_module": "bqplot",
      "model_module_version": "^0.4.1",
      "model_name": "LinearScaleModel",
      "state": {
       "_model_module_version": "^0.4.1",
       "_view_module_version": "^0.4.1",
       "allow_padding": false,
       "max": 1,
       "min": 0,
       "stabilized": false
      }
     },
     "988e290edb36477c861debbc7a6b05c8": {
      "model_module": "bqplot",
      "model_module_version": "^0.4.1",
      "model_name": "LinearScaleModel",
      "state": {
       "_model_module_version": "^0.4.1",
       "_view_module_version": "^0.4.1",
       "stabilized": false
      }
     },
     "98b95a2f201744dcab9a5b6ee1503e0f": {
      "model_module": "@jupyter-widgets/controls",
      "model_module_version": "1.4.0",
      "model_name": "DescriptionStyleModel",
      "state": {
       "description_width": ""
      }
     },
     "98f2f426bc984ecca61dc62f74f5846e": {
      "model_module": "bqplot",
      "model_module_version": "^0.4.1",
      "model_name": "LinearScaleModel",
      "state": {
       "_model_module_version": "^0.4.1",
       "_view_module_version": "^0.4.1",
       "stabilized": false
      }
     },
     "99e9dd878e7e4d699d345ff945aa159f": {
      "model_module": "bqplot",
      "model_module_version": "^0.4.1",
      "model_name": "AxisModel",
      "state": {
       "_model_module_version": "^0.4.1",
       "_view_module_version": "^0.4.1",
       "label": "Count",
       "orientation": "vertical",
       "scale": "IPY_MODEL_0571ac743dd9433082675734767c9ea2",
       "side": "left",
       "tick_values": {
        "type": null,
        "values": null
       }
      }
     },
     "9babf802c5df4215a3dcf2a48664f3ab": {
      "model_module": "@jupyter-widgets/controls",
      "model_module_version": "1.4.0",
      "model_name": "DescriptionStyleModel",
      "state": {
       "description_width": ""
      }
     },
     "9c5bddc52e004da695c0f62a38662ca4": {
      "model_module": "@jupyter-widgets/base",
      "model_module_version": "1.1.0",
      "model_name": "LayoutModel",
      "state": {
       "min_width": "125px"
      }
     },
     "9cc1898809c442b3ace1cf15dc567ae9": {
      "model_module": "bqplot",
      "model_module_version": "^0.4.1",
      "model_name": "LinearScaleModel",
      "state": {
       "_model_module_version": "^0.4.1",
       "_view_module_version": "^0.4.1",
       "allow_padding": false,
       "max": 1,
       "min": 0,
       "stabilized": false
      }
     },
     "9de853c0566547328c5a898878a4ad25": {
      "model_module": "bqplot",
      "model_module_version": "^0.4.1",
      "model_name": "LinearScaleModel",
      "state": {
       "_model_module_version": "^0.4.1",
       "_view_module_version": "^0.4.1",
       "stabilized": false
      }
     },
     "9e197e58ec4848ca8eb0f37f4f970527": {
      "model_module": "bqplot",
      "model_module_version": "^0.4.1",
      "model_name": "LinearScaleModel",
      "state": {
       "_model_module_version": "^0.4.1",
       "_view_module_version": "^0.4.1",
       "allow_padding": false,
       "max": 1,
       "min": 0,
       "stabilized": false
      }
     },
     "9ee5eb12cdda4111831a2ff2dbc197af": {
      "model_module": "bqplot",
      "model_module_version": "^0.4.1",
      "model_name": "LinearScaleModel",
      "state": {
       "_model_module_version": "^0.4.1",
       "_view_module_version": "^0.4.1",
       "allow_padding": false,
       "max": 1,
       "min": 0,
       "stabilized": false
      }
     },
     "9eec5aef475444499d8068b6f2f7fdb4": {
      "model_module": "bqplot",
      "model_module_version": "^0.4.1",
      "model_name": "LinearScaleModel",
      "state": {
       "_model_module_version": "^0.4.1",
       "_view_module_version": "^0.4.1",
       "allow_padding": false,
       "max": 1,
       "min": 0,
       "stabilized": false
      }
     },
     "9f9c955601d1419c89741b1df342ece8": {
      "model_module": "@jupyter-widgets/base",
      "model_module_version": "1.1.0",
      "model_name": "LayoutModel",
      "state": {
       "min_width": "125px"
      }
     },
     "a09eead3a7bd415285b251c419738fde": {
      "model_module": "@jupyter-widgets/base",
      "model_module_version": "1.1.0",
      "model_name": "LayoutModel",
      "state": {}
     },
     "a0c3945bfa7d45578577f3e4b59333d2": {
      "model_module": "@jupyter-widgets/base",
      "model_module_version": "1.1.0",
      "model_name": "LayoutModel",
      "state": {}
     },
     "a12a30b7a9ac404190910b4e6b310ded": {
      "model_module": "bqplot",
      "model_module_version": "^0.4.1",
      "model_name": "FigureModel",
      "state": {
       "_dom_classes": [],
       "_model_module_version": "^0.4.1",
       "_view_module_version": "^0.4.1",
       "axes": [
        "IPY_MODEL_b5eb0b00bafd4b7baf454e1925788468",
        "IPY_MODEL_0e876dd3590047f2a584c929ba916531"
       ],
       "interaction": "IPY_MODEL_b307c3d0682049248a1ac2c6c099b8d7",
       "layout": "IPY_MODEL_4a5a0235bf1d4576a4d52990ad8565dc",
       "marks": [
        "IPY_MODEL_d084bcded09d4916a64f88cac9b9bfd9"
       ],
       "scale_x": "IPY_MODEL_dce1ccee816043b792f6bbbceee10e1c",
       "scale_y": "IPY_MODEL_78971aed0f0e45b5b8e38cfb73f85fc7"
      }
     },
     "a12e6a6983404ee78166b69786e4af3f": {
      "model_module": "@jupyter-widgets/base",
      "model_module_version": "1.1.0",
      "model_name": "LayoutModel",
      "state": {}
     },
     "a16681c0feb242e0945a7471fc98b4ff": {
      "model_module": "@jupyter-widgets/base",
      "model_module_version": "1.1.0",
      "model_name": "LayoutModel",
      "state": {}
     },
     "a19e8b763b4243e089d7c6e85cc011df": {
      "model_module": "bqplot",
      "model_module_version": "^0.4.1",
      "model_name": "FastIntervalSelectorModel",
      "state": {
       "_model_module_version": "^0.4.1",
       "_view_module_version": "^0.4.1",
       "marks": [
        "IPY_MODEL_0cc6729945194f45a46c847d32c122ce"
       ],
       "scale": "IPY_MODEL_d6b3a70c9e4743fb8a4377d6c6385e34",
       "selected": {
        "type": null,
        "values": null
       }
      }
     },
     "a292b3184b34409ba50ee4db540d12aa": {
      "model_module": "bqplot",
      "model_module_version": "^0.4.1",
      "model_name": "LinearScaleModel",
      "state": {
       "_model_module_version": "^0.4.1",
       "_view_module_version": "^0.4.1",
       "stabilized": false
      }
     },
     "a34a4fb6dbed4da6a1c167f5ee7bf628": {
      "model_module": "bqplot",
      "model_module_version": "^0.4.1",
      "model_name": "AxisModel",
      "state": {
       "_model_module_version": "^0.4.1",
       "_view_module_version": "^0.4.1",
       "label": "Age",
       "scale": "IPY_MODEL_ad7303e9d1dd49299860191150335d4e",
       "side": "bottom",
       "tick_values": {
        "type": null,
        "values": null
       }
      }
     },
     "a416b0f985ca4f2fb0ec6b16236816ff": {
      "model_module": "@jupyter-widgets/controls",
      "model_module_version": "1.4.0",
      "model_name": "LabelModel",
      "state": {
       "layout": "IPY_MODEL_39c6fe0ebb354bfdbdaf07a8a56079f2",
       "style": "IPY_MODEL_12d2522380954e94950bfe3e8f54a0d4",
       "value": "Total Counts: 172439"
      }
     },
     "a4ec4e1c98f94673a4d473867125c99b": {
      "model_module": "bqplot",
      "model_module_version": "^0.4.1",
      "model_name": "LinearScaleModel",
      "state": {
       "_model_module_version": "^0.4.1",
       "_view_module_version": "^0.4.1",
       "allow_padding": false,
       "max": 1,
       "min": 0,
       "stabilized": false
      }
     },
     "a5ab353351dd4a09a6d6de1bd4876af5": {
      "model_module": "bqplot",
      "model_module_version": "^0.4.1",
      "model_name": "AxisModel",
      "state": {
       "_model_module_version": "^0.4.1",
       "_view_module_version": "^0.4.1",
       "label": "Age",
       "scale": "IPY_MODEL_3d32b92b3545411285b0215fe64abeb1",
       "side": "bottom",
       "tick_values": {
        "type": null,
        "values": null
       }
      }
     },
     "a7976ee9c1dc4f7a807c83d2b8ab85e7": {
      "model_module": "bqplot",
      "model_module_version": "^0.4.1",
      "model_name": "AxisModel",
      "state": {
       "_model_module_version": "^0.4.1",
       "_view_module_version": "^0.4.1",
       "label": "Count",
       "orientation": "vertical",
       "scale": "IPY_MODEL_2a73f2e84d1a4c3099efa23e5bf78324",
       "side": "left",
       "tick_values": {
        "type": null,
        "values": null
       }
      }
     },
     "a872a5d3c7da4fb9b694fb086d2f8f0f": {
      "model_module": "@jupyter-widgets/base",
      "model_module_version": "1.1.0",
      "model_name": "LayoutModel",
      "state": {}
     },
     "a950d567def34f4f90c6458776d62926": {
      "model_module": "bqplot",
      "model_module_version": "^0.4.1",
      "model_name": "LinearScaleModel",
      "state": {
       "_model_module_version": "^0.4.1",
       "_view_module_version": "^0.4.1",
       "allow_padding": false,
       "max": 1,
       "min": 0,
       "stabilized": false
      }
     },
     "aa5c2e1891eb43928a52b054b2e36042": {
      "model_module": "bqplot",
      "model_module_version": "^0.4.1",
      "model_name": "AxisModel",
      "state": {
       "_model_module_version": "^0.4.1",
       "_view_module_version": "^0.4.1",
       "label": "Count",
       "orientation": "vertical",
       "scale": "IPY_MODEL_5af8abeca53c493f999bded8465bb762",
       "side": "left",
       "tick_values": {
        "type": null,
        "values": null
       }
      }
     },
     "aae41c90a86d463393b887f026c85f74": {
      "model_module": "bqplot",
      "model_module_version": "^0.4.1",
      "model_name": "LinearScaleModel",
      "state": {
       "_model_module_version": "^0.4.1",
       "_view_module_version": "^0.4.1",
       "allow_padding": false,
       "max": 1,
       "min": 0,
       "stabilized": false
      }
     },
     "ab334493e9b44eafb89f4e00b36beb32": {
      "model_module": "bqplot",
      "model_module_version": "^0.4.1",
      "model_name": "ScatterModel",
      "state": {
       "_model_module_version": "^0.4.1",
       "_view_module_version": "^0.4.1",
       "color": {
        "type": null,
        "values": null
       },
       "colors": [
        "steelblue"
       ],
       "display_legend": false,
       "names": {
        "type": null,
        "values": null
       },
       "opacity": {
        "type": null,
        "values": null
       },
       "rotation": {
        "type": null,
        "values": null
       },
       "scales": {
        "x": "IPY_MODEL_d8439f5e8ef74e4e93feda3483b8c455",
        "y": "IPY_MODEL_5ca692e6e492404caa1a651675797d78"
       },
       "scales_metadata": {
        "color": {
         "dimension": "color"
        },
        "opacity": {
         "dimension": "opacity"
        },
        "rotation": {
         "dimension": "rotation"
        },
        "size": {
         "dimension": "size"
        },
        "skew": {
         "dimension": "skew"
        },
        "x": {
         "dimension": "x",
         "orientation": "horizontal"
        },
        "y": {
         "dimension": "y",
         "orientation": "vertical"
        }
       },
       "selected": [
        36,
        37,
        38,
        39,
        40,
        41,
        42,
        43,
        44,
        45,
        46,
        47,
        48,
        49,
        50,
        51,
        52,
        53,
        54,
        55,
        56,
        57,
        58,
        59,
        60,
        61,
        62,
        63,
        64
       ],
       "size": {
        "type": null,
        "values": null
       },
       "skew": {
        "type": null,
        "values": null
       },
       "x": {
        "type": "float",
        "values": [
         1,
         3,
         5,
         6,
         7,
         8,
         9,
         10,
         11,
         12,
         13,
         14,
         15,
         16,
         17,
         18,
         19,
         20,
         21,
         22,
         23,
         24,
         25,
         26,
         27,
         28,
         29,
         30,
         31,
         32,
         33,
         34,
         35,
         36,
         37,
         38,
         39,
         40,
         41,
         42,
         43,
         44,
         45,
         46,
         47,
         48,
         49,
         50,
         51,
         52,
         53,
         54,
         55,
         56,
         57,
         58,
         59,
         60,
         61,
         62,
         63,
         64,
         65,
         66,
         67,
         68,
         69,
         70,
         71,
         72,
         73,
         74,
         75,
         76,
         77,
         78,
         79,
         80,
         81,
         82,
         83,
         84,
         85,
         86,
         87,
         88,
         89,
         90,
         91,
         92,
         93,
         94,
         95,
         96
        ]
       },
       "y": {
        "type": "float",
        "values": [
         4,
         4,
         1,
         1,
         10,
         32,
         67,
         173,
         456,
         823,
         1371,
         2092,
         2791,
         4946,
         6186,
         9370,
         11655,
         12835,
         12069,
         10563,
         9068,
         8280,
         7306,
         6786,
         6344,
         5995,
         5411,
         5121,
         4759,
         4233,
         4056,
         3873,
         3695,
         3580,
         3311,
         3131,
         2818,
         2687,
         2554,
         2486,
         2244,
         1992,
         2092,
         1835,
         1706,
         1525,
         1368,
         1393,
         1359,
         1189,
         1159,
         1013,
         1004,
         906,
         825,
         725,
         660,
         631,
         585,
         501,
         438,
         392,
         388,
         374,
         288,
         244,
         245,
         218,
         195,
         187,
         202,
         170,
         170,
         165,
         129,
         131,
         124,
         119,
         106,
         94,
         88,
         83,
         57,
         49,
         39,
         28,
         23,
         19,
         10,
         11,
         7,
         4,
         1,
         4
        ]
       }
      }
     },
     "ab7f6400bb5b438d99e8639a1ea32aa3": {
      "model_module": "bqplot",
      "model_module_version": "^0.4.1",
      "model_name": "FastIntervalSelectorModel",
      "state": {
       "_model_module_version": "^0.4.1",
       "_view_module_version": "^0.4.1",
       "marks": [
        "IPY_MODEL_e6b8074ae0b8468eb5215fda5397e57c"
       ],
       "scale": "IPY_MODEL_7af212d5ee3d4b0480b9e7a8dc63fe7c",
       "selected": {
        "type": "object",
        "values": [
         10.159466911764705,
         44.061427696078425
        ]
       }
      }
     },
     "ac524969416b4776bbc713aac3d1903a": {
      "model_module": "bqplot",
      "model_module_version": "^0.4.1",
      "model_name": "ScatterModel",
      "state": {
       "_model_module_version": "^0.4.1",
       "_view_module_version": "^0.4.1",
       "color": {
        "type": null,
        "values": null
       },
       "colors": [
        "steelblue"
       ],
       "display_legend": false,
       "names": {
        "type": null,
        "values": null
       },
       "opacity": {
        "type": null,
        "values": null
       },
       "rotation": {
        "type": null,
        "values": null
       },
       "scales": {
        "x": "IPY_MODEL_74be5e562e6048728b60ad1c007eaa2e",
        "y": "IPY_MODEL_34946e28fc2745f097ff0a234f0c21e2"
       },
       "scales_metadata": {
        "color": {
         "dimension": "color"
        },
        "opacity": {
         "dimension": "opacity"
        },
        "rotation": {
         "dimension": "rotation"
        },
        "size": {
         "dimension": "size"
        },
        "skew": {
         "dimension": "skew"
        },
        "x": {
         "dimension": "x",
         "orientation": "horizontal"
        },
        "y": {
         "dimension": "y",
         "orientation": "vertical"
        }
       },
       "selected": [
        0,
        1,
        2,
        3,
        4,
        5,
        6,
        7,
        8,
        9,
        10,
        11,
        12,
        13,
        14,
        15,
        16,
        17,
        18,
        19,
        20,
        21,
        22,
        23,
        24,
        25,
        26,
        27,
        28,
        29,
        30,
        31,
        32,
        33,
        34,
        35,
        36,
        37,
        38,
        39,
        40,
        41,
        42,
        43,
        44,
        45,
        46,
        47,
        48,
        49,
        50,
        51,
        52,
        53,
        54,
        55,
        56,
        57,
        58,
        59,
        60,
        61,
        62,
        63,
        64,
        65,
        66,
        67,
        68,
        69,
        70,
        71,
        72,
        73,
        74,
        75,
        76,
        77,
        78,
        79,
        80,
        81,
        82,
        83,
        84,
        85,
        86,
        87
       ],
       "size": {
        "type": null,
        "values": null
       },
       "skew": {
        "type": null,
        "values": null
       },
       "x": {
        "type": "float",
        "values": [
         1,
         3,
         5,
         6,
         7,
         8,
         9,
         10,
         11,
         12,
         13,
         14,
         15,
         16,
         17,
         18,
         19,
         20,
         21,
         22,
         23,
         24,
         25,
         26,
         27,
         28,
         29,
         30,
         31,
         32,
         33,
         34,
         35,
         36,
         37,
         38,
         39,
         40,
         41,
         42,
         43,
         44,
         45,
         46,
         47,
         48,
         49,
         50,
         51,
         52,
         53,
         54,
         55,
         56,
         57,
         58,
         59,
         60,
         61,
         62,
         63,
         64,
         65,
         66,
         67,
         68,
         69,
         70,
         71,
         72,
         73,
         74,
         75,
         76,
         77,
         78,
         79,
         80,
         81,
         82,
         83,
         84,
         85,
         86,
         87,
         88,
         89,
         90,
         91,
         92,
         93,
         94,
         95,
         96
        ]
       },
       "y": {
        "type": "float",
        "values": [
         4,
         4,
         1,
         1,
         10,
         32,
         67,
         173,
         456,
         823,
         1371,
         2092,
         2791,
         4946,
         6186,
         9370,
         11655,
         12835,
         12069,
         10563,
         9068,
         8280,
         7306,
         6786,
         6344,
         5995,
         5411,
         5121,
         4759,
         4233,
         4056,
         3873,
         3695,
         3580,
         3311,
         3131,
         2818,
         2687,
         2554,
         2486,
         2244,
         1992,
         2092,
         1835,
         1706,
         1525,
         1368,
         1393,
         1359,
         1189,
         1159,
         1013,
         1004,
         906,
         825,
         725,
         660,
         631,
         585,
         501,
         438,
         392,
         388,
         374,
         288,
         244,
         245,
         218,
         195,
         187,
         202,
         170,
         170,
         165,
         129,
         131,
         124,
         119,
         106,
         94,
         88,
         83,
         57,
         49,
         39,
         28,
         23,
         19,
         10,
         11,
         7,
         4,
         1,
         4
        ]
       }
      }
     },
     "ace5b1d3fc2040b0a7051b7b3f61fe24": {
      "model_module": "bqplot",
      "model_module_version": "^0.4.1",
      "model_name": "LinearScaleModel",
      "state": {
       "_model_module_version": "^0.4.1",
       "_view_module_version": "^0.4.1",
       "allow_padding": false,
       "max": 1,
       "min": 0,
       "stabilized": false
      }
     },
     "acf57741f8a8471383f9a322cda4741e": {
      "model_module": "bqplot",
      "model_module_version": "^0.4.1",
      "model_name": "LinearScaleModel",
      "state": {
       "_model_module_version": "^0.4.1",
       "_view_module_version": "^0.4.1",
       "allow_padding": false,
       "max": 1,
       "min": 0,
       "stabilized": false
      }
     },
     "ad6a83c6cf124a33a5879dca131bdbe8": {
      "model_module": "@jupyter-widgets/controls",
      "model_module_version": "1.4.0",
      "model_name": "LabelModel",
      "state": {
       "layout": "IPY_MODEL_971cbe9453274a8cb36a36bf800f811c",
       "style": "IPY_MODEL_022f0e0a025540afb65891448396de2e",
       "value": "Total counts for range of Age: "
      }
     },
     "ad7303e9d1dd49299860191150335d4e": {
      "model_module": "bqplot",
      "model_module_version": "^0.4.1",
      "model_name": "LinearScaleModel",
      "state": {
       "_model_module_version": "^0.4.1",
       "_view_module_version": "^0.4.1",
       "stabilized": false
      }
     },
     "adf582c2ed8245c2b82917501b6a759c": {
      "model_module": "bqplot",
      "model_module_version": "^0.4.1",
      "model_name": "AxisModel",
      "state": {
       "_model_module_version": "^0.4.1",
       "_view_module_version": "^0.4.1",
       "label": "Age",
       "scale": "IPY_MODEL_9113bc6541a2420f88f67debd87699e3",
       "side": "bottom",
       "tick_values": {
        "type": null,
        "values": null
       }
      }
     },
     "b0234a649cec4a009d8a1fe7efa552ec": {
      "model_module": "bqplot",
      "model_module_version": "^0.4.1",
      "model_name": "LinearScaleModel",
      "state": {
       "_model_module_version": "^0.4.1",
       "_view_module_version": "^0.4.1",
       "stabilized": false
      }
     },
     "b0638c9650f741f0813a9ae41ee94ec4": {
      "model_module": "bqplot",
      "model_module_version": "^0.4.1",
      "model_name": "LinearScaleModel",
      "state": {
       "_model_module_version": "^0.4.1",
       "_view_module_version": "^0.4.1",
       "stabilized": false
      }
     },
     "b101688bae8f4aaca03cb1f84611e2ec": {
      "model_module": "@jupyter-widgets/controls",
      "model_module_version": "1.4.0",
      "model_name": "DescriptionStyleModel",
      "state": {
       "description_width": ""
      }
     },
     "b219a2b7e38b4ae49a947899307f8019": {
      "model_module": "bqplot",
      "model_module_version": "^0.4.1",
      "model_name": "AxisModel",
      "state": {
       "_model_module_version": "^0.4.1",
       "_view_module_version": "^0.4.1",
       "label": "Age",
       "scale": "IPY_MODEL_d8439f5e8ef74e4e93feda3483b8c455",
       "side": "bottom",
       "tick_values": {
        "type": null,
        "values": null
       }
      }
     },
     "b269404ea1bb470ba7249d9a5a6c370c": {
      "model_module": "@jupyter-widgets/controls",
      "model_module_version": "1.4.0",
      "model_name": "LabelModel",
      "state": {
       "layout": "IPY_MODEL_81b6f0b9fa184f26b5077d7669271455",
       "style": "IPY_MODEL_7a27320c622b40c2844b743bcee4d0a5",
       "value": "Total counts for range of Age: "
      }
     },
     "b2e764bd47d54080a6ed04c306ba407f": {
      "model_module": "@jupyter-widgets/controls",
      "model_module_version": "1.4.0",
      "model_name": "LabelModel",
      "state": {
       "layout": "IPY_MODEL_34dcbe9dfc2140f99abe84e07cf48a93",
       "style": "IPY_MODEL_2161ff7fb42541c991c0ee9e57f8d7dd",
       "value": "Total Counts: 37137"
      }
     },
     "b307c3d0682049248a1ac2c6c099b8d7": {
      "model_module": "bqplot",
      "model_module_version": "^0.4.1",
      "model_name": "FastIntervalSelectorModel",
      "state": {
       "_model_module_version": "^0.4.1",
       "_view_module_version": "^0.4.1",
       "marks": [
        "IPY_MODEL_d084bcded09d4916a64f88cac9b9bfd9"
       ],
       "scale": "IPY_MODEL_a292b3184b34409ba50ee4db540d12aa",
       "selected": {
        "type": "object",
        "values": [
         10.997702205882351,
         41.36044730392156
        ]
       }
      }
     },
     "b35833a438c9472fb32fd2fbf8eb649a": {
      "model_module": "bqplot",
      "model_module_version": "^0.4.1",
      "model_name": "LinearScaleModel",
      "state": {
       "_model_module_version": "^0.4.1",
       "_view_module_version": "^0.4.1",
       "stabilized": false
      }
     },
     "b37892f2dc3449799e671e6abf44dfff": {
      "model_module": "bqplot",
      "model_module_version": "^0.4.1",
      "model_name": "FastIntervalSelectorModel",
      "state": {
       "_model_module_version": "^0.4.1",
       "_view_module_version": "^0.4.1",
       "marks": [
        "IPY_MODEL_5ad3afda6c6f4faab1d1b2d169464b5c"
       ],
       "scale": "IPY_MODEL_ad7303e9d1dd49299860191150335d4e",
       "selected": {
        "type": "object",
        "values": [
         0.06862745098039214,
         53.90196078431372
        ]
       }
      }
     },
     "b4671ff536d9403d8caf5722685c2864": {
      "model_module": "@jupyter-widgets/output",
      "model_module_version": "1.0.0",
      "model_name": "OutputModel",
      "state": {
       "layout": "IPY_MODEL_e0a84a4586bb4fc5baff44cade17de48",
       "outputs": [
        {
         "data": {
          "image/png": "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\n",
          "text/plain": "<Figure size 432x288 with 1 Axes>"
         },
         "metadata": {
          "needs_background": "light"
         },
         "output_type": "display_data"
        }
       ]
      }
     },
     "b48eb25e30b541f3a422ac40dc1d87dc": {
      "model_module": "bqplot",
      "model_module_version": "^0.4.1",
      "model_name": "LinearScaleModel",
      "state": {
       "_model_module_version": "^0.4.1",
       "_view_module_version": "^0.4.1",
       "stabilized": false
      }
     },
     "b4b6ef1f49e84c4cb5e02f5931bc38de": {
      "model_module": "bqplot",
      "model_module_version": "^0.4.1",
      "model_name": "FastIntervalSelectorModel",
      "state": {
       "_model_module_version": "^0.4.1",
       "_view_module_version": "^0.4.1",
       "marks": [
        "IPY_MODEL_e6b8074ae0b8468eb5215fda5397e57c"
       ],
       "scale": "IPY_MODEL_7af212d5ee3d4b0480b9e7a8dc63fe7c",
       "selected": {
        "type": null,
        "values": null
       }
      }
     },
     "b52510aea7d04d0ba4db3f7aa5dd359c": {
      "model_module": "@jupyter-widgets/base",
      "model_module_version": "1.1.0",
      "model_name": "LayoutModel",
      "state": {
       "min_width": "125px"
      }
     },
     "b5675a83296444e49d0ed613030422c9": {
      "model_module": "bqplot",
      "model_module_version": "^0.4.1",
      "model_name": "ScatterModel",
      "state": {
       "_model_module_version": "^0.4.1",
       "_view_module_version": "^0.4.1",
       "color": {
        "type": null,
        "values": null
       },
       "colors": [
        "steelblue"
       ],
       "display_legend": false,
       "names": {
        "type": null,
        "values": null
       },
       "opacity": {
        "type": null,
        "values": null
       },
       "rotation": {
        "type": null,
        "values": null
       },
       "scales": {
        "x": "IPY_MODEL_f2b7944c54da4d45b3661d4695e02278",
        "y": "IPY_MODEL_9468ccab57a34289b3c5d8dd7e0a7568"
       },
       "scales_metadata": {
        "color": {
         "dimension": "color"
        },
        "opacity": {
         "dimension": "opacity"
        },
        "rotation": {
         "dimension": "rotation"
        },
        "size": {
         "dimension": "size"
        },
        "skew": {
         "dimension": "skew"
        },
        "x": {
         "dimension": "x",
         "orientation": "horizontal"
        },
        "y": {
         "dimension": "y",
         "orientation": "vertical"
        }
       },
       "selected": [
        8,
        9,
        10,
        11,
        12,
        13,
        14,
        15,
        16,
        17,
        18,
        19,
        20,
        21
       ],
       "size": {
        "type": null,
        "values": null
       },
       "skew": {
        "type": null,
        "values": null
       },
       "x": {
        "type": "float",
        "values": [
         1,
         3,
         5,
         6,
         7,
         8,
         9,
         10,
         11,
         12,
         13,
         14,
         15,
         16,
         17,
         18,
         19,
         20,
         21,
         22,
         23,
         24,
         25,
         26,
         27,
         28,
         29,
         30,
         31,
         32,
         33,
         34,
         35,
         36,
         37,
         38,
         39,
         40,
         41,
         42,
         43,
         44,
         45,
         46,
         47,
         48,
         49,
         50,
         51,
         52,
         53,
         54,
         55,
         56,
         57,
         58,
         59,
         60,
         61,
         62,
         63,
         64,
         65,
         66,
         67,
         68,
         69,
         70,
         71,
         72,
         73,
         74,
         75,
         76,
         77,
         78,
         79,
         80,
         81,
         82,
         83,
         84,
         85,
         86,
         87,
         88,
         89,
         90,
         91,
         92,
         93,
         94,
         95,
         96
        ]
       },
       "y": {
        "type": "float",
        "values": [
         4,
         4,
         1,
         1,
         10,
         32,
         67,
         173,
         456,
         823,
         1371,
         2092,
         2791,
         4946,
         6186,
         9370,
         11655,
         12835,
         12069,
         10563,
         9068,
         8280,
         7306,
         6786,
         6344,
         5995,
         5411,
         5121,
         4759,
         4233,
         4056,
         3873,
         3695,
         3580,
         3311,
         3131,
         2818,
         2687,
         2554,
         2486,
         2244,
         1992,
         2092,
         1835,
         1706,
         1525,
         1368,
         1393,
         1359,
         1189,
         1159,
         1013,
         1004,
         906,
         825,
         725,
         660,
         631,
         585,
         501,
         438,
         392,
         388,
         374,
         288,
         244,
         245,
         218,
         195,
         187,
         202,
         170,
         170,
         165,
         129,
         131,
         124,
         119,
         106,
         94,
         88,
         83,
         57,
         49,
         39,
         28,
         23,
         19,
         10,
         11,
         7,
         4,
         1,
         4
        ]
       }
      }
     },
     "b5e99482938e4e37bbade3c614127bf3": {
      "model_module": "bqplot",
      "model_module_version": "^0.4.1",
      "model_name": "LinearScaleModel",
      "state": {
       "_model_module_version": "^0.4.1",
       "_view_module_version": "^0.4.1",
       "allow_padding": false,
       "max": 1,
       "min": 0,
       "stabilized": false
      }
     },
     "b5eb0b00bafd4b7baf454e1925788468": {
      "model_module": "bqplot",
      "model_module_version": "^0.4.1",
      "model_name": "AxisModel",
      "state": {
       "_model_module_version": "^0.4.1",
       "_view_module_version": "^0.4.1",
       "label": "Age",
       "scale": "IPY_MODEL_a292b3184b34409ba50ee4db540d12aa",
       "side": "bottom",
       "tick_values": {
        "type": null,
        "values": null
       }
      }
     },
     "b6f42bc975284037a1b3981180dc0fd6": {
      "model_module": "@jupyter-widgets/base",
      "model_module_version": "1.1.0",
      "model_name": "LayoutModel",
      "state": {}
     },
     "b79516f9e45b4213a8222554d51e85a6": {
      "model_module": "bqplot",
      "model_module_version": "^0.4.1",
      "model_name": "LinearScaleModel",
      "state": {
       "_model_module_version": "^0.4.1",
       "_view_module_version": "^0.4.1",
       "stabilized": false
      }
     },
     "b91792e7579249168f240272e7f0f876": {
      "model_module": "@jupyter-widgets/controls",
      "model_module_version": "1.4.0",
      "model_name": "LabelModel",
      "state": {
       "layout": "IPY_MODEL_f63723158e014dcb8d9fcd4eb3b65c17",
       "style": "IPY_MODEL_e9860001ddeb475db8bfcb8bde42dafe",
       "value": "Total Counts: 3256039"
      }
     },
     "b9246305bcba4d589ee5453f60b471f5": {
      "model_module": "@jupyter-widgets/base",
      "model_module_version": "1.1.0",
      "model_name": "LayoutModel",
      "state": {}
     },
     "ba19bc87d51d44cdae42f76ba7d0dd1c": {
      "model_module": "@jupyter-widgets/controls",
      "model_module_version": "1.4.0",
      "model_name": "LabelModel",
      "state": {
       "layout": "IPY_MODEL_19cee2248cf9409faba3c485a1f0be60",
       "style": "IPY_MODEL_741f7da663bd44d0a034b5b4a279ac8b",
       "value": "Total Shit: 121001"
      }
     },
     "ba3ea7ece3ca4f13bc809e018f6da9d4": {
      "model_module": "@jupyter-widgets/base",
      "model_module_version": "1.1.0",
      "model_name": "LayoutModel",
      "state": {}
     },
     "bb0d562ac71643ae813742692454fa5c": {
      "model_module": "@jupyter-widgets/controls",
      "model_module_version": "1.4.0",
      "model_name": "LabelModel",
      "state": {
       "layout": "IPY_MODEL_429a5ddd0ffe457c9ce182de85b4d1fa",
       "style": "IPY_MODEL_ecf1ab409640418088087e5e78f15f1c",
       "value": "Total counts for range of Age: "
      }
     },
     "bbfc9f8d8b264c8f99f2a1baa6480bbe": {
      "model_module": "bqplot",
      "model_module_version": "^0.4.1",
      "model_name": "FigureModel",
      "state": {
       "_dom_classes": [],
       "_model_module_version": "^0.4.1",
       "_view_module_version": "^0.4.1",
       "axes": [
        "IPY_MODEL_be9477acd56b48bf8088ac18d99ae008",
        "IPY_MODEL_e1e675d2b0084c8ebb24496a289030a0"
       ],
       "interaction": "IPY_MODEL_44edb504e2224bd78752339ee50bcb11",
       "layout": "IPY_MODEL_d280aee323084785b1620605771bbf29",
       "marks": [
        "IPY_MODEL_b5675a83296444e49d0ed613030422c9"
       ],
       "scale_x": "IPY_MODEL_e41052e88de14b279e0334065e05c77a",
       "scale_y": "IPY_MODEL_9ee5eb12cdda4111831a2ff2dbc197af"
      }
     },
     "be9477acd56b48bf8088ac18d99ae008": {
      "model_module": "bqplot",
      "model_module_version": "^0.4.1",
      "model_name": "AxisModel",
      "state": {
       "_model_module_version": "^0.4.1",
       "_view_module_version": "^0.4.1",
       "label": "Age",
       "scale": "IPY_MODEL_f2b7944c54da4d45b3661d4695e02278",
       "side": "bottom",
       "tick_values": {
        "type": null,
        "values": null
       }
      }
     },
     "c000a6276e1143afbbc413c9b865f608": {
      "model_module": "bqplot",
      "model_module_version": "^0.4.1",
      "model_name": "AxisModel",
      "state": {
       "_model_module_version": "^0.4.1",
       "_view_module_version": "^0.4.1",
       "label": "Year Constructed",
       "scale": "IPY_MODEL_8daa691897014d36831e8c38c9213eb1",
       "side": "bottom",
       "tick_values": {
        "type": null,
        "values": null
       }
      }
     },
     "c0c55d3cc5194dcaa4d4189c9a189d31": {
      "model_module": "@jupyter-widgets/base",
      "model_module_version": "1.1.0",
      "model_name": "LayoutModel",
      "state": {}
     },
     "c1b54367275643afadf108ff4d8421d0": {
      "model_module": "@jupyter-widgets/controls",
      "model_module_version": "1.4.0",
      "model_name": "DescriptionStyleModel",
      "state": {
       "description_width": ""
      }
     },
     "c1c5ab7776f44297bc6f8b0b82b32b84": {
      "model_module": "bqplot",
      "model_module_version": "^0.4.1",
      "model_name": "LinearScaleModel",
      "state": {
       "_model_module_version": "^0.4.1",
       "_view_module_version": "^0.4.1",
       "allow_padding": false,
       "max": 1,
       "min": 0,
       "stabilized": false
      }
     },
     "c311584531b944d3afec6b1f33dba679": {
      "model_module": "@jupyter-widgets/base",
      "model_module_version": "1.1.0",
      "model_name": "LayoutModel",
      "state": {
       "min_width": "125px"
      }
     },
     "c403f46ce83d42f293c762d435bec43b": {
      "model_module": "@jupyter-widgets/base",
      "model_module_version": "1.1.0",
      "model_name": "LayoutModel",
      "state": {}
     },
     "c4639547b8d3424dab03471178c89dba": {
      "model_module": "bqplot",
      "model_module_version": "^0.4.1",
      "model_name": "AxisModel",
      "state": {
       "_model_module_version": "^0.4.1",
       "_view_module_version": "^0.4.1",
       "label": "Count",
       "orientation": "vertical",
       "scale": "IPY_MODEL_3002fb742ba34b278d17ba89dfbdc214",
       "side": "left",
       "tick_values": {
        "type": null,
        "values": null
       }
      }
     },
     "c7e81c5a81404371b3658e830fc7d1f2": {
      "model_module": "bqplot",
      "model_module_version": "^0.4.1",
      "model_name": "FastIntervalSelectorModel",
      "state": {
       "_model_module_version": "^0.4.1",
       "_view_module_version": "^0.4.1",
       "marks": [
        "IPY_MODEL_5ceb1e55577a40ff9b42eb8e0d795147"
       ],
       "scale": "IPY_MODEL_d57a1bc7b6ff485bb120a393bda42293",
       "selected": {
        "type": null,
        "values": {}
       }
      }
     },
     "c7f663b5c3454fad95845aa450ec66bb": {
      "model_module": "bqplot",
      "model_module_version": "^0.4.1",
      "model_name": "AxisModel",
      "state": {
       "_model_module_version": "^0.4.1",
       "_view_module_version": "^0.4.1",
       "label": "Count",
       "orientation": "vertical",
       "scale": "IPY_MODEL_34946e28fc2745f097ff0a234f0c21e2",
       "side": "left",
       "tick_values": {
        "type": null,
        "values": null
       }
      }
     },
     "c894d7bdde2145e1aa55123b7dac8a23": {
      "model_module": "bqplot",
      "model_module_version": "^0.4.1",
      "model_name": "FigureModel",
      "state": {
       "_dom_classes": [],
       "_model_module_version": "^0.4.1",
       "_view_module_version": "^0.4.1",
       "axes": [
        "IPY_MODEL_801175340dbb4481a44cfd26dfc6196c",
        "IPY_MODEL_cab9312515b847ce8a7df440e48b9fd1"
       ],
       "interaction": "IPY_MODEL_e8e18b46ac6a462e8014fd51c5eec503",
       "layout": "IPY_MODEL_5d48015d35824316bfaa9093441091dc",
       "marks": [
        "IPY_MODEL_86a839152c3549f581a1b19fed9050eb"
       ],
       "scale_x": "IPY_MODEL_ea73158687e44beba59d4ec9c44b2aa1",
       "scale_y": "IPY_MODEL_0248cf8ea0ca4899b261ff69db767641"
      }
     },
     "c92472428dc944d4bd5a32c9257dadff": {
      "model_module": "bqplot",
      "model_module_version": "^0.4.1",
      "model_name": "FastIntervalSelectorModel",
      "state": {
       "_model_module_version": "^0.4.1",
       "_view_module_version": "^0.4.1",
       "marks": [
        "IPY_MODEL_1f90c256d467402389562183fdccbca9"
       ],
       "scale": "IPY_MODEL_3d32b92b3545411285b0215fe64abeb1",
       "selected": {
        "type": null,
        "values": {}
       }
      }
     },
     "c9aeb4ed6da94ffb88a4e388e4564e97": {
      "model_module": "@jupyter-widgets/base",
      "model_module_version": "1.1.0",
      "model_name": "LayoutModel",
      "state": {}
     },
     "ca8b287c409b461fb6765e7e0aa235a1": {
      "model_module": "@jupyter-widgets/controls",
      "model_module_version": "1.4.0",
      "model_name": "DescriptionStyleModel",
      "state": {
       "description_width": ""
      }
     },
     "cab9312515b847ce8a7df440e48b9fd1": {
      "model_module": "bqplot",
      "model_module_version": "^0.4.1",
      "model_name": "AxisModel",
      "state": {
       "_model_module_version": "^0.4.1",
       "_view_module_version": "^0.4.1",
       "label": "Count",
       "orientation": "vertical",
       "scale": "IPY_MODEL_e8238731c3f64c929c9b188bbea08d63",
       "side": "left",
       "tick_values": {
        "type": null,
        "values": null
       }
      }
     },
     "cafa67e8f29f4d62b8e699519e159bda": {
      "model_module": "@jupyter-widgets/controls",
      "model_module_version": "1.4.0",
      "model_name": "DescriptionStyleModel",
      "state": {
       "description_width": ""
      }
     },
     "cafcfc41663f4973bdaff938c51eaf57": {
      "model_module": "bqplot",
      "model_module_version": "^0.4.1",
      "model_name": "ScatterModel",
      "state": {
       "_model_module_version": "^0.4.1",
       "_view_module_version": "^0.4.1",
       "color": {
        "type": null,
        "values": null
       },
       "colors": [
        "steelblue"
       ],
       "display_legend": false,
       "names": {
        "type": null,
        "values": null
       },
       "opacity": {
        "type": null,
        "values": null
       },
       "rotation": {
        "type": null,
        "values": null
       },
       "scales": {
        "x": "IPY_MODEL_9113bc6541a2420f88f67debd87699e3",
        "y": "IPY_MODEL_6df1a794585b4f4f9725dec133048c82"
       },
       "scales_metadata": {
        "color": {
         "dimension": "color"
        },
        "opacity": {
         "dimension": "opacity"
        },
        "rotation": {
         "dimension": "rotation"
        },
        "size": {
         "dimension": "size"
        },
        "skew": {
         "dimension": "skew"
        },
        "x": {
         "dimension": "x",
         "orientation": "horizontal"
        },
        "y": {
         "dimension": "y",
         "orientation": "vertical"
        }
       },
       "selected": [
        14,
        15
       ],
       "size": {
        "type": null,
        "values": null
       },
       "skew": {
        "type": null,
        "values": null
       },
       "x": {
        "type": "float",
        "values": [
         1,
         3,
         5,
         6,
         7,
         8,
         9,
         10,
         11,
         12,
         13,
         14,
         15,
         16,
         17,
         18,
         19,
         20,
         21,
         22,
         23,
         24,
         25,
         26,
         27,
         28,
         29,
         30,
         31,
         32,
         33,
         34,
         35,
         36,
         37,
         38,
         39,
         40,
         41,
         42,
         43,
         44,
         45,
         46,
         47,
         48,
         49,
         50,
         51,
         52,
         53,
         54,
         55,
         56,
         57,
         58,
         59,
         60,
         61,
         62,
         63,
         64,
         65,
         66,
         67,
         68,
         69,
         70,
         71,
         72,
         73,
         74,
         75,
         76,
         77,
         78,
         79,
         80,
         81,
         82,
         83,
         84,
         85,
         86,
         87,
         88,
         89,
         90,
         91,
         92,
         93,
         94,
         95,
         96
        ]
       },
       "y": {
        "type": "float",
        "values": [
         4,
         4,
         1,
         1,
         10,
         32,
         67,
         173,
         456,
         823,
         1371,
         2092,
         2791,
         4946,
         6186,
         9370,
         11655,
         12835,
         12069,
         10563,
         9068,
         8280,
         7306,
         6786,
         6344,
         5995,
         5411,
         5121,
         4759,
         4233,
         4056,
         3873,
         3695,
         3580,
         3311,
         3131,
         2818,
         2687,
         2554,
         2486,
         2244,
         1992,
         2092,
         1835,
         1706,
         1525,
         1368,
         1393,
         1359,
         1189,
         1159,
         1013,
         1004,
         906,
         825,
         725,
         660,
         631,
         585,
         501,
         438,
         392,
         388,
         374,
         288,
         244,
         245,
         218,
         195,
         187,
         202,
         170,
         170,
         165,
         129,
         131,
         124,
         119,
         106,
         94,
         88,
         83,
         57,
         49,
         39,
         28,
         23,
         19,
         10,
         11,
         7,
         4,
         1,
         4
        ]
       }
      }
     },
     "cb2f2a01d4bd45099828d99f29024936": {
      "model_module": "@jupyter-widgets/controls",
      "model_module_version": "1.4.0",
      "model_name": "LabelModel",
      "state": {
       "layout": "IPY_MODEL_7a3537bf4644417391a47c412e6c48e3",
       "style": "IPY_MODEL_00d0800ee4eb4c2ca47d9905cf0adca1",
       "value": "Total square footage: "
      }
     },
     "cbd4697a9c65447898f4cc6061168aad": {
      "model_module": "bqplot",
      "model_module_version": "^0.4.1",
      "model_name": "LinearScaleModel",
      "state": {
       "_model_module_version": "^0.4.1",
       "_view_module_version": "^0.4.1",
       "stabilized": false
      }
     },
     "cdd8f1cf767447c4a01a97a87d24d3c0": {
      "model_module": "@jupyter-widgets/base",
      "model_module_version": "1.1.0",
      "model_name": "LayoutModel",
      "state": {
       "min_width": "125px"
      }
     },
     "cf33934be41c49c9b3f31e046e022fa5": {
      "model_module": "bqplot",
      "model_module_version": "^0.4.1",
      "model_name": "LinearScaleModel",
      "state": {
       "_model_module_version": "^0.4.1",
       "_view_module_version": "^0.4.1",
       "allow_padding": false,
       "max": 1,
       "min": 0,
       "stabilized": false
      }
     },
     "d084bcded09d4916a64f88cac9b9bfd9": {
      "model_module": "bqplot",
      "model_module_version": "^0.4.1",
      "model_name": "ScatterModel",
      "state": {
       "_model_module_version": "^0.4.1",
       "_view_module_version": "^0.4.1",
       "color": {
        "type": null,
        "values": null
       },
       "colors": [
        "steelblue"
       ],
       "display_legend": false,
       "names": {
        "type": null,
        "values": null
       },
       "opacity": {
        "type": null,
        "values": null
       },
       "rotation": {
        "type": null,
        "values": null
       },
       "scales": {
        "x": "IPY_MODEL_a292b3184b34409ba50ee4db540d12aa",
        "y": "IPY_MODEL_988e290edb36477c861debbc7a6b05c8"
       },
       "scales_metadata": {
        "color": {
         "dimension": "color"
        },
        "opacity": {
         "dimension": "opacity"
        },
        "rotation": {
         "dimension": "rotation"
        },
        "size": {
         "dimension": "size"
        },
        "skew": {
         "dimension": "skew"
        },
        "x": {
         "dimension": "x",
         "orientation": "horizontal"
        },
        "y": {
         "dimension": "y",
         "orientation": "vertical"
        }
       },
       "selected": [
        8,
        9,
        10,
        11,
        12,
        13,
        14,
        15,
        16,
        17,
        18,
        19,
        20,
        21,
        22,
        23,
        24,
        25,
        26,
        27,
        28,
        29,
        30,
        31,
        32,
        33,
        34,
        35,
        36,
        37,
        38
       ],
       "size": {
        "type": null,
        "values": null
       },
       "skew": {
        "type": null,
        "values": null
       },
       "x": {
        "type": "float",
        "values": [
         1,
         3,
         5,
         6,
         7,
         8,
         9,
         10,
         11,
         12,
         13,
         14,
         15,
         16,
         17,
         18,
         19,
         20,
         21,
         22,
         23,
         24,
         25,
         26,
         27,
         28,
         29,
         30,
         31,
         32,
         33,
         34,
         35,
         36,
         37,
         38,
         39,
         40,
         41,
         42,
         43,
         44,
         45,
         46,
         47,
         48,
         49,
         50,
         51,
         52,
         53,
         54,
         55,
         56,
         57,
         58,
         59,
         60,
         61,
         62,
         63,
         64,
         65,
         66,
         67,
         68,
         69,
         70,
         71,
         72,
         73,
         74,
         75,
         76,
         77,
         78,
         79,
         80,
         81,
         82,
         83,
         84,
         85,
         86,
         87,
         88,
         89,
         90,
         91,
         92,
         93,
         94,
         95,
         96
        ]
       },
       "y": {
        "type": "float",
        "values": [
         4,
         4,
         1,
         1,
         10,
         32,
         67,
         173,
         456,
         823,
         1371,
         2092,
         2791,
         4946,
         6186,
         9370,
         11655,
         12835,
         12069,
         10563,
         9068,
         8280,
         7306,
         6786,
         6344,
         5995,
         5411,
         5121,
         4759,
         4233,
         4056,
         3873,
         3695,
         3580,
         3311,
         3131,
         2818,
         2687,
         2554,
         2486,
         2244,
         1992,
         2092,
         1835,
         1706,
         1525,
         1368,
         1393,
         1359,
         1189,
         1159,
         1013,
         1004,
         906,
         825,
         725,
         660,
         631,
         585,
         501,
         438,
         392,
         388,
         374,
         288,
         244,
         245,
         218,
         195,
         187,
         202,
         170,
         170,
         165,
         129,
         131,
         124,
         119,
         106,
         94,
         88,
         83,
         57,
         49,
         39,
         28,
         23,
         19,
         10,
         11,
         7,
         4,
         1,
         4
        ]
       }
      }
     },
     "d1796c1353694715bfb40de30f4dd4d7": {
      "model_module": "@jupyter-widgets/controls",
      "model_module_version": "1.4.0",
      "model_name": "LabelModel",
      "state": {
       "layout": "IPY_MODEL_c9aeb4ed6da94ffb88a4e388e4564e97",
       "style": "IPY_MODEL_05977443e9964838901216c00150bd03",
       "value": "Total square footage: "
      }
     },
     "d182cc3dc3cd4579a47d80d0ba2fabce": {
      "model_module": "bqplot",
      "model_module_version": "^0.4.1",
      "model_name": "ScatterModel",
      "state": {
       "_model_module_version": "^0.4.1",
       "_view_module_version": "^0.4.1",
       "color": {
        "type": null,
        "values": null
       },
       "colors": [
        "steelblue"
       ],
       "display_legend": false,
       "names": {
        "type": null,
        "values": null
       },
       "opacity": {
        "type": null,
        "values": null
       },
       "rotation": {
        "type": null,
        "values": null
       },
       "scales": {
        "x": "IPY_MODEL_6ee01b91ce4f419092a26f6486979c81",
        "y": "IPY_MODEL_3002fb742ba34b278d17ba89dfbdc214"
       },
       "scales_metadata": {
        "color": {
         "dimension": "color"
        },
        "opacity": {
         "dimension": "opacity"
        },
        "rotation": {
         "dimension": "rotation"
        },
        "size": {
         "dimension": "size"
        },
        "skew": {
         "dimension": "skew"
        },
        "x": {
         "dimension": "x",
         "orientation": "horizontal"
        },
        "y": {
         "dimension": "y",
         "orientation": "vertical"
        }
       },
       "selected": [
        0,
        1,
        2,
        3,
        4,
        5,
        6,
        7,
        8,
        9,
        10,
        11,
        12,
        13,
        14,
        15,
        16,
        17,
        18,
        19,
        20,
        21,
        22,
        23,
        24,
        25,
        26,
        27,
        28,
        29,
        30,
        31,
        32,
        33,
        34,
        35,
        36,
        37,
        38,
        39,
        40,
        41,
        42,
        43,
        44,
        45,
        46,
        47,
        48,
        49,
        50,
        51,
        52,
        53,
        54,
        55,
        56,
        57,
        58,
        59,
        60,
        61,
        62
       ],
       "size": {
        "type": null,
        "values": null
       },
       "skew": {
        "type": null,
        "values": null
       },
       "x": {
        "type": "float",
        "values": [
         1,
         3,
         5,
         6,
         7,
         8,
         9,
         10,
         11,
         12,
         13,
         14,
         15,
         16,
         17,
         18,
         19,
         20,
         21,
         22,
         23,
         24,
         25,
         26,
         27,
         28,
         29,
         30,
         31,
         32,
         33,
         34,
         35,
         36,
         37,
         38,
         39,
         40,
         41,
         42,
         43,
         44,
         45,
         46,
         47,
         48,
         49,
         50,
         51,
         52,
         53,
         54,
         55,
         56,
         57,
         58,
         59,
         60,
         61,
         62,
         63,
         64,
         65,
         66,
         67,
         68,
         69,
         70,
         71,
         72,
         73,
         74,
         75,
         76,
         77,
         78,
         79,
         80,
         81,
         82,
         83,
         84,
         85,
         86,
         87,
         88,
         89,
         90,
         91,
         92,
         93,
         94,
         95,
         96
        ]
       },
       "y": {
        "type": "float",
        "values": [
         4,
         4,
         1,
         1,
         10,
         32,
         67,
         173,
         456,
         823,
         1371,
         2092,
         2791,
         4946,
         6186,
         9370,
         11655,
         12835,
         12069,
         10563,
         9068,
         8280,
         7306,
         6786,
         6344,
         5995,
         5411,
         5121,
         4759,
         4233,
         4056,
         3873,
         3695,
         3580,
         3311,
         3131,
         2818,
         2687,
         2554,
         2486,
         2244,
         1992,
         2092,
         1835,
         1706,
         1525,
         1368,
         1393,
         1359,
         1189,
         1159,
         1013,
         1004,
         906,
         825,
         725,
         660,
         631,
         585,
         501,
         438,
         392,
         388,
         374,
         288,
         244,
         245,
         218,
         195,
         187,
         202,
         170,
         170,
         165,
         129,
         131,
         124,
         119,
         106,
         94,
         88,
         83,
         57,
         49,
         39,
         28,
         23,
         19,
         10,
         11,
         7,
         4,
         1,
         4
        ]
       }
      }
     },
     "d280aee323084785b1620605771bbf29": {
      "model_module": "@jupyter-widgets/base",
      "model_module_version": "1.1.0",
      "model_name": "LayoutModel",
      "state": {
       "min_width": "125px"
      }
     },
     "d417b46d29f04cf7856343fe436ffdd9": {
      "model_module": "bqplot",
      "model_module_version": "^0.4.1",
      "model_name": "FastIntervalSelectorModel",
      "state": {
       "_model_module_version": "^0.4.1",
       "_view_module_version": "^0.4.1",
       "marks": [
        "IPY_MODEL_1f90c256d467402389562183fdccbca9"
       ],
       "scale": "IPY_MODEL_3d32b92b3545411285b0215fe64abeb1",
       "selected": {
        "type": "object",
        "values": [
         0.06862745098039214,
         30.431372549019606
        ]
       }
      }
     },
     "d45252fe75314e4197f8f1aedc8bc2b0": {
      "model_module": "@jupyter-widgets/base",
      "model_module_version": "1.1.0",
      "model_name": "LayoutModel",
      "state": {
       "min_width": "125px"
      }
     },
     "d48d4ecb30744838a084bae26410af9e": {
      "model_module": "@jupyter-widgets/base",
      "model_module_version": "1.1.0",
      "model_name": "LayoutModel",
      "state": {}
     },
     "d57a1bc7b6ff485bb120a393bda42293": {
      "model_module": "bqplot",
      "model_module_version": "^0.4.1",
      "model_name": "LinearScaleModel",
      "state": {
       "_model_module_version": "^0.4.1",
       "_view_module_version": "^0.4.1",
       "stabilized": false
      }
     },
     "d6b3a70c9e4743fb8a4377d6c6385e34": {
      "model_module": "bqplot",
      "model_module_version": "^0.4.1",
      "model_name": "LinearScaleModel",
      "state": {
       "_model_module_version": "^0.4.1",
       "_view_module_version": "^0.4.1",
       "stabilized": false
      }
     },
     "d7c70db42055442a8a8a862d886b041b": {
      "model_module": "bqplot",
      "model_module_version": "^0.4.1",
      "model_name": "FastIntervalSelectorModel",
      "state": {
       "_model_module_version": "^0.4.1",
       "_view_module_version": "^0.4.1",
       "marks": [
        "IPY_MODEL_09c3c1a5866b495f937301406bd75c75"
       ],
       "scale": "IPY_MODEL_d9f4b0632efe4826a0f92c753cad0790",
       "selected": {
        "type": null,
        "values": {}
       }
      }
     },
     "d81cef01c1af4d37b12adcafb6122229": {
      "model_module": "bqplot",
      "model_module_version": "^0.4.1",
      "model_name": "LinearScaleModel",
      "state": {
       "_model_module_version": "^0.4.1",
       "_view_module_version": "^0.4.1",
       "allow_padding": false,
       "max": 1,
       "min": 0,
       "stabilized": false
      }
     },
     "d8439f5e8ef74e4e93feda3483b8c455": {
      "model_module": "bqplot",
      "model_module_version": "^0.4.1",
      "model_name": "LinearScaleModel",
      "state": {
       "_model_module_version": "^0.4.1",
       "_view_module_version": "^0.4.1",
       "stabilized": false
      }
     },
     "d8d594923048443d822616a8a12084af": {
      "model_module": "bqplot",
      "model_module_version": "^0.4.1",
      "model_name": "AxisModel",
      "state": {
       "_model_module_version": "^0.4.1",
       "_view_module_version": "^0.4.1",
       "label": "Count",
       "orientation": "vertical",
       "scale": "IPY_MODEL_3b92ee5868cf426aa8614631228be1e8",
       "side": "left",
       "tick_values": {
        "type": null,
        "values": null
       }
      }
     },
     "d9addc5b113c46aaaa65c70aef116932": {
      "model_module": "bqplot",
      "model_module_version": "^0.4.1",
      "model_name": "ScatterModel",
      "state": {
       "_model_module_version": "^0.4.1",
       "_view_module_version": "^0.4.1",
       "color": {
        "type": null,
        "values": null
       },
       "colors": [
        "steelblue"
       ],
       "display_legend": false,
       "names": {
        "type": null,
        "values": null
       },
       "opacity": {
        "type": null,
        "values": null
       },
       "rotation": {
        "type": null,
        "values": null
       },
       "scales": {
        "x": "IPY_MODEL_b0638c9650f741f0813a9ae41ee94ec4",
        "y": "IPY_MODEL_0571ac743dd9433082675734767c9ea2"
       },
       "scales_metadata": {
        "color": {
         "dimension": "color"
        },
        "opacity": {
         "dimension": "opacity"
        },
        "rotation": {
         "dimension": "rotation"
        },
        "size": {
         "dimension": "size"
        },
        "skew": {
         "dimension": "skew"
        },
        "x": {
         "dimension": "x",
         "orientation": "horizontal"
        },
        "y": {
         "dimension": "y",
         "orientation": "vertical"
        }
       },
       "selected": [],
       "size": {
        "type": null,
        "values": null
       },
       "skew": {
        "type": null,
        "values": null
       },
       "x": {
        "type": "float",
        "values": [
         1,
         3,
         5,
         6,
         7,
         8,
         9,
         10,
         11,
         12,
         13,
         14,
         15,
         16,
         17,
         18,
         19,
         20,
         21,
         22,
         23,
         24,
         25,
         26,
         27,
         28,
         29,
         30,
         31,
         32,
         33,
         34,
         35,
         36,
         37,
         38,
         39,
         40,
         41,
         42,
         43,
         44,
         45,
         46,
         47,
         48,
         49,
         50,
         51,
         52,
         53,
         54,
         55,
         56,
         57,
         58,
         59,
         60,
         61,
         62,
         63,
         64,
         65,
         66,
         67,
         68,
         69,
         70,
         71,
         72,
         73,
         74,
         75,
         76,
         77,
         78,
         79,
         80,
         81,
         82,
         83,
         84,
         85,
         86,
         87,
         88,
         89,
         90,
         91,
         92,
         93,
         94,
         95,
         96
        ]
       },
       "y": {
        "type": "float",
        "values": [
         4,
         4,
         1,
         1,
         10,
         32,
         67,
         173,
         456,
         823,
         1371,
         2092,
         2791,
         4946,
         6186,
         9370,
         11655,
         12835,
         12069,
         10563,
         9068,
         8280,
         7306,
         6786,
         6344,
         5995,
         5411,
         5121,
         4759,
         4233,
         4056,
         3873,
         3695,
         3580,
         3311,
         3131,
         2818,
         2687,
         2554,
         2486,
         2244,
         1992,
         2092,
         1835,
         1706,
         1525,
         1368,
         1393,
         1359,
         1189,
         1159,
         1013,
         1004,
         906,
         825,
         725,
         660,
         631,
         585,
         501,
         438,
         392,
         388,
         374,
         288,
         244,
         245,
         218,
         195,
         187,
         202,
         170,
         170,
         165,
         129,
         131,
         124,
         119,
         106,
         94,
         88,
         83,
         57,
         49,
         39,
         28,
         23,
         19,
         10,
         11,
         7,
         4,
         1,
         4
        ]
       }
      }
     },
     "d9d96aef6a6b408ebb199859bd83ab80": {
      "model_module": "bqplot",
      "model_module_version": "^0.4.1",
      "model_name": "AxisModel",
      "state": {
       "_model_module_version": "^0.4.1",
       "_view_module_version": "^0.4.1",
       "label": "Count",
       "orientation": "vertical",
       "scale": "IPY_MODEL_722261696ff941c6a4478ed55fcbe336",
       "side": "left",
       "tick_values": {
        "type": null,
        "values": null
       }
      }
     },
     "d9f4b0632efe4826a0f92c753cad0790": {
      "model_module": "bqplot",
      "model_module_version": "^0.4.1",
      "model_name": "LinearScaleModel",
      "state": {
       "_model_module_version": "^0.4.1",
       "_view_module_version": "^0.4.1",
       "stabilized": false
      }
     },
     "da8f58d79ee04f76aa4d1517e8d83e53": {
      "model_module": "@jupyter-widgets/controls",
      "model_module_version": "1.4.0",
      "model_name": "DescriptionStyleModel",
      "state": {
       "description_width": ""
      }
     },
     "db1e44aaf34c4ea580da73f690821c76": {
      "model_module": "bqplot",
      "model_module_version": "^0.4.1",
      "model_name": "AxisModel",
      "state": {
       "_model_module_version": "^0.4.1",
       "_view_module_version": "^0.4.1",
       "label": "Age",
       "scale": "IPY_MODEL_d57a1bc7b6ff485bb120a393bda42293",
       "side": "bottom",
       "tick_values": {
        "type": null,
        "values": null
       }
      }
     },
     "dbc3014cb1f040c2be7c56e044ea6bf5": {
      "model_module": "bqplot",
      "model_module_version": "^0.4.1",
      "model_name": "LinearScaleModel",
      "state": {
       "_model_module_version": "^0.4.1",
       "_view_module_version": "^0.4.1",
       "stabilized": false
      }
     },
     "dce1ccee816043b792f6bbbceee10e1c": {
      "model_module": "bqplot",
      "model_module_version": "^0.4.1",
      "model_name": "LinearScaleModel",
      "state": {
       "_model_module_version": "^0.4.1",
       "_view_module_version": "^0.4.1",
       "allow_padding": false,
       "max": 1,
       "min": 0,
       "stabilized": false
      }
     },
     "dd5ae14e9968472e88255bebdf43770b": {
      "model_module": "@jupyter-widgets/controls",
      "model_module_version": "1.4.0",
      "model_name": "LabelModel",
      "state": {
       "layout": "IPY_MODEL_74123abe5e214d579ee794526fde0efe",
       "style": "IPY_MODEL_cafa67e8f29f4d62b8e699519e159bda",
       "value": "Total counts for range of Age: "
      }
     },
     "ddcf754cc6514371baa4cf52d5295b1e": {
      "model_module": "@jupyter-widgets/controls",
      "model_module_version": "1.4.0",
      "model_name": "DescriptionStyleModel",
      "state": {
       "description_width": ""
      }
     },
     "ded7656af91a48079d18e4e4c62869b7": {
      "model_module": "@jupyter-widgets/controls",
      "model_module_version": "1.4.0",
      "model_name": "LabelModel",
      "state": {
       "layout": "IPY_MODEL_b6f42bc975284037a1b3981180dc0fd6",
       "style": "IPY_MODEL_5770d8da0e054533ae38018193f9286e",
       "value": "Total Counts: 192553"
      }
     },
     "def1f0cb641942759a997c133c3a4299": {
      "model_module": "bqplot",
      "model_module_version": "^0.4.1",
      "model_name": "FigureModel",
      "state": {
       "_dom_classes": [],
       "_model_module_version": "^0.4.1",
       "_view_module_version": "^0.4.1",
       "axes": [
        "IPY_MODEL_ee9427f160694537925ed1f9eb55e3f0",
        "IPY_MODEL_5d87de069c2142389419c02c89e0c155"
       ],
       "interaction": "IPY_MODEL_57d3b5cbc4214f788b247f0f1eeb2400",
       "layout": "IPY_MODEL_4a8b7ced19d348f6985c73e0d0bf49eb",
       "marks": [
        "IPY_MODEL_40a0ce8d855e43c590641c0ca8a7a9a0"
       ],
       "scale_x": "IPY_MODEL_9cc1898809c442b3ace1cf15dc567ae9",
       "scale_y": "IPY_MODEL_a950d567def34f4f90c6458776d62926"
      }
     },
     "def9cd292c794409b297287562e440cb": {
      "model_module": "bqplot",
      "model_module_version": "^0.4.1",
      "model_name": "FastIntervalSelectorModel",
      "state": {
       "_model_module_version": "^0.4.1",
       "_view_module_version": "^0.4.1",
       "marks": [
        "IPY_MODEL_ac524969416b4776bbc713aac3d1903a"
       ],
       "scale": "IPY_MODEL_74be5e562e6048728b60ad1c007eaa2e",
       "selected": {
        "type": "object",
        "values": [
         0.06862745098039214,
         90.7843137254902
        ]
       }
      }
     },
     "df5412ee016543a3acbb553eb8d2be28": {
      "model_module": "@jupyter-widgets/controls",
      "model_module_version": "1.4.0",
      "model_name": "LabelModel",
      "state": {
       "layout": "IPY_MODEL_9755ee4b42c14937a0f981a931177b58",
       "style": "IPY_MODEL_5ca952fb06fc4e94af0ffe5acda3e4bf",
       "value": "Total Counts: 198233"
      }
     },
     "dfb34198015a42bc957d1993aee48c42": {
      "model_module": "bqplot",
      "model_module_version": "^0.4.1",
      "model_name": "FastIntervalSelectorModel",
      "state": {
       "_model_module_version": "^0.4.1",
       "_view_module_version": "^0.4.1",
       "marks": [
        "IPY_MODEL_eed234acf99648b481b6a50dce79be5b"
       ],
       "scale": "IPY_MODEL_9de853c0566547328c5a898878a4ad25",
       "selected": {
        "type": "object",
        "values": [
         7.644761029411765,
         36.517310049019606
        ]
       }
      }
     },
     "e013fcaf8531447ab3d92120aa716471": {
      "model_module": "@jupyter-widgets/controls",
      "model_module_version": "1.4.0",
      "model_name": "VBoxModel",
      "state": {
       "_dom_classes": [
        "widget-interact"
       ],
       "children": [
        "IPY_MODEL_14d670c5cd5748758d62f6f00bcb368c",
        "IPY_MODEL_3a6f8854040d4c3c904189ab946368a5"
       ],
       "layout": "IPY_MODEL_23f7db584bc64280b043a50f00b94f0b"
      }
     },
     "e028a55c745848bc9f21883faa502da8": {
      "model_module": "@jupyter-widgets/controls",
      "model_module_version": "1.4.0",
      "model_name": "DescriptionStyleModel",
      "state": {
       "description_width": ""
      }
     },
     "e0a84a4586bb4fc5baff44cade17de48": {
      "model_module": "@jupyter-widgets/base",
      "model_module_version": "1.1.0",
      "model_name": "LayoutModel",
      "state": {}
     },
     "e0ae1fe8655a4ffcaf9245e2b9698029": {
      "model_module": "@jupyter-widgets/controls",
      "model_module_version": "1.4.0",
      "model_name": "LabelModel",
      "state": {
       "layout": "IPY_MODEL_729b894d4333456e9d0917712b2483ea",
       "style": "IPY_MODEL_f2bce4bd2b8948b6b5c1e1df2eb70be4",
       "value": "Total counts for range of Age: "
      }
     },
     "e1e675d2b0084c8ebb24496a289030a0": {
      "model_module": "bqplot",
      "model_module_version": "^0.4.1",
      "model_name": "AxisModel",
      "state": {
       "_model_module_version": "^0.4.1",
       "_view_module_version": "^0.4.1",
       "label": "Count",
       "orientation": "vertical",
       "scale": "IPY_MODEL_9468ccab57a34289b3c5d8dd7e0a7568",
       "side": "left",
       "tick_values": {
        "type": null,
        "values": null
       }
      }
     },
     "e2658d11202b44d6a536cca3df41fcfc": {
      "model_module": "bqplot",
      "model_module_version": "^0.4.1",
      "model_name": "AxisModel",
      "state": {
       "_model_module_version": "^0.4.1",
       "_view_module_version": "^0.4.1",
       "label": "Age",
       "scale": "IPY_MODEL_7af212d5ee3d4b0480b9e7a8dc63fe7c",
       "side": "bottom",
       "tick_values": {
        "type": null,
        "values": null
       }
      }
     },
     "e2866b95612e42a0b043cc68573fcf99": {
      "model_module": "@jupyter-widgets/base",
      "model_module_version": "1.1.0",
      "model_name": "LayoutModel",
      "state": {}
     },
     "e2ec43b9c08a49398185fd8bd44e3efc": {
      "model_module": "bqplot",
      "model_module_version": "^0.4.1",
      "model_name": "AxisModel",
      "state": {
       "_model_module_version": "^0.4.1",
       "_view_module_version": "^0.4.1",
       "label": "Age",
       "scale": "IPY_MODEL_b0234a649cec4a009d8a1fe7efa552ec",
       "side": "bottom",
       "tick_values": {
        "type": null,
        "values": null
       }
      }
     },
     "e41052e88de14b279e0334065e05c77a": {
      "model_module": "bqplot",
      "model_module_version": "^0.4.1",
      "model_name": "LinearScaleModel",
      "state": {
       "_model_module_version": "^0.4.1",
       "_view_module_version": "^0.4.1",
       "allow_padding": false,
       "max": 1,
       "min": 0,
       "stabilized": false
      }
     },
     "e438089d5412432cbe2b0e7b0b40640e": {
      "model_module": "@jupyter-widgets/controls",
      "model_module_version": "1.4.0",
      "model_name": "LabelModel",
      "state": {
       "layout": "IPY_MODEL_8019635becba478aa5a4f78d4d3d9eb1",
       "style": "IPY_MODEL_78a44e9f3df04feda061ffa5599f41bf",
       "value": "Total Shit: 123255"
      }
     },
     "e4a28c222a5a460e82f41c965b181fea": {
      "model_module": "bqplot",
      "model_module_version": "^0.4.1",
      "model_name": "LinearScaleModel",
      "state": {
       "_model_module_version": "^0.4.1",
       "_view_module_version": "^0.4.1",
       "stabilized": false
      }
     },
     "e64d46dcfaec45bf80b390b24043f26c": {
      "model_module": "bqplot",
      "model_module_version": "^0.4.1",
      "model_name": "ScatterModel",
      "state": {
       "_model_module_version": "^0.4.1",
       "_view_module_version": "^0.4.1",
       "color": {
        "type": null,
        "values": null
       },
       "colors": [
        "steelblue"
       ],
       "display_legend": false,
       "names": {
        "type": null,
        "values": null
       },
       "opacity": {
        "type": null,
        "values": null
       },
       "rotation": {
        "type": null,
        "values": null
       },
       "scales": {
        "x": "IPY_MODEL_dbc3014cb1f040c2be7c56e044ea6bf5",
        "y": "IPY_MODEL_1fa31a660bb74e65b08508090f8b6469"
       },
       "scales_metadata": {
        "color": {
         "dimension": "color"
        },
        "opacity": {
         "dimension": "opacity"
        },
        "rotation": {
         "dimension": "rotation"
        },
        "size": {
         "dimension": "size"
        },
        "skew": {
         "dimension": "skew"
        },
        "x": {
         "dimension": "x",
         "orientation": "horizontal"
        },
        "y": {
         "dimension": "y",
         "orientation": "vertical"
        }
       },
       "selected": [
        0,
        1,
        2,
        3,
        4,
        5,
        6,
        7,
        8,
        9,
        10,
        11,
        12,
        13,
        14,
        15,
        16,
        17,
        18,
        19,
        20,
        21,
        22,
        23,
        24,
        25,
        26,
        27,
        28,
        29,
        30,
        31,
        32,
        33,
        34,
        35,
        36,
        37,
        38,
        39,
        40,
        41,
        42,
        43,
        44,
        45,
        46,
        47,
        48,
        49,
        50,
        51,
        52,
        53,
        54,
        55,
        56,
        57,
        58,
        59,
        60,
        61,
        62,
        63,
        64,
        65,
        66,
        67,
        68,
        69,
        70,
        71,
        72,
        73,
        74,
        75,
        76,
        77,
        78,
        79,
        80,
        81,
        82,
        83,
        84,
        85,
        86,
        87,
        88,
        89,
        90,
        91,
        92,
        93
       ],
       "size": {
        "type": null,
        "values": null
       },
       "skew": {
        "type": null,
        "values": null
       },
       "x": {
        "type": "float",
        "values": [
         1,
         3,
         5,
         6,
         7,
         8,
         9,
         10,
         11,
         12,
         13,
         14,
         15,
         16,
         17,
         18,
         19,
         20,
         21,
         22,
         23,
         24,
         25,
         26,
         27,
         28,
         29,
         30,
         31,
         32,
         33,
         34,
         35,
         36,
         37,
         38,
         39,
         40,
         41,
         42,
         43,
         44,
         45,
         46,
         47,
         48,
         49,
         50,
         51,
         52,
         53,
         54,
         55,
         56,
         57,
         58,
         59,
         60,
         61,
         62,
         63,
         64,
         65,
         66,
         67,
         68,
         69,
         70,
         71,
         72,
         73,
         74,
         75,
         76,
         77,
         78,
         79,
         80,
         81,
         82,
         83,
         84,
         85,
         86,
         87,
         88,
         89,
         90,
         91,
         92,
         93,
         94,
         95,
         96
        ]
       },
       "y": {
        "type": "float",
        "values": [
         4,
         4,
         1,
         1,
         10,
         32,
         67,
         173,
         456,
         823,
         1371,
         2092,
         2791,
         4946,
         6186,
         9370,
         11655,
         12835,
         12069,
         10563,
         9068,
         8280,
         7306,
         6786,
         6344,
         5995,
         5411,
         5121,
         4759,
         4233,
         4056,
         3873,
         3695,
         3580,
         3311,
         3131,
         2818,
         2687,
         2554,
         2486,
         2244,
         1992,
         2092,
         1835,
         1706,
         1525,
         1368,
         1393,
         1359,
         1189,
         1159,
         1013,
         1004,
         906,
         825,
         725,
         660,
         631,
         585,
         501,
         438,
         392,
         388,
         374,
         288,
         244,
         245,
         218,
         195,
         187,
         202,
         170,
         170,
         165,
         129,
         131,
         124,
         119,
         106,
         94,
         88,
         83,
         57,
         49,
         39,
         28,
         23,
         19,
         10,
         11,
         7,
         4,
         1,
         4
        ]
       }
      }
     },
     "e6b8074ae0b8468eb5215fda5397e57c": {
      "model_module": "bqplot",
      "model_module_version": "^0.4.1",
      "model_name": "ScatterModel",
      "state": {
       "_model_module_version": "^0.4.1",
       "_view_module_version": "^0.4.1",
       "color": {
        "type": null,
        "values": null
       },
       "colors": [
        "steelblue"
       ],
       "display_legend": false,
       "names": {
        "type": null,
        "values": null
       },
       "opacity": {
        "type": null,
        "values": null
       },
       "rotation": {
        "type": null,
        "values": null
       },
       "scales": {
        "x": "IPY_MODEL_7af212d5ee3d4b0480b9e7a8dc63fe7c",
        "y": "IPY_MODEL_cbd4697a9c65447898f4cc6061168aad"
       },
       "scales_metadata": {
        "color": {
         "dimension": "color"
        },
        "opacity": {
         "dimension": "opacity"
        },
        "rotation": {
         "dimension": "rotation"
        },
        "size": {
         "dimension": "size"
        },
        "skew": {
         "dimension": "skew"
        },
        "x": {
         "dimension": "x",
         "orientation": "horizontal"
        },
        "y": {
         "dimension": "y",
         "orientation": "vertical"
        }
       },
       "selected": [
        8,
        9,
        10,
        11,
        12,
        13,
        14,
        15,
        16,
        17,
        18,
        19,
        20,
        21,
        22,
        23,
        24,
        25,
        26,
        27,
        28,
        29,
        30,
        31,
        32,
        33,
        34,
        35,
        36,
        37,
        38,
        39,
        40,
        41
       ],
       "size": {
        "type": null,
        "values": null
       },
       "skew": {
        "type": null,
        "values": null
       },
       "x": {
        "type": "float",
        "values": [
         1,
         3,
         5,
         6,
         7,
         8,
         9,
         10,
         11,
         12,
         13,
         14,
         15,
         16,
         17,
         18,
         19,
         20,
         21,
         22,
         23,
         24,
         25,
         26,
         27,
         28,
         29,
         30,
         31,
         32,
         33,
         34,
         35,
         36,
         37,
         38,
         39,
         40,
         41,
         42,
         43,
         44,
         45,
         46,
         47,
         48,
         49,
         50,
         51,
         52,
         53,
         54,
         55,
         56,
         57,
         58,
         59,
         60,
         61,
         62,
         63,
         64,
         65,
         66,
         67,
         68,
         69,
         70,
         71,
         72,
         73,
         74,
         75,
         76,
         77,
         78,
         79,
         80,
         81,
         82,
         83,
         84,
         85,
         86,
         87,
         88,
         89,
         90,
         91,
         92,
         93,
         94,
         95,
         96
        ]
       },
       "y": {
        "type": "float",
        "values": [
         4,
         4,
         1,
         1,
         10,
         32,
         67,
         173,
         456,
         823,
         1371,
         2092,
         2791,
         4946,
         6186,
         9370,
         11655,
         12835,
         12069,
         10563,
         9068,
         8280,
         7306,
         6786,
         6344,
         5995,
         5411,
         5121,
         4759,
         4233,
         4056,
         3873,
         3695,
         3580,
         3311,
         3131,
         2818,
         2687,
         2554,
         2486,
         2244,
         1992,
         2092,
         1835,
         1706,
         1525,
         1368,
         1393,
         1359,
         1189,
         1159,
         1013,
         1004,
         906,
         825,
         725,
         660,
         631,
         585,
         501,
         438,
         392,
         388,
         374,
         288,
         244,
         245,
         218,
         195,
         187,
         202,
         170,
         170,
         165,
         129,
         131,
         124,
         119,
         106,
         94,
         88,
         83,
         57,
         49,
         39,
         28,
         23,
         19,
         10,
         11,
         7,
         4,
         1,
         4
        ]
       }
      }
     },
     "e8238731c3f64c929c9b188bbea08d63": {
      "model_module": "bqplot",
      "model_module_version": "^0.4.1",
      "model_name": "LinearScaleModel",
      "state": {
       "_model_module_version": "^0.4.1",
       "_view_module_version": "^0.4.1",
       "stabilized": false
      }
     },
     "e8cf8089249a4b11bc50de210425f4d6": {
      "model_module": "@jupyter-widgets/controls",
      "model_module_version": "1.4.0",
      "model_name": "LabelModel",
      "state": {
       "layout": "IPY_MODEL_819363b9c6044990ae14a5f0fe7959e6",
       "style": "IPY_MODEL_3a96565e1080431bacd5fcb88a856cfe",
       "value": "Total Counts: 2662"
      }
     },
     "e8e18b46ac6a462e8014fd51c5eec503": {
      "model_module": "bqplot",
      "model_module_version": "^0.4.1",
      "model_name": "FastIntervalSelectorModel",
      "state": {
       "_model_module_version": "^0.4.1",
       "_view_module_version": "^0.4.1",
       "marks": [
        "IPY_MODEL_86a839152c3549f581a1b19fed9050eb"
       ],
       "scale": "IPY_MODEL_934487dd948846138907a14d06cc3f65",
       "selected": {
        "type": "object",
        "values": [
         0.06862745098039214,
         57.99999999999999
        ]
       }
      }
     },
     "e9860001ddeb475db8bfcb8bde42dafe": {
      "model_module": "@jupyter-widgets/controls",
      "model_module_version": "1.4.0",
      "model_name": "DescriptionStyleModel",
      "state": {
       "description_width": ""
      }
     },
     "e9d9db67b02d43478c1421c4cd9b885a": {
      "model_module": "bqplot",
      "model_module_version": "^0.4.1",
      "model_name": "FastIntervalSelectorModel",
      "state": {
       "_model_module_version": "^0.4.1",
       "_view_module_version": "^0.4.1",
       "marks": [
        "IPY_MODEL_e64d46dcfaec45bf80b390b24043f26c"
       ],
       "scale": "IPY_MODEL_dbc3014cb1f040c2be7c56e044ea6bf5",
       "selected": {
        "type": "object",
        "values": [
         0.06862745098039214,
         97.30392156862744
        ]
       }
      }
     },
     "ea73158687e44beba59d4ec9c44b2aa1": {
      "model_module": "bqplot",
      "model_module_version": "^0.4.1",
      "model_name": "LinearScaleModel",
      "state": {
       "_model_module_version": "^0.4.1",
       "_view_module_version": "^0.4.1",
       "allow_padding": false,
       "max": 1,
       "min": 0,
       "stabilized": false
      }
     },
     "eae009eadf1141ecb1f660bb8c779e15": {
      "model_module": "bqplot",
      "model_module_version": "^0.4.1",
      "model_name": "FigureModel",
      "state": {
       "_dom_classes": [],
       "_model_module_version": "^0.4.1",
       "_view_module_version": "^0.4.1",
       "axes": [
        "IPY_MODEL_3df8993d569748b1915b414fb04638d4",
        "IPY_MODEL_714bb4b00e3d42d18f65ad15b51da5e4"
       ],
       "interaction": "IPY_MODEL_13dbabdc3c814724ba6eede6acae1234",
       "layout": "IPY_MODEL_776dde65b9d94da1b4f37fc5d0a2fdd9",
       "marks": [
        "IPY_MODEL_39432560dc6341f3bbb30c42f2a98030"
       ],
       "scale_x": "IPY_MODEL_150038f831714ed99a73f2c4001708cb",
       "scale_y": "IPY_MODEL_fec7c30e0bac4b6a9634463bb0348916"
      }
     },
     "eae9f294a46b48229cc47800077e04dd": {
      "model_module": "bqplot",
      "model_module_version": "^0.4.1",
      "model_name": "AxisModel",
      "state": {
       "_model_module_version": "^0.4.1",
       "_view_module_version": "^0.4.1",
       "label": "Age",
       "scale": "IPY_MODEL_b0638c9650f741f0813a9ae41ee94ec4",
       "side": "bottom",
       "tick_values": {
        "type": null,
        "values": null
       }
      }
     },
     "ebbc9c44a17947c4b808448d90e44de6": {
      "model_module": "@jupyter-widgets/base",
      "model_module_version": "1.1.0",
      "model_name": "LayoutModel",
      "state": {}
     },
     "ecf1ab409640418088087e5e78f15f1c": {
      "model_module": "@jupyter-widgets/controls",
      "model_module_version": "1.4.0",
      "model_name": "DescriptionStyleModel",
      "state": {
       "description_width": ""
      }
     },
     "ee9427f160694537925ed1f9eb55e3f0": {
      "model_module": "bqplot",
      "model_module_version": "^0.4.1",
      "model_name": "AxisModel",
      "state": {
       "_model_module_version": "^0.4.1",
       "_view_module_version": "^0.4.1",
       "label": "Age",
       "scale": "IPY_MODEL_b35833a438c9472fb32fd2fbf8eb649a",
       "side": "bottom",
       "tick_values": {
        "type": null,
        "values": null
       }
      }
     },
     "eeb3677215364a0cb5ed63c1436d0e00": {
      "model_module": "@jupyter-widgets/controls",
      "model_module_version": "1.4.0",
      "model_name": "LabelModel",
      "state": {
       "layout": "IPY_MODEL_376bc5a17695406cbcdb2e00cd870d3f",
       "style": "IPY_MODEL_4840ad47f4c94c64b763af044934a729",
       "value": "Total Counts: 15556"
      }
     },
     "eec8af9f00ee428f84c45ba74148d20a": {
      "model_module": "@jupyter-widgets/controls",
      "model_module_version": "1.4.0",
      "model_name": "DescriptionStyleModel",
      "state": {
       "description_width": ""
      }
     },
     "eed234acf99648b481b6a50dce79be5b": {
      "model_module": "bqplot",
      "model_module_version": "^0.4.1",
      "model_name": "ScatterModel",
      "state": {
       "_model_module_version": "^0.4.1",
       "_view_module_version": "^0.4.1",
       "color": {
        "type": null,
        "values": null
       },
       "colors": [
        "steelblue"
       ],
       "display_legend": false,
       "names": {
        "type": null,
        "values": null
       },
       "opacity": {
        "type": null,
        "values": null
       },
       "rotation": {
        "type": null,
        "values": null
       },
       "scales": {
        "x": "IPY_MODEL_9de853c0566547328c5a898878a4ad25",
        "y": "IPY_MODEL_e4a28c222a5a460e82f41c965b181fea"
       },
       "scales_metadata": {
        "color": {
         "dimension": "color"
        },
        "opacity": {
         "dimension": "opacity"
        },
        "rotation": {
         "dimension": "rotation"
        },
        "size": {
         "dimension": "size"
        },
        "skew": {
         "dimension": "skew"
        },
        "x": {
         "dimension": "x",
         "orientation": "horizontal"
        },
        "y": {
         "dimension": "y",
         "orientation": "vertical"
        }
       },
       "selected": [
        5,
        6,
        7,
        8,
        9,
        10,
        11,
        12,
        13,
        14,
        15,
        16,
        17,
        18,
        19,
        20,
        21,
        22,
        23,
        24,
        25,
        26,
        27,
        28,
        29,
        30,
        31,
        32,
        33
       ],
       "size": {
        "type": null,
        "values": null
       },
       "skew": {
        "type": null,
        "values": null
       },
       "x": {
        "type": "float",
        "values": [
         1,
         3,
         5,
         6,
         7,
         8,
         9,
         10,
         11,
         12,
         13,
         14,
         15,
         16,
         17,
         18,
         19,
         20,
         21,
         22,
         23,
         24,
         25,
         26,
         27,
         28,
         29,
         30,
         31,
         32,
         33,
         34,
         35,
         36,
         37,
         38,
         39,
         40,
         41,
         42,
         43,
         44,
         45,
         46,
         47,
         48,
         49,
         50,
         51,
         52,
         53,
         54,
         55,
         56,
         57,
         58,
         59,
         60,
         61,
         62,
         63,
         64,
         65,
         66,
         67,
         68,
         69,
         70,
         71,
         72,
         73,
         74,
         75,
         76,
         77,
         78,
         79,
         80,
         81,
         82,
         83,
         84,
         85,
         86,
         87,
         88,
         89,
         90,
         91,
         92,
         93,
         94,
         95,
         96
        ]
       },
       "y": {
        "type": "float",
        "values": [
         4,
         4,
         1,
         1,
         10,
         32,
         67,
         173,
         456,
         823,
         1371,
         2092,
         2791,
         4946,
         6186,
         9370,
         11655,
         12835,
         12069,
         10563,
         9068,
         8280,
         7306,
         6786,
         6344,
         5995,
         5411,
         5121,
         4759,
         4233,
         4056,
         3873,
         3695,
         3580,
         3311,
         3131,
         2818,
         2687,
         2554,
         2486,
         2244,
         1992,
         2092,
         1835,
         1706,
         1525,
         1368,
         1393,
         1359,
         1189,
         1159,
         1013,
         1004,
         906,
         825,
         725,
         660,
         631,
         585,
         501,
         438,
         392,
         388,
         374,
         288,
         244,
         245,
         218,
         195,
         187,
         202,
         170,
         170,
         165,
         129,
         131,
         124,
         119,
         106,
         94,
         88,
         83,
         57,
         49,
         39,
         28,
         23,
         19,
         10,
         11,
         7,
         4,
         1,
         4
        ]
       }
      }
     },
     "eef91830ce0f484f986f6a9ce06df109": {
      "model_module": "bqplot",
      "model_module_version": "^0.4.1",
      "model_name": "FigureModel",
      "state": {
       "_dom_classes": [],
       "_model_module_version": "^0.4.1",
       "_view_module_version": "^0.4.1",
       "axes": [
        "IPY_MODEL_a34a4fb6dbed4da6a1c167f5ee7bf628",
        "IPY_MODEL_8be0162aa58448109c9ca99374ebff13"
       ],
       "interaction": "IPY_MODEL_b37892f2dc3449799e671e6abf44dfff",
       "layout": "IPY_MODEL_44479b8fa5e44786b6f544ea4e400471",
       "marks": [
        "IPY_MODEL_5ad3afda6c6f4faab1d1b2d169464b5c"
       ],
       "scale_x": "IPY_MODEL_7af6c68aba2046d7822c478f2c247c87",
       "scale_y": "IPY_MODEL_b5e99482938e4e37bbade3c614127bf3"
      }
     },
     "ef0e1fb068b643f58d125c992438f35c": {
      "model_module": "@jupyter-widgets/controls",
      "model_module_version": "1.4.0",
      "model_name": "LabelModel",
      "state": {
       "layout": "IPY_MODEL_a0c3945bfa7d45578577f3e4b59333d2",
       "style": "IPY_MODEL_88951863fa7e42b6978b7a4425a61b12",
       "value": "Total Counts: 100103"
      }
     },
     "f00a7fc6d16b4532931877bacbead99f": {
      "model_module": "bqplot",
      "model_module_version": "^0.4.1",
      "model_name": "AxisModel",
      "state": {
       "_model_module_version": "^0.4.1",
       "_view_module_version": "^0.4.1",
       "label": "Count",
       "orientation": "vertical",
       "scale": "IPY_MODEL_96d61c3af51b46f79e6ce578bcc55526",
       "side": "left",
       "tick_values": {
        "type": null,
        "values": null
       }
      }
     },
     "f0c3ea7f19d841b3bed4b5550108d119": {
      "model_module": "bqplot",
      "model_module_version": "^0.4.1",
      "model_name": "FigureModel",
      "state": {
       "_dom_classes": [],
       "_model_module_version": "^0.4.1",
       "_view_module_version": "^0.4.1",
       "axes": [
        "IPY_MODEL_adf582c2ed8245c2b82917501b6a759c",
        "IPY_MODEL_38b1348f76d44fdd8a570e298e9196e8"
       ],
       "interaction": "IPY_MODEL_7b72ef76c75c42af830071b1f9ac2b57",
       "layout": "IPY_MODEL_cdd8f1cf767447c4a01a97a87d24d3c0",
       "marks": [
        "IPY_MODEL_cafcfc41663f4973bdaff938c51eaf57"
       ],
       "scale_x": "IPY_MODEL_249dbcb6180b497d9cf9bce2dfaff9ea",
       "scale_y": "IPY_MODEL_156061e7ac174e62ad483f7377a24849"
      }
     },
     "f0e32b6888144cad92ef32c896c6d280": {
      "model_module": "bqplot",
      "model_module_version": "^0.4.1",
      "model_name": "LinearScaleModel",
      "state": {
       "_model_module_version": "^0.4.1",
       "_view_module_version": "^0.4.1",
       "stabilized": false
      }
     },
     "f250a5ff005e4baa8a39f9dd1a0759ed": {
      "model_module": "@jupyter-widgets/controls",
      "model_module_version": "1.4.0",
      "model_name": "LabelModel",
      "state": {
       "layout": "IPY_MODEL_3b87707a399044af94769cf39403115d",
       "style": "IPY_MODEL_03a27da663934d4dbe6047adc375a54c",
       "value": "Total counts for range of Age: "
      }
     },
     "f25c3cf5873741ab801064ec99b217a8": {
      "model_module": "@jupyter-widgets/controls",
      "model_module_version": "1.4.0",
      "model_name": "LabelModel",
      "state": {
       "layout": "IPY_MODEL_7ca560485fdd44d1bb9e634c7b301085",
       "style": "IPY_MODEL_98b95a2f201744dcab9a5b6ee1503e0f",
       "value": "Total Counts: 153936"
      }
     },
     "f2b7944c54da4d45b3661d4695e02278": {
      "model_module": "bqplot",
      "model_module_version": "^0.4.1",
      "model_name": "LinearScaleModel",
      "state": {
       "_model_module_version": "^0.4.1",
       "_view_module_version": "^0.4.1",
       "stabilized": false
      }
     },
     "f2bce4bd2b8948b6b5c1e1df2eb70be4": {
      "model_module": "@jupyter-widgets/controls",
      "model_module_version": "1.4.0",
      "model_name": "DescriptionStyleModel",
      "state": {
       "description_width": ""
      }
     },
     "f54d0a647329498e9d30f82d59507533": {
      "model_module": "bqplot",
      "model_module_version": "^0.4.1",
      "model_name": "AxisModel",
      "state": {
       "_model_module_version": "^0.4.1",
       "_view_module_version": "^0.4.1",
       "label": "Age",
       "scale": "IPY_MODEL_dbc3014cb1f040c2be7c56e044ea6bf5",
       "side": "bottom",
       "tick_values": {
        "type": null,
        "values": null
       }
      }
     },
     "f62f2ce737504e1da327f8ebcc29faad": {
      "model_module": "@jupyter-widgets/base",
      "model_module_version": "1.1.0",
      "model_name": "LayoutModel",
      "state": {
       "min_width": "125px"
      }
     },
     "f63723158e014dcb8d9fcd4eb3b65c17": {
      "model_module": "@jupyter-widgets/base",
      "model_module_version": "1.1.0",
      "model_name": "LayoutModel",
      "state": {}
     },
     "f6d78d4bac7049cfb3162facd6167e6a": {
      "model_module": "@jupyter-widgets/base",
      "model_module_version": "1.1.0",
      "model_name": "LayoutModel",
      "state": {
       "min_width": "125px"
      }
     },
     "f9786bb4b18c4679967620df339c3afa": {
      "model_module": "@jupyter-widgets/controls",
      "model_module_version": "1.4.0",
      "model_name": "LabelModel",
      "state": {
       "layout": "IPY_MODEL_b9246305bcba4d589ee5453f60b471f5",
       "style": "IPY_MODEL_e028a55c745848bc9f21883faa502da8",
       "value": "Total Counts: 196873"
      }
     },
     "fa9ed0d793c948dca51917097f914404": {
      "model_module": "@jupyter-widgets/controls",
      "model_module_version": "1.4.0",
      "model_name": "LabelModel",
      "state": {
       "layout": "IPY_MODEL_87afc93b31044b2ea3323ae68c33b514",
       "style": "IPY_MODEL_4c2c6f22cd5d42db81359fe2122e424b",
       "value": "Total Counts: 3256039"
      }
     },
     "fb413132b5384137a9b8c20fddcf809d": {
      "model_module": "@jupyter-widgets/controls",
      "model_module_version": "1.4.0",
      "model_name": "VBoxModel",
      "state": {
       "_dom_classes": [
        "widget-interact"
       ],
       "children": [
        "IPY_MODEL_728b6201ba9a4f198aa81624887b5cf0",
        "IPY_MODEL_51c73b4c3a6648be9090121f72d1fce3"
       ],
       "layout": "IPY_MODEL_56a83665f318477faf18fe11419e5ab3"
      }
     },
     "fb5e4de789cb4cdba83f82e074427095": {
      "model_module": "@jupyter-widgets/controls",
      "model_module_version": "1.4.0",
      "model_name": "DescriptionStyleModel",
      "state": {
       "description_width": ""
      }
     },
     "fc7e5d8e32e147038b4d8971e2001720": {
      "model_module": "@jupyter-widgets/base",
      "model_module_version": "1.1.0",
      "model_name": "LayoutModel",
      "state": {}
     },
     "fea4940e67f843f5af8b7f82680eb909": {
      "model_module": "@jupyter-widgets/base",
      "model_module_version": "1.1.0",
      "model_name": "LayoutModel",
      "state": {
       "min_width": "125px"
      }
     },
     "fec7c30e0bac4b6a9634463bb0348916": {
      "model_module": "bqplot",
      "model_module_version": "^0.4.1",
      "model_name": "LinearScaleModel",
      "state": {
       "_model_module_version": "^0.4.1",
       "_view_module_version": "^0.4.1",
       "allow_padding": false,
       "max": 1,
       "min": 0,
       "stabilized": false
      }
     }
    },
    "version_major": 2,
    "version_minor": 0
   }
  }
 },
 "nbformat": 4,
 "nbformat_minor": 2
}
